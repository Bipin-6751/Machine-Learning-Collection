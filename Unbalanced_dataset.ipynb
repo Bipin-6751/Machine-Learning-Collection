{
  "nbformat": 4,
  "nbformat_minor": 0,
  "metadata": {
    "colab": {
      "name": "Unbalanced_dataset.ipynb",
      "provenance": [],
      "authorship_tag": "ABX9TyObb6w7p+OJ62kbFNvol+iG",
      "include_colab_link": true
    },
    "kernelspec": {
      "name": "python3",
      "display_name": "Python 3"
    },
    "language_info": {
      "name": "python"
    },
    "accelerator": "GPU"
  },
  "cells": [
    {
      "cell_type": "markdown",
      "metadata": {
        "id": "view-in-github",
        "colab_type": "text"
      },
      "source": [
        "<a href=\"https://colab.research.google.com/github/Bipin-6751/Machine-Learning-Collection/blob/master/Unbalanced_dataset.ipynb\" target=\"_parent\"><img src=\"https://colab.research.google.com/assets/colab-badge.svg\" alt=\"Open In Colab\"/></a>"
      ]
    },
    {
      "cell_type": "code",
      "execution_count": 9,
      "metadata": {
        "id": "S5-WAv8BKUP5"
      },
      "outputs": [],
      "source": [
        "import pandas as pd\n",
        "from matplotlib import pyplot as plt\n",
        "import numpy as np\n",
        "%matplotlib inline\n",
        "\n",
        "import warnings\n",
        "warnings.filterwarnings('ignore')"
      ]
    },
    {
      "cell_type": "code",
      "source": [
        "!pip install tensorflow_addons"
      ],
      "metadata": {
        "colab": {
          "base_uri": "https://localhost:8080/"
        },
        "id": "aWET1M9nMLQI",
        "outputId": "2577db86-a10e-47d2-c504-3efa989d9740"
      },
      "execution_count": 10,
      "outputs": [
        {
          "output_type": "stream",
          "name": "stdout",
          "text": [
            "Requirement already satisfied: tensorflow_addons in /usr/local/lib/python3.7/dist-packages (0.16.1)\n",
            "Requirement already satisfied: typeguard>=2.7 in /usr/local/lib/python3.7/dist-packages (from tensorflow_addons) (2.7.1)\n"
          ]
        }
      ]
    },
    {
      "cell_type": "code",
      "source": [
        "from tensorflow_addons import losses"
      ],
      "metadata": {
        "id": "6fAl7FRjLawP"
      },
      "execution_count": 11,
      "outputs": []
    },
    {
      "cell_type": "code",
      "source": [
        "import tensorflow as tf\n",
        "from tensorflow import keras\n",
        "from sklearn.metrics import confusion_matrix , classification_report"
      ],
      "metadata": {
        "id": "k8MCh959MSpa"
      },
      "execution_count": 12,
      "outputs": []
    },
    {
      "cell_type": "code",
      "source": [
        "def ANN(X_train, y_train, X_test, y_test, loss, weights):\n",
        "    model = keras.Sequential([\n",
        "        keras.layers.Dense(26, input_dim=26, activation='relu'),\n",
        "        keras.layers.Dense(15, activation='relu'),\n",
        "        keras.layers.Dense(1, activation='sigmoid')\n",
        "    ])\n",
        "\n",
        "    model.compile(optimizer='adam', loss=loss, metrics=['accuracy'])\n",
        "    \n",
        "    if weights == -1:\n",
        "        model.fit(X_train, y_train, epochs=100)\n",
        "    else:\n",
        "        model.fit(X_train, y_train, epochs=100, class_weight = weights)\n",
        "    \n",
        "    print(model.evaluate(X_test, y_test))\n",
        "    \n",
        "    y_preds = model.predict(X_test)\n",
        "    y_preds = np.round(y_preds)\n",
        "    \n",
        "    print(\"Classification Report: \\n\", classification_report(y_test, y_preds))\n",
        "    \n",
        "    return y_preds"
      ],
      "metadata": {
        "id": "EB3URAIPMXUV"
      },
      "execution_count": 13,
      "outputs": []
    },
    {
      "cell_type": "code",
      "source": [
        "import pandas as pd\n",
        "from matplotlib import pyplot as plt\n",
        "import numpy as np\n",
        "%matplotlib inline"
      ],
      "metadata": {
        "id": "HPEpSEP1NEDZ"
      },
      "execution_count": 14,
      "outputs": []
    },
    {
      "cell_type": "code",
      "source": [
        "df = pd.read_csv('/content/customer_churn.csv')"
      ],
      "metadata": {
        "id": "O3fLpqcPNIB-"
      },
      "execution_count": 15,
      "outputs": []
    },
    {
      "cell_type": "code",
      "source": [
        "df.drop('customerID', axis='columns', inplace=True)\n",
        "df.dtypes"
      ],
      "metadata": {
        "colab": {
          "base_uri": "https://localhost:8080/"
        },
        "id": "Va1tCItwNzOb",
        "outputId": "befd46e5-85bd-4279-e6e5-51a5f94fc4e4"
      },
      "execution_count": 16,
      "outputs": [
        {
          "output_type": "execute_result",
          "data": {
            "text/plain": [
              "gender               object\n",
              "SeniorCitizen         int64\n",
              "Partner              object\n",
              "Dependents           object\n",
              "tenure                int64\n",
              "PhoneService         object\n",
              "MultipleLines        object\n",
              "InternetService      object\n",
              "OnlineSecurity       object\n",
              "OnlineBackup         object\n",
              "DeviceProtection     object\n",
              "TechSupport          object\n",
              "StreamingTV          object\n",
              "StreamingMovies      object\n",
              "Contract             object\n",
              "PaperlessBilling     object\n",
              "PaymentMethod        object\n",
              "MonthlyCharges      float64\n",
              "TotalCharges         object\n",
              "Churn                object\n",
              "dtype: object"
            ]
          },
          "metadata": {},
          "execution_count": 16
        }
      ]
    },
    {
      "cell_type": "code",
      "source": [
        "pd.to_numeric(df.TotalCharges, errors='coerce').isnull()"
      ],
      "metadata": {
        "colab": {
          "base_uri": "https://localhost:8080/"
        },
        "id": "I7LzpK_aN0l7",
        "outputId": "c560237c-02b7-4166-ae27-691e075645b0"
      },
      "execution_count": 17,
      "outputs": [
        {
          "output_type": "execute_result",
          "data": {
            "text/plain": [
              "0       False\n",
              "1       False\n",
              "2       False\n",
              "3       False\n",
              "4       False\n",
              "        ...  \n",
              "7038    False\n",
              "7039    False\n",
              "7040    False\n",
              "7041    False\n",
              "7042    False\n",
              "Name: TotalCharges, Length: 7043, dtype: bool"
            ]
          },
          "metadata": {},
          "execution_count": 17
        }
      ]
    },
    {
      "cell_type": "code",
      "source": [
        "df[pd.to_numeric(df.TotalCharges, errors='coerce').isnull()]"
      ],
      "metadata": {
        "colab": {
          "base_uri": "https://localhost:8080/",
          "height": 614
        },
        "id": "SshWdFLLOA8j",
        "outputId": "1374138b-2e6b-40ef-958e-c2b03f03aa6a"
      },
      "execution_count": 18,
      "outputs": [
        {
          "output_type": "execute_result",
          "data": {
            "text/plain": [
              "      gender  SeniorCitizen Partner Dependents  tenure PhoneService  \\\n",
              "488   Female              0     Yes        Yes       0           No   \n",
              "753     Male              0      No        Yes       0          Yes   \n",
              "936   Female              0     Yes        Yes       0          Yes   \n",
              "1082    Male              0     Yes        Yes       0          Yes   \n",
              "1340  Female              0     Yes        Yes       0           No   \n",
              "3331    Male              0     Yes        Yes       0          Yes   \n",
              "3826    Male              0     Yes        Yes       0          Yes   \n",
              "4380  Female              0     Yes        Yes       0          Yes   \n",
              "5218    Male              0     Yes        Yes       0          Yes   \n",
              "6670  Female              0     Yes        Yes       0          Yes   \n",
              "6754    Male              0      No        Yes       0          Yes   \n",
              "\n",
              "         MultipleLines InternetService       OnlineSecurity  \\\n",
              "488   No phone service             DSL                  Yes   \n",
              "753                 No              No  No internet service   \n",
              "936                 No             DSL                  Yes   \n",
              "1082               Yes              No  No internet service   \n",
              "1340  No phone service             DSL                  Yes   \n",
              "3331                No              No  No internet service   \n",
              "3826               Yes              No  No internet service   \n",
              "4380                No              No  No internet service   \n",
              "5218                No              No  No internet service   \n",
              "6670               Yes             DSL                   No   \n",
              "6754               Yes             DSL                  Yes   \n",
              "\n",
              "             OnlineBackup     DeviceProtection          TechSupport  \\\n",
              "488                    No                  Yes                  Yes   \n",
              "753   No internet service  No internet service  No internet service   \n",
              "936                   Yes                  Yes                   No   \n",
              "1082  No internet service  No internet service  No internet service   \n",
              "1340                  Yes                  Yes                  Yes   \n",
              "3331  No internet service  No internet service  No internet service   \n",
              "3826  No internet service  No internet service  No internet service   \n",
              "4380  No internet service  No internet service  No internet service   \n",
              "5218  No internet service  No internet service  No internet service   \n",
              "6670                  Yes                  Yes                  Yes   \n",
              "6754                  Yes                   No                  Yes   \n",
              "\n",
              "              StreamingTV      StreamingMovies  Contract PaperlessBilling  \\\n",
              "488                   Yes                   No  Two year              Yes   \n",
              "753   No internet service  No internet service  Two year               No   \n",
              "936                   Yes                  Yes  Two year               No   \n",
              "1082  No internet service  No internet service  Two year               No   \n",
              "1340                  Yes                   No  Two year               No   \n",
              "3331  No internet service  No internet service  Two year               No   \n",
              "3826  No internet service  No internet service  Two year               No   \n",
              "4380  No internet service  No internet service  Two year               No   \n",
              "5218  No internet service  No internet service  One year              Yes   \n",
              "6670                  Yes                   No  Two year               No   \n",
              "6754                   No                   No  Two year              Yes   \n",
              "\n",
              "                  PaymentMethod  MonthlyCharges TotalCharges Churn  \n",
              "488   Bank transfer (automatic)           52.55                 No  \n",
              "753                Mailed check           20.25                 No  \n",
              "936                Mailed check           80.85                 No  \n",
              "1082               Mailed check           25.75                 No  \n",
              "1340    Credit card (automatic)           56.05                 No  \n",
              "3331               Mailed check           19.85                 No  \n",
              "3826               Mailed check           25.35                 No  \n",
              "4380               Mailed check           20.00                 No  \n",
              "5218               Mailed check           19.70                 No  \n",
              "6670               Mailed check           73.35                 No  \n",
              "6754  Bank transfer (automatic)           61.90                 No  "
            ],
            "text/html": [
              "\n",
              "  <div id=\"df-b2435353-30d2-43c1-ad4f-0f5cd2f31f22\">\n",
              "    <div class=\"colab-df-container\">\n",
              "      <div>\n",
              "<style scoped>\n",
              "    .dataframe tbody tr th:only-of-type {\n",
              "        vertical-align: middle;\n",
              "    }\n",
              "\n",
              "    .dataframe tbody tr th {\n",
              "        vertical-align: top;\n",
              "    }\n",
              "\n",
              "    .dataframe thead th {\n",
              "        text-align: right;\n",
              "    }\n",
              "</style>\n",
              "<table border=\"1\" class=\"dataframe\">\n",
              "  <thead>\n",
              "    <tr style=\"text-align: right;\">\n",
              "      <th></th>\n",
              "      <th>gender</th>\n",
              "      <th>SeniorCitizen</th>\n",
              "      <th>Partner</th>\n",
              "      <th>Dependents</th>\n",
              "      <th>tenure</th>\n",
              "      <th>PhoneService</th>\n",
              "      <th>MultipleLines</th>\n",
              "      <th>InternetService</th>\n",
              "      <th>OnlineSecurity</th>\n",
              "      <th>OnlineBackup</th>\n",
              "      <th>DeviceProtection</th>\n",
              "      <th>TechSupport</th>\n",
              "      <th>StreamingTV</th>\n",
              "      <th>StreamingMovies</th>\n",
              "      <th>Contract</th>\n",
              "      <th>PaperlessBilling</th>\n",
              "      <th>PaymentMethod</th>\n",
              "      <th>MonthlyCharges</th>\n",
              "      <th>TotalCharges</th>\n",
              "      <th>Churn</th>\n",
              "    </tr>\n",
              "  </thead>\n",
              "  <tbody>\n",
              "    <tr>\n",
              "      <th>488</th>\n",
              "      <td>Female</td>\n",
              "      <td>0</td>\n",
              "      <td>Yes</td>\n",
              "      <td>Yes</td>\n",
              "      <td>0</td>\n",
              "      <td>No</td>\n",
              "      <td>No phone service</td>\n",
              "      <td>DSL</td>\n",
              "      <td>Yes</td>\n",
              "      <td>No</td>\n",
              "      <td>Yes</td>\n",
              "      <td>Yes</td>\n",
              "      <td>Yes</td>\n",
              "      <td>No</td>\n",
              "      <td>Two year</td>\n",
              "      <td>Yes</td>\n",
              "      <td>Bank transfer (automatic)</td>\n",
              "      <td>52.55</td>\n",
              "      <td></td>\n",
              "      <td>No</td>\n",
              "    </tr>\n",
              "    <tr>\n",
              "      <th>753</th>\n",
              "      <td>Male</td>\n",
              "      <td>0</td>\n",
              "      <td>No</td>\n",
              "      <td>Yes</td>\n",
              "      <td>0</td>\n",
              "      <td>Yes</td>\n",
              "      <td>No</td>\n",
              "      <td>No</td>\n",
              "      <td>No internet service</td>\n",
              "      <td>No internet service</td>\n",
              "      <td>No internet service</td>\n",
              "      <td>No internet service</td>\n",
              "      <td>No internet service</td>\n",
              "      <td>No internet service</td>\n",
              "      <td>Two year</td>\n",
              "      <td>No</td>\n",
              "      <td>Mailed check</td>\n",
              "      <td>20.25</td>\n",
              "      <td></td>\n",
              "      <td>No</td>\n",
              "    </tr>\n",
              "    <tr>\n",
              "      <th>936</th>\n",
              "      <td>Female</td>\n",
              "      <td>0</td>\n",
              "      <td>Yes</td>\n",
              "      <td>Yes</td>\n",
              "      <td>0</td>\n",
              "      <td>Yes</td>\n",
              "      <td>No</td>\n",
              "      <td>DSL</td>\n",
              "      <td>Yes</td>\n",
              "      <td>Yes</td>\n",
              "      <td>Yes</td>\n",
              "      <td>No</td>\n",
              "      <td>Yes</td>\n",
              "      <td>Yes</td>\n",
              "      <td>Two year</td>\n",
              "      <td>No</td>\n",
              "      <td>Mailed check</td>\n",
              "      <td>80.85</td>\n",
              "      <td></td>\n",
              "      <td>No</td>\n",
              "    </tr>\n",
              "    <tr>\n",
              "      <th>1082</th>\n",
              "      <td>Male</td>\n",
              "      <td>0</td>\n",
              "      <td>Yes</td>\n",
              "      <td>Yes</td>\n",
              "      <td>0</td>\n",
              "      <td>Yes</td>\n",
              "      <td>Yes</td>\n",
              "      <td>No</td>\n",
              "      <td>No internet service</td>\n",
              "      <td>No internet service</td>\n",
              "      <td>No internet service</td>\n",
              "      <td>No internet service</td>\n",
              "      <td>No internet service</td>\n",
              "      <td>No internet service</td>\n",
              "      <td>Two year</td>\n",
              "      <td>No</td>\n",
              "      <td>Mailed check</td>\n",
              "      <td>25.75</td>\n",
              "      <td></td>\n",
              "      <td>No</td>\n",
              "    </tr>\n",
              "    <tr>\n",
              "      <th>1340</th>\n",
              "      <td>Female</td>\n",
              "      <td>0</td>\n",
              "      <td>Yes</td>\n",
              "      <td>Yes</td>\n",
              "      <td>0</td>\n",
              "      <td>No</td>\n",
              "      <td>No phone service</td>\n",
              "      <td>DSL</td>\n",
              "      <td>Yes</td>\n",
              "      <td>Yes</td>\n",
              "      <td>Yes</td>\n",
              "      <td>Yes</td>\n",
              "      <td>Yes</td>\n",
              "      <td>No</td>\n",
              "      <td>Two year</td>\n",
              "      <td>No</td>\n",
              "      <td>Credit card (automatic)</td>\n",
              "      <td>56.05</td>\n",
              "      <td></td>\n",
              "      <td>No</td>\n",
              "    </tr>\n",
              "    <tr>\n",
              "      <th>3331</th>\n",
              "      <td>Male</td>\n",
              "      <td>0</td>\n",
              "      <td>Yes</td>\n",
              "      <td>Yes</td>\n",
              "      <td>0</td>\n",
              "      <td>Yes</td>\n",
              "      <td>No</td>\n",
              "      <td>No</td>\n",
              "      <td>No internet service</td>\n",
              "      <td>No internet service</td>\n",
              "      <td>No internet service</td>\n",
              "      <td>No internet service</td>\n",
              "      <td>No internet service</td>\n",
              "      <td>No internet service</td>\n",
              "      <td>Two year</td>\n",
              "      <td>No</td>\n",
              "      <td>Mailed check</td>\n",
              "      <td>19.85</td>\n",
              "      <td></td>\n",
              "      <td>No</td>\n",
              "    </tr>\n",
              "    <tr>\n",
              "      <th>3826</th>\n",
              "      <td>Male</td>\n",
              "      <td>0</td>\n",
              "      <td>Yes</td>\n",
              "      <td>Yes</td>\n",
              "      <td>0</td>\n",
              "      <td>Yes</td>\n",
              "      <td>Yes</td>\n",
              "      <td>No</td>\n",
              "      <td>No internet service</td>\n",
              "      <td>No internet service</td>\n",
              "      <td>No internet service</td>\n",
              "      <td>No internet service</td>\n",
              "      <td>No internet service</td>\n",
              "      <td>No internet service</td>\n",
              "      <td>Two year</td>\n",
              "      <td>No</td>\n",
              "      <td>Mailed check</td>\n",
              "      <td>25.35</td>\n",
              "      <td></td>\n",
              "      <td>No</td>\n",
              "    </tr>\n",
              "    <tr>\n",
              "      <th>4380</th>\n",
              "      <td>Female</td>\n",
              "      <td>0</td>\n",
              "      <td>Yes</td>\n",
              "      <td>Yes</td>\n",
              "      <td>0</td>\n",
              "      <td>Yes</td>\n",
              "      <td>No</td>\n",
              "      <td>No</td>\n",
              "      <td>No internet service</td>\n",
              "      <td>No internet service</td>\n",
              "      <td>No internet service</td>\n",
              "      <td>No internet service</td>\n",
              "      <td>No internet service</td>\n",
              "      <td>No internet service</td>\n",
              "      <td>Two year</td>\n",
              "      <td>No</td>\n",
              "      <td>Mailed check</td>\n",
              "      <td>20.00</td>\n",
              "      <td></td>\n",
              "      <td>No</td>\n",
              "    </tr>\n",
              "    <tr>\n",
              "      <th>5218</th>\n",
              "      <td>Male</td>\n",
              "      <td>0</td>\n",
              "      <td>Yes</td>\n",
              "      <td>Yes</td>\n",
              "      <td>0</td>\n",
              "      <td>Yes</td>\n",
              "      <td>No</td>\n",
              "      <td>No</td>\n",
              "      <td>No internet service</td>\n",
              "      <td>No internet service</td>\n",
              "      <td>No internet service</td>\n",
              "      <td>No internet service</td>\n",
              "      <td>No internet service</td>\n",
              "      <td>No internet service</td>\n",
              "      <td>One year</td>\n",
              "      <td>Yes</td>\n",
              "      <td>Mailed check</td>\n",
              "      <td>19.70</td>\n",
              "      <td></td>\n",
              "      <td>No</td>\n",
              "    </tr>\n",
              "    <tr>\n",
              "      <th>6670</th>\n",
              "      <td>Female</td>\n",
              "      <td>0</td>\n",
              "      <td>Yes</td>\n",
              "      <td>Yes</td>\n",
              "      <td>0</td>\n",
              "      <td>Yes</td>\n",
              "      <td>Yes</td>\n",
              "      <td>DSL</td>\n",
              "      <td>No</td>\n",
              "      <td>Yes</td>\n",
              "      <td>Yes</td>\n",
              "      <td>Yes</td>\n",
              "      <td>Yes</td>\n",
              "      <td>No</td>\n",
              "      <td>Two year</td>\n",
              "      <td>No</td>\n",
              "      <td>Mailed check</td>\n",
              "      <td>73.35</td>\n",
              "      <td></td>\n",
              "      <td>No</td>\n",
              "    </tr>\n",
              "    <tr>\n",
              "      <th>6754</th>\n",
              "      <td>Male</td>\n",
              "      <td>0</td>\n",
              "      <td>No</td>\n",
              "      <td>Yes</td>\n",
              "      <td>0</td>\n",
              "      <td>Yes</td>\n",
              "      <td>Yes</td>\n",
              "      <td>DSL</td>\n",
              "      <td>Yes</td>\n",
              "      <td>Yes</td>\n",
              "      <td>No</td>\n",
              "      <td>Yes</td>\n",
              "      <td>No</td>\n",
              "      <td>No</td>\n",
              "      <td>Two year</td>\n",
              "      <td>Yes</td>\n",
              "      <td>Bank transfer (automatic)</td>\n",
              "      <td>61.90</td>\n",
              "      <td></td>\n",
              "      <td>No</td>\n",
              "    </tr>\n",
              "  </tbody>\n",
              "</table>\n",
              "</div>\n",
              "      <button class=\"colab-df-convert\" onclick=\"convertToInteractive('df-b2435353-30d2-43c1-ad4f-0f5cd2f31f22')\"\n",
              "              title=\"Convert this dataframe to an interactive table.\"\n",
              "              style=\"display:none;\">\n",
              "        \n",
              "  <svg xmlns=\"http://www.w3.org/2000/svg\" height=\"24px\"viewBox=\"0 0 24 24\"\n",
              "       width=\"24px\">\n",
              "    <path d=\"M0 0h24v24H0V0z\" fill=\"none\"/>\n",
              "    <path d=\"M18.56 5.44l.94 2.06.94-2.06 2.06-.94-2.06-.94-.94-2.06-.94 2.06-2.06.94zm-11 1L8.5 8.5l.94-2.06 2.06-.94-2.06-.94L8.5 2.5l-.94 2.06-2.06.94zm10 10l.94 2.06.94-2.06 2.06-.94-2.06-.94-.94-2.06-.94 2.06-2.06.94z\"/><path d=\"M17.41 7.96l-1.37-1.37c-.4-.4-.92-.59-1.43-.59-.52 0-1.04.2-1.43.59L10.3 9.45l-7.72 7.72c-.78.78-.78 2.05 0 2.83L4 21.41c.39.39.9.59 1.41.59.51 0 1.02-.2 1.41-.59l7.78-7.78 2.81-2.81c.8-.78.8-2.07 0-2.86zM5.41 20L4 18.59l7.72-7.72 1.47 1.35L5.41 20z\"/>\n",
              "  </svg>\n",
              "      </button>\n",
              "      \n",
              "  <style>\n",
              "    .colab-df-container {\n",
              "      display:flex;\n",
              "      flex-wrap:wrap;\n",
              "      gap: 12px;\n",
              "    }\n",
              "\n",
              "    .colab-df-convert {\n",
              "      background-color: #E8F0FE;\n",
              "      border: none;\n",
              "      border-radius: 50%;\n",
              "      cursor: pointer;\n",
              "      display: none;\n",
              "      fill: #1967D2;\n",
              "      height: 32px;\n",
              "      padding: 0 0 0 0;\n",
              "      width: 32px;\n",
              "    }\n",
              "\n",
              "    .colab-df-convert:hover {\n",
              "      background-color: #E2EBFA;\n",
              "      box-shadow: 0px 1px 2px rgba(60, 64, 67, 0.3), 0px 1px 3px 1px rgba(60, 64, 67, 0.15);\n",
              "      fill: #174EA6;\n",
              "    }\n",
              "\n",
              "    [theme=dark] .colab-df-convert {\n",
              "      background-color: #3B4455;\n",
              "      fill: #D2E3FC;\n",
              "    }\n",
              "\n",
              "    [theme=dark] .colab-df-convert:hover {\n",
              "      background-color: #434B5C;\n",
              "      box-shadow: 0px 1px 3px 1px rgba(0, 0, 0, 0.15);\n",
              "      filter: drop-shadow(0px 1px 2px rgba(0, 0, 0, 0.3));\n",
              "      fill: #FFFFFF;\n",
              "    }\n",
              "  </style>\n",
              "\n",
              "      <script>\n",
              "        const buttonEl =\n",
              "          document.querySelector('#df-b2435353-30d2-43c1-ad4f-0f5cd2f31f22 button.colab-df-convert');\n",
              "        buttonEl.style.display =\n",
              "          google.colab.kernel.accessAllowed ? 'block' : 'none';\n",
              "\n",
              "        async function convertToInteractive(key) {\n",
              "          const element = document.querySelector('#df-b2435353-30d2-43c1-ad4f-0f5cd2f31f22');\n",
              "          const dataTable =\n",
              "            await google.colab.kernel.invokeFunction('convertToInteractive',\n",
              "                                                     [key], {});\n",
              "          if (!dataTable) return;\n",
              "\n",
              "          const docLinkHtml = 'Like what you see? Visit the ' +\n",
              "            '<a target=\"_blank\" href=https://colab.research.google.com/notebooks/data_table.ipynb>data table notebook</a>'\n",
              "            + ' to learn more about interactive tables.';\n",
              "          element.innerHTML = '';\n",
              "          dataTable['output_type'] = 'display_data';\n",
              "          await google.colab.output.renderOutput(dataTable, element);\n",
              "          const docLink = document.createElement('div');\n",
              "          docLink.innerHTML = docLinkHtml;\n",
              "          element.appendChild(docLink);\n",
              "        }\n",
              "      </script>\n",
              "    </div>\n",
              "  </div>\n",
              "  "
            ]
          },
          "metadata": {},
          "execution_count": 18
        }
      ]
    },
    {
      "cell_type": "code",
      "source": [
        "df1 = df[df.TotalCharges!=' '] # droping rows which has space in total charges column to create new df\n",
        "df1.shape"
      ],
      "metadata": {
        "colab": {
          "base_uri": "https://localhost:8080/"
        },
        "id": "PY9Gjxf1Oqmo",
        "outputId": "d87f05bc-fe81-49e6-8cc2-1a636c3039f8"
      },
      "execution_count": 19,
      "outputs": [
        {
          "output_type": "execute_result",
          "data": {
            "text/plain": [
              "(7032, 20)"
            ]
          },
          "metadata": {},
          "execution_count": 19
        }
      ]
    },
    {
      "cell_type": "code",
      "source": [
        "df1.TotalCharges = pd.to_numeric(df1.TotalCharges) #changing opject into number value"
      ],
      "metadata": {
        "id": "7El4x0_QOr-3"
      },
      "execution_count": 20,
      "outputs": []
    },
    {
      "cell_type": "code",
      "source": [
        "def print_unique_col_values(df):\n",
        "  for column in df:\n",
        "    if df[column].dtypes == 'object':\n",
        "      print(f'{column} :{df[column].unique()}')"
      ],
      "metadata": {
        "id": "pGHGxoUAPHcK"
      },
      "execution_count": 21,
      "outputs": []
    },
    {
      "cell_type": "code",
      "source": [
        "print_unique_col_values(df1)"
      ],
      "metadata": {
        "colab": {
          "base_uri": "https://localhost:8080/"
        },
        "id": "vH1JpfI2PIna",
        "outputId": "28292853-2869-460a-c923-f5dbcdb9f5f8"
      },
      "execution_count": 22,
      "outputs": [
        {
          "output_type": "stream",
          "name": "stdout",
          "text": [
            "gender :['Female' 'Male']\n",
            "Partner :['Yes' 'No']\n",
            "Dependents :['No' 'Yes']\n",
            "PhoneService :['No' 'Yes']\n",
            "MultipleLines :['No phone service' 'No' 'Yes']\n",
            "InternetService :['DSL' 'Fiber optic' 'No']\n",
            "OnlineSecurity :['No' 'Yes' 'No internet service']\n",
            "OnlineBackup :['Yes' 'No' 'No internet service']\n",
            "DeviceProtection :['No' 'Yes' 'No internet service']\n",
            "TechSupport :['No' 'Yes' 'No internet service']\n",
            "StreamingTV :['No' 'Yes' 'No internet service']\n",
            "StreamingMovies :['No' 'Yes' 'No internet service']\n",
            "Contract :['Month-to-month' 'One year' 'Two year']\n",
            "PaperlessBilling :['Yes' 'No']\n",
            "PaymentMethod :['Electronic check' 'Mailed check' 'Bank transfer (automatic)'\n",
            " 'Credit card (automatic)']\n",
            "Churn :['No' 'Yes']\n"
          ]
        }
      ]
    },
    {
      "cell_type": "code",
      "source": [
        "df1.replace('No internet service', 'No', inplace=True)\n",
        "df1.replace('No phone service', 'No', inplace=True)"
      ],
      "metadata": {
        "id": "uyOKSaNYPLxR"
      },
      "execution_count": 23,
      "outputs": []
    },
    {
      "cell_type": "code",
      "source": [
        "print_unique_col_values(df1)"
      ],
      "metadata": {
        "colab": {
          "base_uri": "https://localhost:8080/"
        },
        "id": "JQ26_5HUPO3U",
        "outputId": "d3258427-5013-4b05-b693-dcb73b65623a"
      },
      "execution_count": 24,
      "outputs": [
        {
          "output_type": "stream",
          "name": "stdout",
          "text": [
            "gender :['Female' 'Male']\n",
            "Partner :['Yes' 'No']\n",
            "Dependents :['No' 'Yes']\n",
            "PhoneService :['No' 'Yes']\n",
            "MultipleLines :['No' 'Yes']\n",
            "InternetService :['DSL' 'Fiber optic' 'No']\n",
            "OnlineSecurity :['No' 'Yes']\n",
            "OnlineBackup :['Yes' 'No']\n",
            "DeviceProtection :['No' 'Yes']\n",
            "TechSupport :['No' 'Yes']\n",
            "StreamingTV :['No' 'Yes']\n",
            "StreamingMovies :['No' 'Yes']\n",
            "Contract :['Month-to-month' 'One year' 'Two year']\n",
            "PaperlessBilling :['Yes' 'No']\n",
            "PaymentMethod :['Electronic check' 'Mailed check' 'Bank transfer (automatic)'\n",
            " 'Credit card (automatic)']\n",
            "Churn :['No' 'Yes']\n"
          ]
        }
      ]
    },
    {
      "cell_type": "code",
      "source": [
        "yes_no_column = ['Partner', 'Dependents', 'PhoneService', 'MultipleLines', 'OnlineSecurity',\n",
        "                 'OnlineBackup', 'DeviceProtection', 'TechSupport', 'StreamingTV',\n",
        "                 'StreamingMovies', 'PaperlessBilling', 'Churn']\n",
        "\n",
        "for col in yes_no_column:\n",
        "  df1[col].replace({'Yes':1, 'No':0}, inplace=True)"
      ],
      "metadata": {
        "id": "20GGUfCSPUz0"
      },
      "execution_count": 25,
      "outputs": []
    },
    {
      "cell_type": "code",
      "source": [
        "for column in df1:\n",
        "  print(f'{column} :{df1[column].unique()}')"
      ],
      "metadata": {
        "colab": {
          "base_uri": "https://localhost:8080/"
        },
        "id": "xUdiyUfqPRZt",
        "outputId": "b3cd2162-8358-4802-aa83-a54ee7c409e7"
      },
      "execution_count": 26,
      "outputs": [
        {
          "output_type": "stream",
          "name": "stdout",
          "text": [
            "gender :['Female' 'Male']\n",
            "SeniorCitizen :[0 1]\n",
            "Partner :[1 0]\n",
            "Dependents :[0 1]\n",
            "tenure :[ 1 34  2 45  8 22 10 28 62 13 16 58 49 25 69 52 71 21 12 30 47 72 17 27\n",
            "  5 46 11 70 63 43 15 60 18 66  9  3 31 50 64 56  7 42 35 48 29 65 38 68\n",
            " 32 55 37 36 41  6  4 33 67 23 57 61 14 20 53 40 59 24 44 19 54 51 26 39]\n",
            "PhoneService :[0 1]\n",
            "MultipleLines :[0 1]\n",
            "InternetService :['DSL' 'Fiber optic' 'No']\n",
            "OnlineSecurity :[0 1]\n",
            "OnlineBackup :[1 0]\n",
            "DeviceProtection :[0 1]\n",
            "TechSupport :[0 1]\n",
            "StreamingTV :[0 1]\n",
            "StreamingMovies :[0 1]\n",
            "Contract :['Month-to-month' 'One year' 'Two year']\n",
            "PaperlessBilling :[1 0]\n",
            "PaymentMethod :['Electronic check' 'Mailed check' 'Bank transfer (automatic)'\n",
            " 'Credit card (automatic)']\n",
            "MonthlyCharges :[29.85 56.95 53.85 ... 63.1  44.2  78.7 ]\n",
            "TotalCharges :[  29.85 1889.5   108.15 ...  346.45  306.6  6844.5 ]\n",
            "Churn :[0 1]\n"
          ]
        }
      ]
    },
    {
      "cell_type": "code",
      "source": [
        "df1['gender'].replace({'Female':1, 'Male':0}, inplace=True)"
      ],
      "metadata": {
        "id": "bl30IsvuPaOp"
      },
      "execution_count": 27,
      "outputs": []
    },
    {
      "cell_type": "code",
      "source": [
        "df2 = pd.get_dummies(data=df1, columns=['InternetService', 'Contract', 'PaymentMethod'])\n",
        "df2.columns"
      ],
      "metadata": {
        "colab": {
          "base_uri": "https://localhost:8080/"
        },
        "id": "nJZGj8QzPaDp",
        "outputId": "dc0b69ac-de08-4bf2-a4ce-f86f6ebc93ee"
      },
      "execution_count": 28,
      "outputs": [
        {
          "output_type": "execute_result",
          "data": {
            "text/plain": [
              "Index(['gender', 'SeniorCitizen', 'Partner', 'Dependents', 'tenure',\n",
              "       'PhoneService', 'MultipleLines', 'OnlineSecurity', 'OnlineBackup',\n",
              "       'DeviceProtection', 'TechSupport', 'StreamingTV', 'StreamingMovies',\n",
              "       'PaperlessBilling', 'MonthlyCharges', 'TotalCharges', 'Churn',\n",
              "       'InternetService_DSL', 'InternetService_Fiber optic',\n",
              "       'InternetService_No', 'Contract_Month-to-month', 'Contract_One year',\n",
              "       'Contract_Two year', 'PaymentMethod_Bank transfer (automatic)',\n",
              "       'PaymentMethod_Credit card (automatic)',\n",
              "       'PaymentMethod_Electronic check', 'PaymentMethod_Mailed check'],\n",
              "      dtype='object')"
            ]
          },
          "metadata": {},
          "execution_count": 28
        }
      ]
    },
    {
      "cell_type": "code",
      "source": [
        "df2.dtypes"
      ],
      "metadata": {
        "colab": {
          "base_uri": "https://localhost:8080/"
        },
        "id": "fwU2cIsyPktQ",
        "outputId": "57aed6ab-62ee-46a0-8d07-e11349a5f7d9"
      },
      "execution_count": 29,
      "outputs": [
        {
          "output_type": "execute_result",
          "data": {
            "text/plain": [
              "gender                                       int64\n",
              "SeniorCitizen                                int64\n",
              "Partner                                      int64\n",
              "Dependents                                   int64\n",
              "tenure                                       int64\n",
              "PhoneService                                 int64\n",
              "MultipleLines                                int64\n",
              "OnlineSecurity                               int64\n",
              "OnlineBackup                                 int64\n",
              "DeviceProtection                             int64\n",
              "TechSupport                                  int64\n",
              "StreamingTV                                  int64\n",
              "StreamingMovies                              int64\n",
              "PaperlessBilling                             int64\n",
              "MonthlyCharges                             float64\n",
              "TotalCharges                               float64\n",
              "Churn                                        int64\n",
              "InternetService_DSL                          uint8\n",
              "InternetService_Fiber optic                  uint8\n",
              "InternetService_No                           uint8\n",
              "Contract_Month-to-month                      uint8\n",
              "Contract_One year                            uint8\n",
              "Contract_Two year                            uint8\n",
              "PaymentMethod_Bank transfer (automatic)      uint8\n",
              "PaymentMethod_Credit card (automatic)        uint8\n",
              "PaymentMethod_Electronic check               uint8\n",
              "PaymentMethod_Mailed check                   uint8\n",
              "dtype: object"
            ]
          },
          "metadata": {},
          "execution_count": 29
        }
      ]
    },
    {
      "cell_type": "code",
      "source": [
        "cols_to_scale = ['tenure', 'MonthlyCharges', 'TotalCharges']\n",
        "\n",
        "from sklearn.preprocessing import MinMaxScaler\n",
        "scaler = MinMaxScaler()\n",
        "\n",
        "df2[cols_to_scale]= scaler.fit_transform(df2[cols_to_scale])"
      ],
      "metadata": {
        "id": "TNiPOP5PPx5S"
      },
      "execution_count": 30,
      "outputs": []
    },
    {
      "cell_type": "code",
      "source": [
        "for column in df2:\n",
        "  print(f'{column} :{df2[column].unique()}')"
      ],
      "metadata": {
        "colab": {
          "base_uri": "https://localhost:8080/"
        },
        "id": "8oiWIqU0PzNk",
        "outputId": "f2ef36d4-f46f-4c9e-d061-fdde93ee3e03"
      },
      "execution_count": 31,
      "outputs": [
        {
          "output_type": "stream",
          "name": "stdout",
          "text": [
            "gender :[1 0]\n",
            "SeniorCitizen :[0 1]\n",
            "Partner :[1 0]\n",
            "Dependents :[0 1]\n",
            "tenure :[0.         0.46478873 0.01408451 0.61971831 0.09859155 0.29577465\n",
            " 0.12676056 0.38028169 0.85915493 0.16901408 0.21126761 0.8028169\n",
            " 0.67605634 0.33802817 0.95774648 0.71830986 0.98591549 0.28169014\n",
            " 0.15492958 0.4084507  0.64788732 1.         0.22535211 0.36619718\n",
            " 0.05633803 0.63380282 0.14084507 0.97183099 0.87323944 0.5915493\n",
            " 0.1971831  0.83098592 0.23943662 0.91549296 0.11267606 0.02816901\n",
            " 0.42253521 0.69014085 0.88732394 0.77464789 0.08450704 0.57746479\n",
            " 0.47887324 0.66197183 0.3943662  0.90140845 0.52112676 0.94366197\n",
            " 0.43661972 0.76056338 0.50704225 0.49295775 0.56338028 0.07042254\n",
            " 0.04225352 0.45070423 0.92957746 0.30985915 0.78873239 0.84507042\n",
            " 0.18309859 0.26760563 0.73239437 0.54929577 0.81690141 0.32394366\n",
            " 0.6056338  0.25352113 0.74647887 0.70422535 0.35211268 0.53521127]\n",
            "PhoneService :[0 1]\n",
            "MultipleLines :[0 1]\n",
            "OnlineSecurity :[0 1]\n",
            "OnlineBackup :[1 0]\n",
            "DeviceProtection :[0 1]\n",
            "TechSupport :[0 1]\n",
            "StreamingTV :[0 1]\n",
            "StreamingMovies :[0 1]\n",
            "PaperlessBilling :[1 0]\n",
            "MonthlyCharges :[0.11542289 0.38507463 0.35422886 ... 0.44626866 0.25820896 0.60149254]\n",
            "TotalCharges :[0.0012751  0.21586661 0.01031041 ... 0.03780868 0.03321025 0.78764136]\n",
            "Churn :[0 1]\n",
            "InternetService_DSL :[1 0]\n",
            "InternetService_Fiber optic :[0 1]\n",
            "InternetService_No :[0 1]\n",
            "Contract_Month-to-month :[1 0]\n",
            "Contract_One year :[0 1]\n",
            "Contract_Two year :[0 1]\n",
            "PaymentMethod_Bank transfer (automatic) :[0 1]\n",
            "PaymentMethod_Credit card (automatic) :[0 1]\n",
            "PaymentMethod_Electronic check :[1 0]\n",
            "PaymentMethod_Mailed check :[0 1]\n"
          ]
        }
      ]
    },
    {
      "cell_type": "code",
      "source": [
        "X = df2.drop('Churn', axis='columns')\n",
        "y = df2['Churn']"
      ],
      "metadata": {
        "id": "hXsKDNEHP3PN"
      },
      "execution_count": 32,
      "outputs": []
    },
    {
      "cell_type": "code",
      "source": [
        "from sklearn.model_selection import train_test_split\n",
        "X_train, X_test, y_train, y_test = train_test_split(X, y, test_size=0.2, random_state=15, stratify=y)"
      ],
      "metadata": {
        "id": "ccQvPFgOP__P"
      },
      "execution_count": 33,
      "outputs": []
    },
    {
      "cell_type": "code",
      "source": [
        "X_train.shape"
      ],
      "metadata": {
        "colab": {
          "base_uri": "https://localhost:8080/"
        },
        "id": "D0xGZjFLQY2N",
        "outputId": "6fa108d6-5ee0-498d-b27a-8b01dae53d5f"
      },
      "execution_count": 34,
      "outputs": [
        {
          "output_type": "execute_result",
          "data": {
            "text/plain": [
              "(5625, 26)"
            ]
          },
          "metadata": {},
          "execution_count": 34
        }
      ]
    },
    {
      "cell_type": "code",
      "source": [
        "X_test.shape"
      ],
      "metadata": {
        "colab": {
          "base_uri": "https://localhost:8080/"
        },
        "id": "abStn25PQdw5",
        "outputId": "94d65f96-1be7-41cc-dba4-aed0c10f7dea"
      },
      "execution_count": 35,
      "outputs": [
        {
          "output_type": "execute_result",
          "data": {
            "text/plain": [
              "(1407, 26)"
            ]
          },
          "metadata": {},
          "execution_count": 35
        }
      ]
    },
    {
      "cell_type": "code",
      "source": [
        "y.value_counts()"
      ],
      "metadata": {
        "colab": {
          "base_uri": "https://localhost:8080/"
        },
        "id": "GY7EEV0pQ9lK",
        "outputId": "220e27c4-4588-41b0-faee-6ccd3dc6827e"
      },
      "execution_count": 36,
      "outputs": [
        {
          "output_type": "execute_result",
          "data": {
            "text/plain": [
              "0    5163\n",
              "1    1869\n",
              "Name: Churn, dtype: int64"
            ]
          },
          "metadata": {},
          "execution_count": 36
        }
      ]
    },
    {
      "cell_type": "code",
      "source": [
        "5163/1869"
      ],
      "metadata": {
        "colab": {
          "base_uri": "https://localhost:8080/"
        },
        "id": "-FGnkT4eRF_i",
        "outputId": "6858b565-08f5-40f7-fd24-7ea1d739a4c1"
      },
      "execution_count": 37,
      "outputs": [
        {
          "output_type": "execute_result",
          "data": {
            "text/plain": [
              "2.7624398073836276"
            ]
          },
          "metadata": {},
          "execution_count": 37
        }
      ]
    },
    {
      "cell_type": "code",
      "source": [
        "y_test.value_counts()"
      ],
      "metadata": {
        "colab": {
          "base_uri": "https://localhost:8080/"
        },
        "id": "AwHKYTIBRBls",
        "outputId": "7407509b-e3ce-4412-fc02-4d21c437189c"
      },
      "execution_count": 38,
      "outputs": [
        {
          "output_type": "execute_result",
          "data": {
            "text/plain": [
              "0    1033\n",
              "1     374\n",
              "Name: Churn, dtype: int64"
            ]
          },
          "metadata": {},
          "execution_count": 38
        }
      ]
    },
    {
      "cell_type": "code",
      "source": [
        "y_preds = ANN(X_train, y_train, X_test, y_test, 'binary_crossentropy', -1)"
      ],
      "metadata": {
        "colab": {
          "base_uri": "https://localhost:8080/"
        },
        "id": "-hvO4yIvRU7C",
        "outputId": "ebbab1af-5e60-4ecf-b32c-de166a1c901e"
      },
      "execution_count": 39,
      "outputs": [
        {
          "output_type": "stream",
          "name": "stdout",
          "text": [
            "Epoch 1/100\n",
            "176/176 [==============================] - 6s 6ms/step - loss: 0.4806 - accuracy: 0.7554\n",
            "Epoch 2/100\n",
            "176/176 [==============================] - 1s 7ms/step - loss: 0.4305 - accuracy: 0.7884\n",
            "Epoch 3/100\n",
            "176/176 [==============================] - 1s 7ms/step - loss: 0.4218 - accuracy: 0.7972\n",
            "Epoch 4/100\n",
            "176/176 [==============================] - 1s 7ms/step - loss: 0.4184 - accuracy: 0.8014\n",
            "Epoch 5/100\n",
            "176/176 [==============================] - 1s 7ms/step - loss: 0.4129 - accuracy: 0.8044\n",
            "Epoch 6/100\n",
            "176/176 [==============================] - 1s 7ms/step - loss: 0.4108 - accuracy: 0.8060\n",
            "Epoch 7/100\n",
            "176/176 [==============================] - 1s 7ms/step - loss: 0.4090 - accuracy: 0.8068\n",
            "Epoch 8/100\n",
            "176/176 [==============================] - 1s 7ms/step - loss: 0.4072 - accuracy: 0.8068\n",
            "Epoch 9/100\n",
            "176/176 [==============================] - 1s 6ms/step - loss: 0.4054 - accuracy: 0.8100\n",
            "Epoch 10/100\n",
            "176/176 [==============================] - 1s 6ms/step - loss: 0.4043 - accuracy: 0.8101\n",
            "Epoch 11/100\n",
            "176/176 [==============================] - 1s 6ms/step - loss: 0.4015 - accuracy: 0.8121\n",
            "Epoch 12/100\n",
            "176/176 [==============================] - 1s 7ms/step - loss: 0.4006 - accuracy: 0.8135\n",
            "Epoch 13/100\n",
            "176/176 [==============================] - 1s 6ms/step - loss: 0.4001 - accuracy: 0.8108\n",
            "Epoch 14/100\n",
            "176/176 [==============================] - 1s 6ms/step - loss: 0.3996 - accuracy: 0.8119\n",
            "Epoch 15/100\n",
            "176/176 [==============================] - 1s 7ms/step - loss: 0.3987 - accuracy: 0.8114\n",
            "Epoch 16/100\n",
            "176/176 [==============================] - 2s 9ms/step - loss: 0.3973 - accuracy: 0.8146\n",
            "Epoch 17/100\n",
            "176/176 [==============================] - 1s 8ms/step - loss: 0.3972 - accuracy: 0.8164\n",
            "Epoch 18/100\n",
            "176/176 [==============================] - 1s 8ms/step - loss: 0.3961 - accuracy: 0.8164\n",
            "Epoch 19/100\n",
            "176/176 [==============================] - 1s 8ms/step - loss: 0.3946 - accuracy: 0.8128\n",
            "Epoch 20/100\n",
            "176/176 [==============================] - 1s 8ms/step - loss: 0.3941 - accuracy: 0.8146\n",
            "Epoch 21/100\n",
            "176/176 [==============================] - 1s 8ms/step - loss: 0.3932 - accuracy: 0.8164\n",
            "Epoch 22/100\n",
            "176/176 [==============================] - 2s 9ms/step - loss: 0.3918 - accuracy: 0.8144\n",
            "Epoch 23/100\n",
            "176/176 [==============================] - 1s 7ms/step - loss: 0.3908 - accuracy: 0.8172\n",
            "Epoch 24/100\n",
            "176/176 [==============================] - 1s 7ms/step - loss: 0.3908 - accuracy: 0.8167\n",
            "Epoch 25/100\n",
            "176/176 [==============================] - 1s 8ms/step - loss: 0.3895 - accuracy: 0.8132\n",
            "Epoch 26/100\n",
            "176/176 [==============================] - 1s 6ms/step - loss: 0.3886 - accuracy: 0.8190\n",
            "Epoch 27/100\n",
            "176/176 [==============================] - 1s 6ms/step - loss: 0.3886 - accuracy: 0.8181\n",
            "Epoch 28/100\n",
            "176/176 [==============================] - 1s 7ms/step - loss: 0.3873 - accuracy: 0.8183\n",
            "Epoch 29/100\n",
            "176/176 [==============================] - 1s 6ms/step - loss: 0.3859 - accuracy: 0.8201\n",
            "Epoch 30/100\n",
            "176/176 [==============================] - 1s 7ms/step - loss: 0.3870 - accuracy: 0.8197\n",
            "Epoch 31/100\n",
            "176/176 [==============================] - 1s 6ms/step - loss: 0.3856 - accuracy: 0.8215\n",
            "Epoch 32/100\n",
            "176/176 [==============================] - 1s 7ms/step - loss: 0.3842 - accuracy: 0.8220\n",
            "Epoch 33/100\n",
            "176/176 [==============================] - 1s 7ms/step - loss: 0.3858 - accuracy: 0.8204\n",
            "Epoch 34/100\n",
            "176/176 [==============================] - 1s 7ms/step - loss: 0.3833 - accuracy: 0.8204\n",
            "Epoch 35/100\n",
            "176/176 [==============================] - 1s 7ms/step - loss: 0.3828 - accuracy: 0.8210\n",
            "Epoch 36/100\n",
            "176/176 [==============================] - 1s 7ms/step - loss: 0.3816 - accuracy: 0.8215\n",
            "Epoch 37/100\n",
            "176/176 [==============================] - 1s 6ms/step - loss: 0.3821 - accuracy: 0.8210\n",
            "Epoch 38/100\n",
            "176/176 [==============================] - 1s 5ms/step - loss: 0.3802 - accuracy: 0.8249\n",
            "Epoch 39/100\n",
            "176/176 [==============================] - 1s 4ms/step - loss: 0.3810 - accuracy: 0.8242\n",
            "Epoch 40/100\n",
            "176/176 [==============================] - 1s 4ms/step - loss: 0.3795 - accuracy: 0.8238\n",
            "Epoch 41/100\n",
            "176/176 [==============================] - 1s 4ms/step - loss: 0.3781 - accuracy: 0.8226\n",
            "Epoch 42/100\n",
            "176/176 [==============================] - 1s 4ms/step - loss: 0.3780 - accuracy: 0.8215\n",
            "Epoch 43/100\n",
            "176/176 [==============================] - 1s 4ms/step - loss: 0.3769 - accuracy: 0.8240\n",
            "Epoch 44/100\n",
            "176/176 [==============================] - 1s 4ms/step - loss: 0.3775 - accuracy: 0.8236\n",
            "Epoch 45/100\n",
            "176/176 [==============================] - 1s 4ms/step - loss: 0.3763 - accuracy: 0.8260\n",
            "Epoch 46/100\n",
            "176/176 [==============================] - 1s 4ms/step - loss: 0.3750 - accuracy: 0.8251\n",
            "Epoch 47/100\n",
            "176/176 [==============================] - 1s 4ms/step - loss: 0.3750 - accuracy: 0.8238\n",
            "Epoch 48/100\n",
            "176/176 [==============================] - 1s 4ms/step - loss: 0.3756 - accuracy: 0.8235\n",
            "Epoch 49/100\n",
            "176/176 [==============================] - 1s 4ms/step - loss: 0.3744 - accuracy: 0.8251\n",
            "Epoch 50/100\n",
            "176/176 [==============================] - 1s 4ms/step - loss: 0.3763 - accuracy: 0.8242\n",
            "Epoch 51/100\n",
            "176/176 [==============================] - 1s 4ms/step - loss: 0.3733 - accuracy: 0.8242\n",
            "Epoch 52/100\n",
            "176/176 [==============================] - 1s 4ms/step - loss: 0.3719 - accuracy: 0.8268\n",
            "Epoch 53/100\n",
            "176/176 [==============================] - 1s 4ms/step - loss: 0.3721 - accuracy: 0.8252\n",
            "Epoch 54/100\n",
            "176/176 [==============================] - 1s 4ms/step - loss: 0.3712 - accuracy: 0.8260\n",
            "Epoch 55/100\n",
            "176/176 [==============================] - 1s 4ms/step - loss: 0.3717 - accuracy: 0.8268\n",
            "Epoch 56/100\n",
            "176/176 [==============================] - 1s 4ms/step - loss: 0.3703 - accuracy: 0.8292\n",
            "Epoch 57/100\n",
            "176/176 [==============================] - 1s 4ms/step - loss: 0.3706 - accuracy: 0.8270\n",
            "Epoch 58/100\n",
            "176/176 [==============================] - 1s 4ms/step - loss: 0.3712 - accuracy: 0.8256\n",
            "Epoch 59/100\n",
            "176/176 [==============================] - 1s 4ms/step - loss: 0.3698 - accuracy: 0.8263\n",
            "Epoch 60/100\n",
            "176/176 [==============================] - 1s 4ms/step - loss: 0.3690 - accuracy: 0.8268\n",
            "Epoch 61/100\n",
            "176/176 [==============================] - 1s 4ms/step - loss: 0.3687 - accuracy: 0.8300\n",
            "Epoch 62/100\n",
            "176/176 [==============================] - 1s 4ms/step - loss: 0.3676 - accuracy: 0.8299\n",
            "Epoch 63/100\n",
            "176/176 [==============================] - 1s 4ms/step - loss: 0.3673 - accuracy: 0.8350\n",
            "Epoch 64/100\n",
            "176/176 [==============================] - 1s 4ms/step - loss: 0.3681 - accuracy: 0.8288\n",
            "Epoch 65/100\n",
            "176/176 [==============================] - 1s 4ms/step - loss: 0.3660 - accuracy: 0.8315\n",
            "Epoch 66/100\n",
            "176/176 [==============================] - 1s 4ms/step - loss: 0.3663 - accuracy: 0.8279\n",
            "Epoch 67/100\n",
            "176/176 [==============================] - 1s 4ms/step - loss: 0.3661 - accuracy: 0.8318\n",
            "Epoch 68/100\n",
            "176/176 [==============================] - 1s 4ms/step - loss: 0.3654 - accuracy: 0.8297\n",
            "Epoch 69/100\n",
            "176/176 [==============================] - 1s 3ms/step - loss: 0.3652 - accuracy: 0.8304\n",
            "Epoch 70/100\n",
            "176/176 [==============================] - 1s 4ms/step - loss: 0.3660 - accuracy: 0.8320\n",
            "Epoch 71/100\n",
            "176/176 [==============================] - 1s 3ms/step - loss: 0.3655 - accuracy: 0.8322\n",
            "Epoch 72/100\n",
            "176/176 [==============================] - 1s 4ms/step - loss: 0.3641 - accuracy: 0.8336\n",
            "Epoch 73/100\n",
            "176/176 [==============================] - 1s 4ms/step - loss: 0.3638 - accuracy: 0.8286\n",
            "Epoch 74/100\n",
            "176/176 [==============================] - 1s 4ms/step - loss: 0.3633 - accuracy: 0.8345\n",
            "Epoch 75/100\n",
            "176/176 [==============================] - 1s 4ms/step - loss: 0.3629 - accuracy: 0.8338\n",
            "Epoch 76/100\n",
            "176/176 [==============================] - 1s 4ms/step - loss: 0.3632 - accuracy: 0.8340\n",
            "Epoch 77/100\n",
            "176/176 [==============================] - 1s 4ms/step - loss: 0.3620 - accuracy: 0.8316\n",
            "Epoch 78/100\n",
            "176/176 [==============================] - 1s 4ms/step - loss: 0.3610 - accuracy: 0.8329\n",
            "Epoch 79/100\n",
            "176/176 [==============================] - 1s 4ms/step - loss: 0.3607 - accuracy: 0.8350\n",
            "Epoch 80/100\n",
            "176/176 [==============================] - 1s 4ms/step - loss: 0.3600 - accuracy: 0.8311\n",
            "Epoch 81/100\n",
            "176/176 [==============================] - 1s 4ms/step - loss: 0.3616 - accuracy: 0.8343\n",
            "Epoch 82/100\n",
            "176/176 [==============================] - 1s 4ms/step - loss: 0.3601 - accuracy: 0.8343\n",
            "Epoch 83/100\n",
            "176/176 [==============================] - 1s 4ms/step - loss: 0.3596 - accuracy: 0.8348\n",
            "Epoch 84/100\n",
            "176/176 [==============================] - 1s 4ms/step - loss: 0.3596 - accuracy: 0.8311\n",
            "Epoch 85/100\n",
            "176/176 [==============================] - 1s 4ms/step - loss: 0.3590 - accuracy: 0.8311\n",
            "Epoch 86/100\n",
            "176/176 [==============================] - 1s 4ms/step - loss: 0.3591 - accuracy: 0.8348\n",
            "Epoch 87/100\n",
            "176/176 [==============================] - 1s 4ms/step - loss: 0.3588 - accuracy: 0.8345\n",
            "Epoch 88/100\n",
            "176/176 [==============================] - 1s 4ms/step - loss: 0.3594 - accuracy: 0.8356\n",
            "Epoch 89/100\n",
            "176/176 [==============================] - 1s 4ms/step - loss: 0.3570 - accuracy: 0.8363\n",
            "Epoch 90/100\n",
            "176/176 [==============================] - 1s 4ms/step - loss: 0.3577 - accuracy: 0.8340\n",
            "Epoch 91/100\n",
            "176/176 [==============================] - 1s 4ms/step - loss: 0.3568 - accuracy: 0.8336\n",
            "Epoch 92/100\n",
            "176/176 [==============================] - 1s 4ms/step - loss: 0.3548 - accuracy: 0.8338\n",
            "Epoch 93/100\n",
            "176/176 [==============================] - 1s 4ms/step - loss: 0.3571 - accuracy: 0.8357\n",
            "Epoch 94/100\n",
            "176/176 [==============================] - 1s 4ms/step - loss: 0.3559 - accuracy: 0.8350\n",
            "Epoch 95/100\n",
            "176/176 [==============================] - 1s 4ms/step - loss: 0.3568 - accuracy: 0.8379\n",
            "Epoch 96/100\n",
            "176/176 [==============================] - 1s 4ms/step - loss: 0.3546 - accuracy: 0.8357\n",
            "Epoch 97/100\n",
            "176/176 [==============================] - 1s 4ms/step - loss: 0.3555 - accuracy: 0.8354\n",
            "Epoch 98/100\n",
            "176/176 [==============================] - 1s 4ms/step - loss: 0.3522 - accuracy: 0.8343\n",
            "Epoch 99/100\n",
            "176/176 [==============================] - 1s 4ms/step - loss: 0.3535 - accuracy: 0.8370\n",
            "Epoch 100/100\n",
            "176/176 [==============================] - 1s 4ms/step - loss: 0.3535 - accuracy: 0.8350\n",
            "44/44 [==============================] - 0s 3ms/step - loss: 0.4794 - accuracy: 0.7768\n",
            "[0.4794389307498932, 0.7768301367759705]\n",
            "Classification Report: \n",
            "               precision    recall  f1-score   support\n",
            "\n",
            "           0       0.84      0.86      0.85      1033\n",
            "           1       0.59      0.54      0.56       374\n",
            "\n",
            "    accuracy                           0.78      1407\n",
            "   macro avg       0.71      0.70      0.71      1407\n",
            "weighted avg       0.77      0.78      0.77      1407\n",
            "\n"
          ]
        }
      ]
    },
    {
      "cell_type": "markdown",
      "source": [
        "Mitigating the skewness of the data\n",
        "Method 1: Undersampling of class with higher data volume"
      ],
      "metadata": {
        "id": "V6pdIESWRmT7"
      }
    },
    {
      "cell_type": "code",
      "source": [
        "count_class_0, count_class_1 = df1.Churn.value_counts()\n",
        "\n",
        "# Divide by class\n",
        "df_class_0 = df2[df2['Churn'] == 0]\n",
        "df_class_1 = df2[df2['Churn'] == 1]"
      ],
      "metadata": {
        "id": "RUjgqA7gRjAf"
      },
      "execution_count": 40,
      "outputs": []
    },
    {
      "cell_type": "code",
      "source": [
        "# Undersample 0-class and concat the DataFrames of both class\n",
        "df_class_0_under = df_class_0.sample(count_class_1)\n",
        "df_test_under = pd.concat([df_class_0_under, df_class_1], axis=0)\n",
        "\n",
        "print('Random under-sampling:')\n",
        "print(df_test_under.Churn.value_counts())"
      ],
      "metadata": {
        "colab": {
          "base_uri": "https://localhost:8080/"
        },
        "id": "RQjk_7bASsRX",
        "outputId": "05842231-51d9-401c-f05a-bd68b7fced44"
      },
      "execution_count": 41,
      "outputs": [
        {
          "output_type": "stream",
          "name": "stdout",
          "text": [
            "Random under-sampling:\n",
            "0    1869\n",
            "1    1869\n",
            "Name: Churn, dtype: int64\n"
          ]
        }
      ]
    },
    {
      "cell_type": "code",
      "source": [
        "X = df_test_under.drop('Churn',axis='columns')\n",
        "y = df_test_under['Churn']\n",
        "\n",
        "from sklearn.model_selection import train_test_split\n",
        "X_train, X_test, y_train, y_test = train_test_split(X, y, test_size=0.2, random_state=15, stratify=y)"
      ],
      "metadata": {
        "id": "PtNDWYwL4GlL"
      },
      "execution_count": 43,
      "outputs": []
    },
    {
      "cell_type": "code",
      "source": [
        "y_train.value_counts()"
      ],
      "metadata": {
        "colab": {
          "base_uri": "https://localhost:8080/"
        },
        "id": "AgmW65Uz4jqq",
        "outputId": "6fbcf87d-c510-4ea7-ecee-81e04003d3a1"
      },
      "execution_count": 44,
      "outputs": [
        {
          "output_type": "execute_result",
          "data": {
            "text/plain": [
              "0    1495\n",
              "1    1495\n",
              "Name: Churn, dtype: int64"
            ]
          },
          "metadata": {},
          "execution_count": 44
        }
      ]
    },
    {
      "cell_type": "code",
      "source": [
        "y_preds = ANN(X_train, y_train, X_test, y_test, 'binary_crossentropy', -1)"
      ],
      "metadata": {
        "colab": {
          "base_uri": "https://localhost:8080/"
        },
        "id": "Dsuj72wX4mv6",
        "outputId": "3bfc7686-2207-45df-a390-5ab4e5109b28"
      },
      "execution_count": 45,
      "outputs": [
        {
          "output_type": "stream",
          "name": "stdout",
          "text": [
            "Epoch 1/100\n",
            "94/94 [==============================] - 2s 6ms/step - loss: 0.6206 - accuracy: 0.6763\n",
            "Epoch 2/100\n",
            "94/94 [==============================] - 1s 6ms/step - loss: 0.5253 - accuracy: 0.7512\n",
            "Epoch 3/100\n",
            "94/94 [==============================] - 0s 5ms/step - loss: 0.5063 - accuracy: 0.7582\n",
            "Epoch 4/100\n",
            "94/94 [==============================] - 0s 4ms/step - loss: 0.4978 - accuracy: 0.7642\n",
            "Epoch 5/100\n",
            "94/94 [==============================] - 0s 3ms/step - loss: 0.4925 - accuracy: 0.7622\n",
            "Epoch 6/100\n",
            "94/94 [==============================] - 0s 4ms/step - loss: 0.4880 - accuracy: 0.7645\n",
            "Epoch 7/100\n",
            "94/94 [==============================] - 0s 3ms/step - loss: 0.4863 - accuracy: 0.7649\n",
            "Epoch 8/100\n",
            "94/94 [==============================] - 0s 4ms/step - loss: 0.4822 - accuracy: 0.7642\n",
            "Epoch 9/100\n",
            "94/94 [==============================] - 0s 4ms/step - loss: 0.4792 - accuracy: 0.7692\n",
            "Epoch 10/100\n",
            "94/94 [==============================] - 0s 3ms/step - loss: 0.4772 - accuracy: 0.7692\n",
            "Epoch 11/100\n",
            "94/94 [==============================] - 0s 3ms/step - loss: 0.4753 - accuracy: 0.7706\n",
            "Epoch 12/100\n",
            "94/94 [==============================] - 0s 4ms/step - loss: 0.4730 - accuracy: 0.7729\n",
            "Epoch 13/100\n",
            "94/94 [==============================] - 0s 4ms/step - loss: 0.4696 - accuracy: 0.7732\n",
            "Epoch 14/100\n",
            "94/94 [==============================] - 0s 3ms/step - loss: 0.4697 - accuracy: 0.7753\n",
            "Epoch 15/100\n",
            "94/94 [==============================] - 0s 4ms/step - loss: 0.4681 - accuracy: 0.7722\n",
            "Epoch 16/100\n",
            "94/94 [==============================] - 0s 4ms/step - loss: 0.4651 - accuracy: 0.7773\n",
            "Epoch 17/100\n",
            "94/94 [==============================] - 0s 3ms/step - loss: 0.4628 - accuracy: 0.7779\n",
            "Epoch 18/100\n",
            "94/94 [==============================] - 0s 4ms/step - loss: 0.4613 - accuracy: 0.7756\n",
            "Epoch 19/100\n",
            "94/94 [==============================] - 0s 4ms/step - loss: 0.4604 - accuracy: 0.7823\n",
            "Epoch 20/100\n",
            "94/94 [==============================] - 0s 4ms/step - loss: 0.4589 - accuracy: 0.7816\n",
            "Epoch 21/100\n",
            "94/94 [==============================] - 0s 4ms/step - loss: 0.4555 - accuracy: 0.7863\n",
            "Epoch 22/100\n",
            "94/94 [==============================] - 0s 4ms/step - loss: 0.4542 - accuracy: 0.7833\n",
            "Epoch 23/100\n",
            "94/94 [==============================] - 0s 3ms/step - loss: 0.4540 - accuracy: 0.7843\n",
            "Epoch 24/100\n",
            "94/94 [==============================] - 0s 3ms/step - loss: 0.4515 - accuracy: 0.7860\n",
            "Epoch 25/100\n",
            "94/94 [==============================] - 0s 3ms/step - loss: 0.4528 - accuracy: 0.7876\n",
            "Epoch 26/100\n",
            "94/94 [==============================] - 0s 3ms/step - loss: 0.4493 - accuracy: 0.7906\n",
            "Epoch 27/100\n",
            "94/94 [==============================] - 0s 4ms/step - loss: 0.4490 - accuracy: 0.7880\n",
            "Epoch 28/100\n",
            "94/94 [==============================] - 0s 4ms/step - loss: 0.4460 - accuracy: 0.7923\n",
            "Epoch 29/100\n",
            "94/94 [==============================] - 0s 4ms/step - loss: 0.4449 - accuracy: 0.7920\n",
            "Epoch 30/100\n",
            "94/94 [==============================] - 0s 4ms/step - loss: 0.4438 - accuracy: 0.7923\n",
            "Epoch 31/100\n",
            "94/94 [==============================] - 0s 4ms/step - loss: 0.4419 - accuracy: 0.7926\n",
            "Epoch 32/100\n",
            "94/94 [==============================] - 0s 3ms/step - loss: 0.4406 - accuracy: 0.7940\n",
            "Epoch 33/100\n",
            "94/94 [==============================] - 0s 4ms/step - loss: 0.4394 - accuracy: 0.7913\n",
            "Epoch 34/100\n",
            "94/94 [==============================] - 0s 3ms/step - loss: 0.4389 - accuracy: 0.7963\n",
            "Epoch 35/100\n",
            "94/94 [==============================] - 0s 3ms/step - loss: 0.4359 - accuracy: 0.7967\n",
            "Epoch 36/100\n",
            "94/94 [==============================] - 0s 4ms/step - loss: 0.4344 - accuracy: 0.7967\n",
            "Epoch 37/100\n",
            "94/94 [==============================] - 0s 3ms/step - loss: 0.4337 - accuracy: 0.7993\n",
            "Epoch 38/100\n",
            "94/94 [==============================] - 0s 3ms/step - loss: 0.4342 - accuracy: 0.7936\n",
            "Epoch 39/100\n",
            "94/94 [==============================] - 0s 4ms/step - loss: 0.4313 - accuracy: 0.8003\n",
            "Epoch 40/100\n",
            "94/94 [==============================] - 0s 4ms/step - loss: 0.4311 - accuracy: 0.8017\n",
            "Epoch 41/100\n",
            "94/94 [==============================] - 0s 3ms/step - loss: 0.4281 - accuracy: 0.8020\n",
            "Epoch 42/100\n",
            "94/94 [==============================] - 0s 4ms/step - loss: 0.4271 - accuracy: 0.8013\n",
            "Epoch 43/100\n",
            "94/94 [==============================] - 0s 4ms/step - loss: 0.4252 - accuracy: 0.8064\n",
            "Epoch 44/100\n",
            "94/94 [==============================] - 0s 4ms/step - loss: 0.4250 - accuracy: 0.8020\n",
            "Epoch 45/100\n",
            "94/94 [==============================] - 0s 4ms/step - loss: 0.4229 - accuracy: 0.8023\n",
            "Epoch 46/100\n",
            "94/94 [==============================] - 0s 3ms/step - loss: 0.4221 - accuracy: 0.8064\n",
            "Epoch 47/100\n",
            "94/94 [==============================] - 0s 4ms/step - loss: 0.4212 - accuracy: 0.8070\n",
            "Epoch 48/100\n",
            "94/94 [==============================] - 0s 4ms/step - loss: 0.4203 - accuracy: 0.8090\n",
            "Epoch 49/100\n",
            "94/94 [==============================] - 0s 3ms/step - loss: 0.4185 - accuracy: 0.8097\n",
            "Epoch 50/100\n",
            "94/94 [==============================] - 0s 4ms/step - loss: 0.4194 - accuracy: 0.8020\n",
            "Epoch 51/100\n",
            "94/94 [==============================] - 0s 4ms/step - loss: 0.4169 - accuracy: 0.8074\n",
            "Epoch 52/100\n",
            "94/94 [==============================] - 0s 3ms/step - loss: 0.4160 - accuracy: 0.8084\n",
            "Epoch 53/100\n",
            "94/94 [==============================] - 0s 4ms/step - loss: 0.4154 - accuracy: 0.8054\n",
            "Epoch 54/100\n",
            "94/94 [==============================] - 0s 4ms/step - loss: 0.4146 - accuracy: 0.8070\n",
            "Epoch 55/100\n",
            "94/94 [==============================] - 0s 4ms/step - loss: 0.4139 - accuracy: 0.8090\n",
            "Epoch 56/100\n",
            "94/94 [==============================] - 0s 4ms/step - loss: 0.4124 - accuracy: 0.8107\n",
            "Epoch 57/100\n",
            "94/94 [==============================] - 0s 4ms/step - loss: 0.4103 - accuracy: 0.8087\n",
            "Epoch 58/100\n",
            "94/94 [==============================] - 0s 4ms/step - loss: 0.4112 - accuracy: 0.8137\n",
            "Epoch 59/100\n",
            "94/94 [==============================] - 0s 4ms/step - loss: 0.4091 - accuracy: 0.8157\n",
            "Epoch 60/100\n",
            "94/94 [==============================] - 0s 4ms/step - loss: 0.4107 - accuracy: 0.8117\n",
            "Epoch 61/100\n",
            "94/94 [==============================] - 0s 4ms/step - loss: 0.4083 - accuracy: 0.8110\n",
            "Epoch 62/100\n",
            "94/94 [==============================] - 0s 4ms/step - loss: 0.4075 - accuracy: 0.8084\n",
            "Epoch 63/100\n",
            "94/94 [==============================] - 0s 4ms/step - loss: 0.4051 - accuracy: 0.8164\n",
            "Epoch 64/100\n",
            "94/94 [==============================] - 0s 3ms/step - loss: 0.4065 - accuracy: 0.8144\n",
            "Epoch 65/100\n",
            "94/94 [==============================] - 0s 4ms/step - loss: 0.4035 - accuracy: 0.8120\n",
            "Epoch 66/100\n",
            "94/94 [==============================] - 0s 4ms/step - loss: 0.4060 - accuracy: 0.8120\n",
            "Epoch 67/100\n",
            "94/94 [==============================] - 0s 3ms/step - loss: 0.4039 - accuracy: 0.8171\n",
            "Epoch 68/100\n",
            "94/94 [==============================] - 0s 3ms/step - loss: 0.4023 - accuracy: 0.8127\n",
            "Epoch 69/100\n",
            "94/94 [==============================] - 0s 4ms/step - loss: 0.4003 - accuracy: 0.8127\n",
            "Epoch 70/100\n",
            "94/94 [==============================] - 0s 3ms/step - loss: 0.3996 - accuracy: 0.8100\n",
            "Epoch 71/100\n",
            "94/94 [==============================] - 0s 4ms/step - loss: 0.4004 - accuracy: 0.8194\n",
            "Epoch 72/100\n",
            "94/94 [==============================] - 0s 4ms/step - loss: 0.3987 - accuracy: 0.8137\n",
            "Epoch 73/100\n",
            "94/94 [==============================] - 0s 4ms/step - loss: 0.3966 - accuracy: 0.8177\n",
            "Epoch 74/100\n",
            "94/94 [==============================] - 0s 4ms/step - loss: 0.3955 - accuracy: 0.8184\n",
            "Epoch 75/100\n",
            "94/94 [==============================] - 0s 4ms/step - loss: 0.3960 - accuracy: 0.8167\n",
            "Epoch 76/100\n",
            "94/94 [==============================] - 0s 3ms/step - loss: 0.3951 - accuracy: 0.8167\n",
            "Epoch 77/100\n",
            "94/94 [==============================] - 0s 4ms/step - loss: 0.3932 - accuracy: 0.8191\n",
            "Epoch 78/100\n",
            "94/94 [==============================] - 0s 4ms/step - loss: 0.3923 - accuracy: 0.8187\n",
            "Epoch 79/100\n",
            "94/94 [==============================] - 0s 4ms/step - loss: 0.3951 - accuracy: 0.8151\n",
            "Epoch 80/100\n",
            "94/94 [==============================] - 0s 4ms/step - loss: 0.3937 - accuracy: 0.8181\n",
            "Epoch 81/100\n",
            "94/94 [==============================] - 0s 3ms/step - loss: 0.3921 - accuracy: 0.8181\n",
            "Epoch 82/100\n",
            "94/94 [==============================] - 0s 4ms/step - loss: 0.3894 - accuracy: 0.8194\n",
            "Epoch 83/100\n",
            "94/94 [==============================] - 0s 4ms/step - loss: 0.3899 - accuracy: 0.8187\n",
            "Epoch 84/100\n",
            "94/94 [==============================] - 0s 4ms/step - loss: 0.3908 - accuracy: 0.8174\n",
            "Epoch 85/100\n",
            "94/94 [==============================] - 0s 4ms/step - loss: 0.3880 - accuracy: 0.8231\n",
            "Epoch 86/100\n",
            "94/94 [==============================] - 0s 4ms/step - loss: 0.3872 - accuracy: 0.8181\n",
            "Epoch 87/100\n",
            "94/94 [==============================] - 0s 4ms/step - loss: 0.3871 - accuracy: 0.8247\n",
            "Epoch 88/100\n",
            "94/94 [==============================] - 0s 4ms/step - loss: 0.3860 - accuracy: 0.8194\n",
            "Epoch 89/100\n",
            "94/94 [==============================] - 0s 4ms/step - loss: 0.3847 - accuracy: 0.8194\n",
            "Epoch 90/100\n",
            "94/94 [==============================] - 0s 4ms/step - loss: 0.3841 - accuracy: 0.8264\n",
            "Epoch 91/100\n",
            "94/94 [==============================] - 0s 4ms/step - loss: 0.3857 - accuracy: 0.8197\n",
            "Epoch 92/100\n",
            "94/94 [==============================] - 0s 4ms/step - loss: 0.3826 - accuracy: 0.8247\n",
            "Epoch 93/100\n",
            "94/94 [==============================] - 0s 4ms/step - loss: 0.3842 - accuracy: 0.8214\n",
            "Epoch 94/100\n",
            "94/94 [==============================] - 0s 4ms/step - loss: 0.3826 - accuracy: 0.8214\n",
            "Epoch 95/100\n",
            "94/94 [==============================] - 0s 4ms/step - loss: 0.3824 - accuracy: 0.8234\n",
            "Epoch 96/100\n",
            "94/94 [==============================] - 0s 4ms/step - loss: 0.3791 - accuracy: 0.8244\n",
            "Epoch 97/100\n",
            "94/94 [==============================] - 0s 3ms/step - loss: 0.3790 - accuracy: 0.8244\n",
            "Epoch 98/100\n",
            "94/94 [==============================] - 0s 4ms/step - loss: 0.3784 - accuracy: 0.8254\n",
            "Epoch 99/100\n",
            "94/94 [==============================] - 0s 4ms/step - loss: 0.3779 - accuracy: 0.8268\n",
            "Epoch 100/100\n",
            "94/94 [==============================] - 0s 4ms/step - loss: 0.3768 - accuracy: 0.8264\n",
            "24/24 [==============================] - 0s 3ms/step - loss: 0.5933 - accuracy: 0.7179\n",
            "[0.5933021306991577, 0.7179144620895386]\n",
            "Classification Report: \n",
            "               precision    recall  f1-score   support\n",
            "\n",
            "           0       0.72      0.72      0.72       374\n",
            "           1       0.72      0.72      0.72       374\n",
            "\n",
            "    accuracy                           0.72       748\n",
            "   macro avg       0.72      0.72      0.72       748\n",
            "weighted avg       0.72      0.72      0.72       748\n",
            "\n"
          ]
        }
      ]
    },
    {
      "cell_type": "markdown",
      "source": [
        "**Method 2: Over Sampling**"
      ],
      "metadata": {
        "id": "8ICoQF3l5HYl"
      }
    },
    {
      "cell_type": "code",
      "source": [
        "# Oversample 1-class and concat the DataFrames of both classes\n",
        "df_class_1_over = df_class_1.sample(count_class_0, replace=True)\n",
        "df_test_over = pd.concat([df_class_0, df_class_1_over], axis=0)\n",
        "\n",
        "print('Random over-sampling:')\n",
        "print(df_test_over.Churn.value_counts())"
      ],
      "metadata": {
        "colab": {
          "base_uri": "https://localhost:8080/"
        },
        "id": "8BX5RwrK5G_n",
        "outputId": "0f494842-99aa-48cb-ae68-186e9e362fb0"
      },
      "execution_count": 46,
      "outputs": [
        {
          "output_type": "stream",
          "name": "stdout",
          "text": [
            "Random over-sampling:\n",
            "0    5163\n",
            "1    5163\n",
            "Name: Churn, dtype: int64\n"
          ]
        }
      ]
    },
    {
      "cell_type": "code",
      "source": [
        "X = df_test_over.drop('Churn',axis='columns')\n",
        "y = df_test_over['Churn']\n",
        "\n",
        "from sklearn.model_selection import train_test_split\n",
        "X_train, X_test, y_train, y_test = train_test_split(X, y, test_size=0.2, random_state=15, stratify=y)"
      ],
      "metadata": {
        "id": "pvJhwFNg5p4n"
      },
      "execution_count": 47,
      "outputs": []
    },
    {
      "cell_type": "code",
      "source": [
        "y_train.value_counts()"
      ],
      "metadata": {
        "colab": {
          "base_uri": "https://localhost:8080/"
        },
        "id": "5aI1n8Id5wB0",
        "outputId": "d098ebfa-f370-4305-bd18-aebaa82d7310"
      },
      "execution_count": 48,
      "outputs": [
        {
          "output_type": "execute_result",
          "data": {
            "text/plain": [
              "1    4130\n",
              "0    4130\n",
              "Name: Churn, dtype: int64"
            ]
          },
          "metadata": {},
          "execution_count": 48
        }
      ]
    },
    {
      "cell_type": "code",
      "source": [
        "loss = keras.losses.BinaryCrossentropy()\n",
        "weights = -1\n",
        "y_preds = ANN(X_train, y_train, X_test, y_test, 'binary_crossentropy', -1)"
      ],
      "metadata": {
        "colab": {
          "base_uri": "https://localhost:8080/"
        },
        "id": "jTF7Ifsy514P",
        "outputId": "19f15b67-95b1-4982-db28-d0051464dfbf"
      },
      "execution_count": 49,
      "outputs": [
        {
          "output_type": "stream",
          "name": "stdout",
          "text": [
            "Epoch 1/100\n",
            "259/259 [==============================] - 1s 4ms/step - loss: 0.5501 - accuracy: 0.7218\n",
            "Epoch 2/100\n",
            "259/259 [==============================] - 1s 4ms/step - loss: 0.4916 - accuracy: 0.7586\n",
            "Epoch 3/100\n",
            "259/259 [==============================] - 1s 4ms/step - loss: 0.4854 - accuracy: 0.7600\n",
            "Epoch 4/100\n",
            "259/259 [==============================] - 1s 4ms/step - loss: 0.4807 - accuracy: 0.7645\n",
            "Epoch 5/100\n",
            "259/259 [==============================] - 1s 4ms/step - loss: 0.4772 - accuracy: 0.7661\n",
            "Epoch 6/100\n",
            "259/259 [==============================] - 1s 4ms/step - loss: 0.4735 - accuracy: 0.7686\n",
            "Epoch 7/100\n",
            "259/259 [==============================] - 1s 4ms/step - loss: 0.4697 - accuracy: 0.7742\n",
            "Epoch 8/100\n",
            "259/259 [==============================] - 1s 4ms/step - loss: 0.4656 - accuracy: 0.7776\n",
            "Epoch 9/100\n",
            "259/259 [==============================] - 1s 4ms/step - loss: 0.4628 - accuracy: 0.7794\n",
            "Epoch 10/100\n",
            "259/259 [==============================] - 1s 4ms/step - loss: 0.4602 - accuracy: 0.7805\n",
            "Epoch 11/100\n",
            "259/259 [==============================] - 1s 4ms/step - loss: 0.4569 - accuracy: 0.7850\n",
            "Epoch 12/100\n",
            "259/259 [==============================] - 1s 4ms/step - loss: 0.4531 - accuracy: 0.7875\n",
            "Epoch 13/100\n",
            "259/259 [==============================] - 1s 4ms/step - loss: 0.4516 - accuracy: 0.7815\n",
            "Epoch 14/100\n",
            "259/259 [==============================] - 1s 4ms/step - loss: 0.4476 - accuracy: 0.7872\n",
            "Epoch 15/100\n",
            "259/259 [==============================] - 1s 4ms/step - loss: 0.4442 - accuracy: 0.7920\n",
            "Epoch 16/100\n",
            "259/259 [==============================] - 1s 4ms/step - loss: 0.4448 - accuracy: 0.7884\n",
            "Epoch 17/100\n",
            "259/259 [==============================] - 1s 4ms/step - loss: 0.4426 - accuracy: 0.7897\n",
            "Epoch 18/100\n",
            "259/259 [==============================] - 1s 4ms/step - loss: 0.4409 - accuracy: 0.7915\n",
            "Epoch 19/100\n",
            "259/259 [==============================] - 1s 4ms/step - loss: 0.4368 - accuracy: 0.7930\n",
            "Epoch 20/100\n",
            "259/259 [==============================] - 1s 4ms/step - loss: 0.4365 - accuracy: 0.7926\n",
            "Epoch 21/100\n",
            "259/259 [==============================] - 1s 4ms/step - loss: 0.4344 - accuracy: 0.7936\n",
            "Epoch 22/100\n",
            "259/259 [==============================] - 1s 4ms/step - loss: 0.4328 - accuracy: 0.7965\n",
            "Epoch 23/100\n",
            "259/259 [==============================] - 1s 4ms/step - loss: 0.4320 - accuracy: 0.7959\n",
            "Epoch 24/100\n",
            "259/259 [==============================] - 1s 4ms/step - loss: 0.4303 - accuracy: 0.7996\n",
            "Epoch 25/100\n",
            "259/259 [==============================] - 1s 4ms/step - loss: 0.4285 - accuracy: 0.7989\n",
            "Epoch 26/100\n",
            "259/259 [==============================] - 1s 4ms/step - loss: 0.4271 - accuracy: 0.8002\n",
            "Epoch 27/100\n",
            "259/259 [==============================] - 1s 4ms/step - loss: 0.4262 - accuracy: 0.7998\n",
            "Epoch 28/100\n",
            "259/259 [==============================] - 1s 4ms/step - loss: 0.4258 - accuracy: 0.8000\n",
            "Epoch 29/100\n",
            "259/259 [==============================] - 1s 4ms/step - loss: 0.4241 - accuracy: 0.8023\n",
            "Epoch 30/100\n",
            "259/259 [==============================] - 1s 4ms/step - loss: 0.4230 - accuracy: 0.8031\n",
            "Epoch 31/100\n",
            "259/259 [==============================] - 1s 4ms/step - loss: 0.4211 - accuracy: 0.8075\n",
            "Epoch 32/100\n",
            "259/259 [==============================] - 1s 4ms/step - loss: 0.4206 - accuracy: 0.8035\n",
            "Epoch 33/100\n",
            "259/259 [==============================] - 1s 4ms/step - loss: 0.4196 - accuracy: 0.8048\n",
            "Epoch 34/100\n",
            "259/259 [==============================] - 1s 4ms/step - loss: 0.4184 - accuracy: 0.8036\n",
            "Epoch 35/100\n",
            "259/259 [==============================] - 1s 4ms/step - loss: 0.4191 - accuracy: 0.8054\n",
            "Epoch 36/100\n",
            "259/259 [==============================] - 1s 4ms/step - loss: 0.4172 - accuracy: 0.8063\n",
            "Epoch 37/100\n",
            "259/259 [==============================] - 1s 4ms/step - loss: 0.4179 - accuracy: 0.8034\n",
            "Epoch 38/100\n",
            "259/259 [==============================] - 1s 4ms/step - loss: 0.4140 - accuracy: 0.8096\n",
            "Epoch 39/100\n",
            "259/259 [==============================] - 1s 4ms/step - loss: 0.4145 - accuracy: 0.8077\n",
            "Epoch 40/100\n",
            "259/259 [==============================] - 1s 4ms/step - loss: 0.4137 - accuracy: 0.8109\n",
            "Epoch 41/100\n",
            "259/259 [==============================] - 1s 4ms/step - loss: 0.4141 - accuracy: 0.8087\n",
            "Epoch 42/100\n",
            "259/259 [==============================] - 1s 4ms/step - loss: 0.4120 - accuracy: 0.8097\n",
            "Epoch 43/100\n",
            "259/259 [==============================] - 1s 4ms/step - loss: 0.4108 - accuracy: 0.8142\n",
            "Epoch 44/100\n",
            "259/259 [==============================] - 1s 4ms/step - loss: 0.4106 - accuracy: 0.8122\n",
            "Epoch 45/100\n",
            "259/259 [==============================] - 1s 4ms/step - loss: 0.4084 - accuracy: 0.8113\n",
            "Epoch 46/100\n",
            "259/259 [==============================] - 1s 4ms/step - loss: 0.4084 - accuracy: 0.8153\n",
            "Epoch 47/100\n",
            "259/259 [==============================] - 1s 4ms/step - loss: 0.4073 - accuracy: 0.8148\n",
            "Epoch 48/100\n",
            "259/259 [==============================] - 1s 4ms/step - loss: 0.4081 - accuracy: 0.8140\n",
            "Epoch 49/100\n",
            "259/259 [==============================] - 1s 4ms/step - loss: 0.4063 - accuracy: 0.8156\n",
            "Epoch 50/100\n",
            "259/259 [==============================] - 1s 4ms/step - loss: 0.4048 - accuracy: 0.8168\n",
            "Epoch 51/100\n",
            "259/259 [==============================] - 1s 4ms/step - loss: 0.4051 - accuracy: 0.8153\n",
            "Epoch 52/100\n",
            "259/259 [==============================] - 1s 4ms/step - loss: 0.4030 - accuracy: 0.8172\n",
            "Epoch 53/100\n",
            "259/259 [==============================] - 1s 4ms/step - loss: 0.4034 - accuracy: 0.8153\n",
            "Epoch 54/100\n",
            "259/259 [==============================] - 1s 4ms/step - loss: 0.4016 - accuracy: 0.8183\n",
            "Epoch 55/100\n",
            "259/259 [==============================] - 1s 4ms/step - loss: 0.4003 - accuracy: 0.8188\n",
            "Epoch 56/100\n",
            "259/259 [==============================] - 1s 4ms/step - loss: 0.3992 - accuracy: 0.8150\n",
            "Epoch 57/100\n",
            "259/259 [==============================] - 1s 4ms/step - loss: 0.3986 - accuracy: 0.8150\n",
            "Epoch 58/100\n",
            "259/259 [==============================] - 1s 4ms/step - loss: 0.3984 - accuracy: 0.8184\n",
            "Epoch 59/100\n",
            "259/259 [==============================] - 1s 4ms/step - loss: 0.3982 - accuracy: 0.8185\n",
            "Epoch 60/100\n",
            "259/259 [==============================] - 1s 4ms/step - loss: 0.3967 - accuracy: 0.8215\n",
            "Epoch 61/100\n",
            "259/259 [==============================] - 1s 4ms/step - loss: 0.3980 - accuracy: 0.8185\n",
            "Epoch 62/100\n",
            "259/259 [==============================] - 1s 4ms/step - loss: 0.3957 - accuracy: 0.8203\n",
            "Epoch 63/100\n",
            "259/259 [==============================] - 1s 4ms/step - loss: 0.3955 - accuracy: 0.8211\n",
            "Epoch 64/100\n",
            "259/259 [==============================] - 1s 4ms/step - loss: 0.3957 - accuracy: 0.8174\n",
            "Epoch 65/100\n",
            "259/259 [==============================] - 1s 4ms/step - loss: 0.3931 - accuracy: 0.8237\n",
            "Epoch 66/100\n",
            "259/259 [==============================] - 1s 4ms/step - loss: 0.3921 - accuracy: 0.8235\n",
            "Epoch 67/100\n",
            "259/259 [==============================] - 1s 4ms/step - loss: 0.3913 - accuracy: 0.8194\n",
            "Epoch 68/100\n",
            "259/259 [==============================] - 1s 4ms/step - loss: 0.3922 - accuracy: 0.8236\n",
            "Epoch 69/100\n",
            "259/259 [==============================] - 1s 4ms/step - loss: 0.3918 - accuracy: 0.8208\n",
            "Epoch 70/100\n",
            "259/259 [==============================] - 1s 4ms/step - loss: 0.3905 - accuracy: 0.8230\n",
            "Epoch 71/100\n",
            "259/259 [==============================] - 1s 4ms/step - loss: 0.3886 - accuracy: 0.8243\n",
            "Epoch 72/100\n",
            "259/259 [==============================] - 1s 4ms/step - loss: 0.3895 - accuracy: 0.8257\n",
            "Epoch 73/100\n",
            "259/259 [==============================] - 1s 4ms/step - loss: 0.3879 - accuracy: 0.8243\n",
            "Epoch 74/100\n",
            "259/259 [==============================] - 1s 4ms/step - loss: 0.3879 - accuracy: 0.8237\n",
            "Epoch 75/100\n",
            "259/259 [==============================] - 1s 4ms/step - loss: 0.3855 - accuracy: 0.8258\n",
            "Epoch 76/100\n",
            "259/259 [==============================] - 1s 4ms/step - loss: 0.3860 - accuracy: 0.8235\n",
            "Epoch 77/100\n",
            "259/259 [==============================] - 1s 4ms/step - loss: 0.3867 - accuracy: 0.8276\n",
            "Epoch 78/100\n",
            "259/259 [==============================] - 1s 4ms/step - loss: 0.3850 - accuracy: 0.8235\n",
            "Epoch 79/100\n",
            "259/259 [==============================] - 1s 4ms/step - loss: 0.3844 - accuracy: 0.8281\n",
            "Epoch 80/100\n",
            "259/259 [==============================] - 1s 4ms/step - loss: 0.3846 - accuracy: 0.8248\n",
            "Epoch 81/100\n",
            "259/259 [==============================] - 1s 4ms/step - loss: 0.3824 - accuracy: 0.8286\n",
            "Epoch 82/100\n",
            "259/259 [==============================] - 1s 4ms/step - loss: 0.3827 - accuracy: 0.8292\n",
            "Epoch 83/100\n",
            "259/259 [==============================] - 1s 4ms/step - loss: 0.3823 - accuracy: 0.8301\n",
            "Epoch 84/100\n",
            "259/259 [==============================] - 1s 4ms/step - loss: 0.3804 - accuracy: 0.8288\n",
            "Epoch 85/100\n",
            "259/259 [==============================] - 1s 4ms/step - loss: 0.3813 - accuracy: 0.8303\n",
            "Epoch 86/100\n",
            "259/259 [==============================] - 1s 4ms/step - loss: 0.3806 - accuracy: 0.8304\n",
            "Epoch 87/100\n",
            "259/259 [==============================] - 1s 4ms/step - loss: 0.3806 - accuracy: 0.8287\n",
            "Epoch 88/100\n",
            "259/259 [==============================] - 1s 4ms/step - loss: 0.3800 - accuracy: 0.8289\n",
            "Epoch 89/100\n",
            "259/259 [==============================] - 1s 4ms/step - loss: 0.3776 - accuracy: 0.8308\n",
            "Epoch 90/100\n",
            "259/259 [==============================] - 1s 4ms/step - loss: 0.3770 - accuracy: 0.8308\n",
            "Epoch 91/100\n",
            "259/259 [==============================] - 1s 4ms/step - loss: 0.3777 - accuracy: 0.8308\n",
            "Epoch 92/100\n",
            "259/259 [==============================] - 1s 4ms/step - loss: 0.3782 - accuracy: 0.8341\n",
            "Epoch 93/100\n",
            "259/259 [==============================] - 1s 4ms/step - loss: 0.3768 - accuracy: 0.8340\n",
            "Epoch 94/100\n",
            "259/259 [==============================] - 1s 4ms/step - loss: 0.3750 - accuracy: 0.8322\n",
            "Epoch 95/100\n",
            "259/259 [==============================] - 1s 4ms/step - loss: 0.3783 - accuracy: 0.8315\n",
            "Epoch 96/100\n",
            "259/259 [==============================] - 1s 4ms/step - loss: 0.3747 - accuracy: 0.8324\n",
            "Epoch 97/100\n",
            "259/259 [==============================] - 1s 5ms/step - loss: 0.3747 - accuracy: 0.8344\n",
            "Epoch 98/100\n",
            "259/259 [==============================] - 2s 6ms/step - loss: 0.3735 - accuracy: 0.8367\n",
            "Epoch 99/100\n",
            "259/259 [==============================] - 2s 6ms/step - loss: 0.3723 - accuracy: 0.8358\n",
            "Epoch 100/100\n",
            "259/259 [==============================] - 2s 6ms/step - loss: 0.3729 - accuracy: 0.8366\n",
            "65/65 [==============================] - 0s 3ms/step - loss: 0.4727 - accuracy: 0.7798\n",
            "[0.4726617634296417, 0.7797676920890808]\n",
            "Classification Report: \n",
            "               precision    recall  f1-score   support\n",
            "\n",
            "           0       0.85      0.68      0.76      1033\n",
            "           1       0.73      0.88      0.80      1033\n",
            "\n",
            "    accuracy                           0.78      2066\n",
            "   macro avg       0.79      0.78      0.78      2066\n",
            "weighted avg       0.79      0.78      0.78      2066\n",
            "\n"
          ]
        }
      ]
    },
    {
      "cell_type": "markdown",
      "source": [
        "**Method 3: SMOT** "
      ],
      "metadata": {
        "id": "RAE_sGJP6idl"
      }
    },
    {
      "cell_type": "code",
      "source": [
        "X = df2.drop('Churn',axis='columns')\n",
        "y = df2['Churn']"
      ],
      "metadata": {
        "id": "F6QqauMd66qJ"
      },
      "execution_count": 50,
      "outputs": []
    },
    {
      "cell_type": "code",
      "source": [
        "!pip install imblearn"
      ],
      "metadata": {
        "colab": {
          "base_uri": "https://localhost:8080/"
        },
        "id": "Ftq2gqBj7HuA",
        "outputId": "f28c0e7d-3914-4c4b-c096-398f69c9f350"
      },
      "execution_count": 56,
      "outputs": [
        {
          "output_type": "stream",
          "name": "stdout",
          "text": [
            "Requirement already satisfied: imblearn in /usr/local/lib/python3.7/dist-packages (0.0)\n",
            "Requirement already satisfied: imbalanced-learn in /usr/local/lib/python3.7/dist-packages (from imblearn) (0.8.1)\n",
            "Requirement already satisfied: numpy>=1.13.3 in /usr/local/lib/python3.7/dist-packages (from imbalanced-learn->imblearn) (1.21.6)\n",
            "Requirement already satisfied: joblib>=0.11 in /usr/local/lib/python3.7/dist-packages (from imbalanced-learn->imblearn) (1.1.0)\n",
            "Requirement already satisfied: scikit-learn>=0.24 in /usr/local/lib/python3.7/dist-packages (from imbalanced-learn->imblearn) (1.0.2)\n",
            "Requirement already satisfied: scipy>=0.19.1 in /usr/local/lib/python3.7/dist-packages (from imbalanced-learn->imblearn) (1.4.1)\n",
            "Requirement already satisfied: threadpoolctl>=2.0.0 in /usr/local/lib/python3.7/dist-packages (from scikit-learn>=0.24->imbalanced-learn->imblearn) (3.1.0)\n"
          ]
        }
      ]
    },
    {
      "cell_type": "code",
      "source": [
        "from imblearn.over_sampling import SMOTE"
      ],
      "metadata": {
        "id": "DrhKNuyz7fJC"
      },
      "execution_count": 55,
      "outputs": []
    },
    {
      "cell_type": "code",
      "source": [
        "smote = SMOTE(sampling_strategy='minority')\n",
        "X_sm, y_sm = smote.fit_resample(X, y)\n",
        "\n",
        "y_sm.value_counts()"
      ],
      "metadata": {
        "colab": {
          "base_uri": "https://localhost:8080/"
        },
        "id": "D595cgO97CQ_",
        "outputId": "39f3086a-5726-4975-ce66-7e4a37a2b03e"
      },
      "execution_count": 58,
      "outputs": [
        {
          "output_type": "execute_result",
          "data": {
            "text/plain": [
              "0    5163\n",
              "1    5163\n",
              "Name: Churn, dtype: int64"
            ]
          },
          "metadata": {},
          "execution_count": 58
        }
      ]
    },
    {
      "cell_type": "code",
      "source": [
        "from sklearn.model_selection import train_test_split\n",
        "X_train, X_test, y_train, y_test = train_test_split(X_sm, y_sm, test_size=0.2, random_state=15, stratify=y_sm)"
      ],
      "metadata": {
        "id": "yYeb23iK9I5X"
      },
      "execution_count": 59,
      "outputs": []
    },
    {
      "cell_type": "code",
      "source": [
        "y_preds = ANN(X_train, y_train, X_test, y_test, 'binary_crossentropy', -1)"
      ],
      "metadata": {
        "colab": {
          "base_uri": "https://localhost:8080/"
        },
        "id": "nQP7KShV9Ond",
        "outputId": "21d2b5c8-c7d6-47ad-d4ef-2b9c6515a2eb"
      },
      "execution_count": 60,
      "outputs": [
        {
          "output_type": "stream",
          "name": "stdout",
          "text": [
            "Epoch 1/100\n",
            "259/259 [==============================] - 2s 6ms/step - loss: 0.5373 - accuracy: 0.7392\n",
            "Epoch 2/100\n",
            "259/259 [==============================] - 2s 7ms/step - loss: 0.4732 - accuracy: 0.7748\n",
            "Epoch 3/100\n",
            "259/259 [==============================] - 1s 4ms/step - loss: 0.4649 - accuracy: 0.7763\n",
            "Epoch 4/100\n",
            "259/259 [==============================] - 1s 4ms/step - loss: 0.4597 - accuracy: 0.7795\n",
            "Epoch 5/100\n",
            "259/259 [==============================] - 1s 4ms/step - loss: 0.4542 - accuracy: 0.7833\n",
            "Epoch 6/100\n",
            "259/259 [==============================] - 1s 4ms/step - loss: 0.4510 - accuracy: 0.7852\n",
            "Epoch 7/100\n",
            "259/259 [==============================] - 1s 4ms/step - loss: 0.4466 - accuracy: 0.7885\n",
            "Epoch 8/100\n",
            "259/259 [==============================] - 1s 4ms/step - loss: 0.4427 - accuracy: 0.7902\n",
            "Epoch 9/100\n",
            "259/259 [==============================] - 1s 4ms/step - loss: 0.4401 - accuracy: 0.7927\n",
            "Epoch 10/100\n",
            "259/259 [==============================] - 1s 4ms/step - loss: 0.4355 - accuracy: 0.7956\n",
            "Epoch 11/100\n",
            "259/259 [==============================] - 1s 4ms/step - loss: 0.4329 - accuracy: 0.7977\n",
            "Epoch 12/100\n",
            "259/259 [==============================] - 1s 4ms/step - loss: 0.4292 - accuracy: 0.7958\n",
            "Epoch 13/100\n",
            "259/259 [==============================] - 1s 4ms/step - loss: 0.4254 - accuracy: 0.8010\n",
            "Epoch 14/100\n",
            "259/259 [==============================] - 1s 4ms/step - loss: 0.4221 - accuracy: 0.8044\n",
            "Epoch 15/100\n",
            "259/259 [==============================] - 1s 4ms/step - loss: 0.4192 - accuracy: 0.8047\n",
            "Epoch 16/100\n",
            "259/259 [==============================] - 1s 4ms/step - loss: 0.4164 - accuracy: 0.8081\n",
            "Epoch 17/100\n",
            "259/259 [==============================] - 1s 4ms/step - loss: 0.4126 - accuracy: 0.8096\n",
            "Epoch 18/100\n",
            "259/259 [==============================] - 1s 4ms/step - loss: 0.4101 - accuracy: 0.8123\n",
            "Epoch 19/100\n",
            "259/259 [==============================] - 1s 4ms/step - loss: 0.4083 - accuracy: 0.8131\n",
            "Epoch 20/100\n",
            "259/259 [==============================] - 1s 4ms/step - loss: 0.4071 - accuracy: 0.8149\n",
            "Epoch 21/100\n",
            "259/259 [==============================] - 1s 5ms/step - loss: 0.4043 - accuracy: 0.8143\n",
            "Epoch 22/100\n",
            "259/259 [==============================] - 1s 4ms/step - loss: 0.4006 - accuracy: 0.8156\n",
            "Epoch 23/100\n",
            "259/259 [==============================] - 1s 4ms/step - loss: 0.4000 - accuracy: 0.8155\n",
            "Epoch 24/100\n",
            "259/259 [==============================] - 1s 4ms/step - loss: 0.3969 - accuracy: 0.8178\n",
            "Epoch 25/100\n",
            "259/259 [==============================] - 1s 4ms/step - loss: 0.3946 - accuracy: 0.8192\n",
            "Epoch 26/100\n",
            "259/259 [==============================] - 1s 4ms/step - loss: 0.3935 - accuracy: 0.8222\n",
            "Epoch 27/100\n",
            "259/259 [==============================] - 1s 4ms/step - loss: 0.3925 - accuracy: 0.8234\n",
            "Epoch 28/100\n",
            "259/259 [==============================] - 1s 4ms/step - loss: 0.3900 - accuracy: 0.8219\n",
            "Epoch 29/100\n",
            "259/259 [==============================] - 1s 4ms/step - loss: 0.3890 - accuracy: 0.8230\n",
            "Epoch 30/100\n",
            "259/259 [==============================] - 1s 4ms/step - loss: 0.3861 - accuracy: 0.8253\n",
            "Epoch 31/100\n",
            "259/259 [==============================] - 1s 4ms/step - loss: 0.3847 - accuracy: 0.8253\n",
            "Epoch 32/100\n",
            "259/259 [==============================] - 1s 4ms/step - loss: 0.3838 - accuracy: 0.8245\n",
            "Epoch 33/100\n",
            "259/259 [==============================] - 1s 4ms/step - loss: 0.3809 - accuracy: 0.8288\n",
            "Epoch 34/100\n",
            "259/259 [==============================] - 1s 4ms/step - loss: 0.3810 - accuracy: 0.8278\n",
            "Epoch 35/100\n",
            "259/259 [==============================] - 1s 4ms/step - loss: 0.3799 - accuracy: 0.8300\n",
            "Epoch 36/100\n",
            "259/259 [==============================] - 1s 4ms/step - loss: 0.3768 - accuracy: 0.8289\n",
            "Epoch 37/100\n",
            "259/259 [==============================] - 1s 4ms/step - loss: 0.3772 - accuracy: 0.8294\n",
            "Epoch 38/100\n",
            "259/259 [==============================] - 1s 4ms/step - loss: 0.3750 - accuracy: 0.8300\n",
            "Epoch 39/100\n",
            "259/259 [==============================] - 1s 4ms/step - loss: 0.3740 - accuracy: 0.8344\n",
            "Epoch 40/100\n",
            "259/259 [==============================] - 1s 4ms/step - loss: 0.3731 - accuracy: 0.8347\n",
            "Epoch 41/100\n",
            "259/259 [==============================] - 1s 4ms/step - loss: 0.3720 - accuracy: 0.8324\n",
            "Epoch 42/100\n",
            "259/259 [==============================] - 1s 4ms/step - loss: 0.3712 - accuracy: 0.8346\n",
            "Epoch 43/100\n",
            "259/259 [==============================] - 1s 4ms/step - loss: 0.3701 - accuracy: 0.8339\n",
            "Epoch 44/100\n",
            "259/259 [==============================] - 1s 4ms/step - loss: 0.3675 - accuracy: 0.8354\n",
            "Epoch 45/100\n",
            "259/259 [==============================] - 1s 4ms/step - loss: 0.3663 - accuracy: 0.8358\n",
            "Epoch 46/100\n",
            "259/259 [==============================] - 1s 4ms/step - loss: 0.3669 - accuracy: 0.8355\n",
            "Epoch 47/100\n",
            "259/259 [==============================] - 1s 4ms/step - loss: 0.3670 - accuracy: 0.8361\n",
            "Epoch 48/100\n",
            "259/259 [==============================] - 1s 4ms/step - loss: 0.3666 - accuracy: 0.8358\n",
            "Epoch 49/100\n",
            "259/259 [==============================] - 1s 4ms/step - loss: 0.3638 - accuracy: 0.8375\n",
            "Epoch 50/100\n",
            "259/259 [==============================] - 1s 4ms/step - loss: 0.3633 - accuracy: 0.8372\n",
            "Epoch 51/100\n",
            "259/259 [==============================] - 1s 4ms/step - loss: 0.3624 - accuracy: 0.8390\n",
            "Epoch 52/100\n",
            "259/259 [==============================] - 1s 4ms/step - loss: 0.3630 - accuracy: 0.8362\n",
            "Epoch 53/100\n",
            "259/259 [==============================] - 1s 4ms/step - loss: 0.3629 - accuracy: 0.8384\n",
            "Epoch 54/100\n",
            "259/259 [==============================] - 1s 4ms/step - loss: 0.3596 - accuracy: 0.8392\n",
            "Epoch 55/100\n",
            "259/259 [==============================] - 1s 4ms/step - loss: 0.3603 - accuracy: 0.8412\n",
            "Epoch 56/100\n",
            "259/259 [==============================] - 1s 4ms/step - loss: 0.3599 - accuracy: 0.8396\n",
            "Epoch 57/100\n",
            "259/259 [==============================] - 1s 4ms/step - loss: 0.3586 - accuracy: 0.8402\n",
            "Epoch 58/100\n",
            "259/259 [==============================] - 1s 4ms/step - loss: 0.3599 - accuracy: 0.8400\n",
            "Epoch 59/100\n",
            "259/259 [==============================] - 1s 4ms/step - loss: 0.3566 - accuracy: 0.8412\n",
            "Epoch 60/100\n",
            "259/259 [==============================] - 1s 4ms/step - loss: 0.3572 - accuracy: 0.8429\n",
            "Epoch 61/100\n",
            "259/259 [==============================] - 1s 4ms/step - loss: 0.3544 - accuracy: 0.8446\n",
            "Epoch 62/100\n",
            "259/259 [==============================] - 1s 4ms/step - loss: 0.3561 - accuracy: 0.8448\n",
            "Epoch 63/100\n",
            "259/259 [==============================] - 1s 4ms/step - loss: 0.3554 - accuracy: 0.8429\n",
            "Epoch 64/100\n",
            "259/259 [==============================] - 1s 4ms/step - loss: 0.3537 - accuracy: 0.8442\n",
            "Epoch 65/100\n",
            "259/259 [==============================] - 1s 4ms/step - loss: 0.3538 - accuracy: 0.8458\n",
            "Epoch 66/100\n",
            "259/259 [==============================] - 1s 4ms/step - loss: 0.3534 - accuracy: 0.8453\n",
            "Epoch 67/100\n",
            "259/259 [==============================] - 1s 4ms/step - loss: 0.3522 - accuracy: 0.8477\n",
            "Epoch 68/100\n",
            "259/259 [==============================] - 1s 4ms/step - loss: 0.3540 - accuracy: 0.8459\n",
            "Epoch 69/100\n",
            "259/259 [==============================] - 1s 4ms/step - loss: 0.3494 - accuracy: 0.8477\n",
            "Epoch 70/100\n",
            "259/259 [==============================] - 1s 4ms/step - loss: 0.3511 - accuracy: 0.8469\n",
            "Epoch 71/100\n",
            "259/259 [==============================] - 1s 4ms/step - loss: 0.3515 - accuracy: 0.8444\n",
            "Epoch 72/100\n",
            "259/259 [==============================] - 1s 4ms/step - loss: 0.3504 - accuracy: 0.8459\n",
            "Epoch 73/100\n",
            "259/259 [==============================] - 1s 4ms/step - loss: 0.3497 - accuracy: 0.8436\n",
            "Epoch 74/100\n",
            "259/259 [==============================] - 1s 4ms/step - loss: 0.3486 - accuracy: 0.8439\n",
            "Epoch 75/100\n",
            "259/259 [==============================] - 1s 4ms/step - loss: 0.3477 - accuracy: 0.8470\n",
            "Epoch 76/100\n",
            "259/259 [==============================] - 1s 4ms/step - loss: 0.3491 - accuracy: 0.8464\n",
            "Epoch 77/100\n",
            "259/259 [==============================] - 1s 4ms/step - loss: 0.3479 - accuracy: 0.8499\n",
            "Epoch 78/100\n",
            "259/259 [==============================] - 1s 4ms/step - loss: 0.3462 - accuracy: 0.8507\n",
            "Epoch 79/100\n",
            "259/259 [==============================] - 1s 4ms/step - loss: 0.3456 - accuracy: 0.8492\n",
            "Epoch 80/100\n",
            "259/259 [==============================] - 1s 4ms/step - loss: 0.3472 - accuracy: 0.8441\n",
            "Epoch 81/100\n",
            "259/259 [==============================] - 1s 4ms/step - loss: 0.3466 - accuracy: 0.8448\n",
            "Epoch 82/100\n",
            "259/259 [==============================] - 1s 4ms/step - loss: 0.3451 - accuracy: 0.8490\n",
            "Epoch 83/100\n",
            "259/259 [==============================] - 1s 4ms/step - loss: 0.3452 - accuracy: 0.8498\n",
            "Epoch 84/100\n",
            "259/259 [==============================] - 1s 4ms/step - loss: 0.3445 - accuracy: 0.8490\n",
            "Epoch 85/100\n",
            "259/259 [==============================] - 1s 4ms/step - loss: 0.3465 - accuracy: 0.8460\n",
            "Epoch 86/100\n",
            "259/259 [==============================] - 1s 4ms/step - loss: 0.3449 - accuracy: 0.8470\n",
            "Epoch 87/100\n",
            "259/259 [==============================] - 1s 4ms/step - loss: 0.3449 - accuracy: 0.8483\n",
            "Epoch 88/100\n",
            "259/259 [==============================] - 1s 4ms/step - loss: 0.3454 - accuracy: 0.8453\n",
            "Epoch 89/100\n",
            "259/259 [==============================] - 1s 4ms/step - loss: 0.3407 - accuracy: 0.8470\n",
            "Epoch 90/100\n",
            "259/259 [==============================] - 1s 4ms/step - loss: 0.3416 - accuracy: 0.8523\n",
            "Epoch 91/100\n",
            "259/259 [==============================] - 1s 4ms/step - loss: 0.3391 - accuracy: 0.8541\n",
            "Epoch 92/100\n",
            "259/259 [==============================] - 1s 4ms/step - loss: 0.3414 - accuracy: 0.8488\n",
            "Epoch 93/100\n",
            "259/259 [==============================] - 1s 4ms/step - loss: 0.3462 - accuracy: 0.8470\n",
            "Epoch 94/100\n",
            "259/259 [==============================] - 1s 4ms/step - loss: 0.3417 - accuracy: 0.8500\n",
            "Epoch 95/100\n",
            "259/259 [==============================] - 1s 4ms/step - loss: 0.3412 - accuracy: 0.8513\n",
            "Epoch 96/100\n",
            "259/259 [==============================] - 1s 4ms/step - loss: 0.3387 - accuracy: 0.8528\n",
            "Epoch 97/100\n",
            "259/259 [==============================] - 1s 4ms/step - loss: 0.3411 - accuracy: 0.8510\n",
            "Epoch 98/100\n",
            "259/259 [==============================] - 1s 4ms/step - loss: 0.3392 - accuracy: 0.8511\n",
            "Epoch 99/100\n",
            "259/259 [==============================] - 1s 4ms/step - loss: 0.3373 - accuracy: 0.8515\n",
            "Epoch 100/100\n",
            "259/259 [==============================] - 1s 4ms/step - loss: 0.3371 - accuracy: 0.8527\n",
            "65/65 [==============================] - 0s 3ms/step - loss: 0.4307 - accuracy: 0.8020\n",
            "[0.4307251572608948, 0.8020328879356384]\n",
            "Classification Report: \n",
            "               precision    recall  f1-score   support\n",
            "\n",
            "           0       0.81      0.79      0.80      1033\n",
            "           1       0.79      0.82      0.80      1033\n",
            "\n",
            "    accuracy                           0.80      2066\n",
            "   macro avg       0.80      0.80      0.80      2066\n",
            "weighted avg       0.80      0.80      0.80      2066\n",
            "\n"
          ]
        }
      ]
    },
    {
      "cell_type": "markdown",
      "source": [
        "**Method 4: Use of Ensemble with undersampling**"
      ],
      "metadata": {
        "id": "6KavzJxn93_l"
      }
    },
    {
      "cell_type": "code",
      "source": [
        "X = df2.drop('Churn',axis='columns')\n",
        "y = df2['Churn']"
      ],
      "metadata": {
        "id": "y6iTJmEu9wro"
      },
      "execution_count": 61,
      "outputs": []
    },
    {
      "cell_type": "code",
      "source": [
        "from sklearn.model_selection import train_test_split\n",
        "X_train, X_test, y_train, y_test = train_test_split(X, y, test_size=0.2, random_state=15, stratify=y)"
      ],
      "metadata": {
        "id": "y6j-TI1j-SpZ"
      },
      "execution_count": 62,
      "outputs": []
    },
    {
      "cell_type": "code",
      "source": [
        "y_train.value_counts()"
      ],
      "metadata": {
        "colab": {
          "base_uri": "https://localhost:8080/"
        },
        "id": "Dg9BUA15-Y3c",
        "outputId": "f3b54c42-fd26-4a2c-9daa-93f1fcc90950"
      },
      "execution_count": 63,
      "outputs": [
        {
          "output_type": "execute_result",
          "data": {
            "text/plain": [
              "0    4130\n",
              "1    1495\n",
              "Name: Churn, dtype: int64"
            ]
          },
          "metadata": {},
          "execution_count": 63
        }
      ]
    },
    {
      "cell_type": "code",
      "source": [
        "4130/1495 # the class ratio is nearly 1:3, so in this method we divide class 0 into 3 batches of size 4130/3"
      ],
      "metadata": {
        "colab": {
          "base_uri": "https://localhost:8080/"
        },
        "id": "18MgmDlI-kYq",
        "outputId": "c38a955b-cb55-4e9b-85a9-a60a2f825044"
      },
      "execution_count": 64,
      "outputs": [
        {
          "output_type": "execute_result",
          "data": {
            "text/plain": [
              "2.762541806020067"
            ]
          },
          "metadata": {},
          "execution_count": 64
        }
      ]
    },
    {
      "cell_type": "code",
      "source": [
        "4130/3"
      ],
      "metadata": {
        "colab": {
          "base_uri": "https://localhost:8080/"
        },
        "id": "jBAXOxt6-wg1",
        "outputId": "f980acf5-a2ce-4b34-a2be-e297bc1f310c"
      },
      "execution_count": 65,
      "outputs": [
        {
          "output_type": "execute_result",
          "data": {
            "text/plain": [
              "1376.6666666666667"
            ]
          },
          "metadata": {},
          "execution_count": 65
        }
      ]
    },
    {
      "cell_type": "code",
      "source": [
        "df3 = X_train.copy()\n",
        "df3['Churn'] = y_train"
      ],
      "metadata": {
        "id": "WV93xqEm_OzT"
      },
      "execution_count": 66,
      "outputs": []
    },
    {
      "cell_type": "code",
      "source": [
        "df3.shape\n"
      ],
      "metadata": {
        "colab": {
          "base_uri": "https://localhost:8080/"
        },
        "id": "ow6UgHA__po4",
        "outputId": "70069294-37dd-4616-89a9-eba5519b4410"
      },
      "execution_count": 67,
      "outputs": [
        {
          "output_type": "execute_result",
          "data": {
            "text/plain": [
              "(5625, 27)"
            ]
          },
          "metadata": {},
          "execution_count": 67
        }
      ]
    },
    {
      "cell_type": "code",
      "source": [
        "df3_class0 = df3[df3.Churn==0]\n",
        "df3_class1 = df3[df3.Churn==1]"
      ],
      "metadata": {
        "id": "rhIcTRTw_wp4"
      },
      "execution_count": 68,
      "outputs": []
    },
    {
      "cell_type": "code",
      "source": [
        "def get_train_batch(df_majority, df_minority, start, end):\n",
        "    df_train = pd.concat([df_majority[start:end], df_minority], axis=0)\n",
        "\n",
        "    X_train = df_train.drop('Churn', axis='columns')\n",
        "    y_train = df_train.Churn\n",
        "    return X_train, y_train   "
      ],
      "metadata": {
        "id": "nLJaAZIx_4nm"
      },
      "execution_count": 69,
      "outputs": []
    },
    {
      "cell_type": "code",
      "source": [
        "X_train, y_train = get_train_batch(df3_class0, df3_class1, 0, 1495)\n",
        "\n",
        "y_pred1 = ANN(X_train, y_train, X_test, y_test, 'binary_crossentropy', -1)"
      ],
      "metadata": {
        "colab": {
          "base_uri": "https://localhost:8080/"
        },
        "id": "R9VERMOSAmj4",
        "outputId": "824bf0da-ef64-4e7b-ddbb-3bfe1a7e058a"
      },
      "execution_count": 70,
      "outputs": [
        {
          "output_type": "stream",
          "name": "stdout",
          "text": [
            "Epoch 1/100\n",
            "94/94 [==============================] - 1s 6ms/step - loss: 0.6085 - accuracy: 0.6963\n",
            "Epoch 2/100\n",
            "94/94 [==============================] - 1s 6ms/step - loss: 0.5060 - accuracy: 0.7642\n",
            "Epoch 3/100\n",
            "94/94 [==============================] - 1s 6ms/step - loss: 0.4926 - accuracy: 0.7702\n",
            "Epoch 4/100\n",
            "94/94 [==============================] - 1s 6ms/step - loss: 0.4871 - accuracy: 0.7672\n",
            "Epoch 5/100\n",
            "94/94 [==============================] - 1s 7ms/step - loss: 0.4830 - accuracy: 0.7692\n",
            "Epoch 6/100\n",
            "94/94 [==============================] - 0s 4ms/step - loss: 0.4817 - accuracy: 0.7699\n",
            "Epoch 7/100\n",
            "94/94 [==============================] - 0s 4ms/step - loss: 0.4810 - accuracy: 0.7629\n",
            "Epoch 8/100\n",
            "94/94 [==============================] - 0s 4ms/step - loss: 0.4773 - accuracy: 0.7729\n",
            "Epoch 9/100\n",
            "94/94 [==============================] - 0s 4ms/step - loss: 0.4750 - accuracy: 0.7702\n",
            "Epoch 10/100\n",
            "94/94 [==============================] - 0s 4ms/step - loss: 0.4734 - accuracy: 0.7709\n",
            "Epoch 11/100\n",
            "94/94 [==============================] - 0s 4ms/step - loss: 0.4716 - accuracy: 0.7776\n",
            "Epoch 12/100\n",
            "94/94 [==============================] - 0s 4ms/step - loss: 0.4696 - accuracy: 0.7776\n",
            "Epoch 13/100\n",
            "94/94 [==============================] - 0s 4ms/step - loss: 0.4683 - accuracy: 0.7739\n",
            "Epoch 14/100\n",
            "94/94 [==============================] - 0s 4ms/step - loss: 0.4697 - accuracy: 0.7779\n",
            "Epoch 15/100\n",
            "94/94 [==============================] - 0s 4ms/step - loss: 0.4662 - accuracy: 0.7759\n",
            "Epoch 16/100\n",
            "94/94 [==============================] - 0s 4ms/step - loss: 0.4663 - accuracy: 0.7793\n",
            "Epoch 17/100\n",
            "94/94 [==============================] - 0s 4ms/step - loss: 0.4633 - accuracy: 0.7793\n",
            "Epoch 18/100\n",
            "94/94 [==============================] - 0s 4ms/step - loss: 0.4639 - accuracy: 0.7819\n",
            "Epoch 19/100\n",
            "94/94 [==============================] - 0s 4ms/step - loss: 0.4619 - accuracy: 0.7803\n",
            "Epoch 20/100\n",
            "94/94 [==============================] - 0s 4ms/step - loss: 0.4615 - accuracy: 0.7783\n",
            "Epoch 21/100\n",
            "94/94 [==============================] - 0s 4ms/step - loss: 0.4603 - accuracy: 0.7789\n",
            "Epoch 22/100\n",
            "94/94 [==============================] - 0s 4ms/step - loss: 0.4585 - accuracy: 0.7849\n",
            "Epoch 23/100\n",
            "94/94 [==============================] - 0s 4ms/step - loss: 0.4570 - accuracy: 0.7819\n",
            "Epoch 24/100\n",
            "94/94 [==============================] - 0s 4ms/step - loss: 0.4582 - accuracy: 0.7803\n",
            "Epoch 25/100\n",
            "94/94 [==============================] - 0s 4ms/step - loss: 0.4552 - accuracy: 0.7846\n",
            "Epoch 26/100\n",
            "94/94 [==============================] - 0s 4ms/step - loss: 0.4550 - accuracy: 0.7826\n",
            "Epoch 27/100\n",
            "94/94 [==============================] - 0s 4ms/step - loss: 0.4540 - accuracy: 0.7863\n",
            "Epoch 28/100\n",
            "94/94 [==============================] - 0s 4ms/step - loss: 0.4536 - accuracy: 0.7873\n",
            "Epoch 29/100\n",
            "94/94 [==============================] - 0s 4ms/step - loss: 0.4518 - accuracy: 0.7843\n",
            "Epoch 30/100\n",
            "94/94 [==============================] - 0s 4ms/step - loss: 0.4533 - accuracy: 0.7866\n",
            "Epoch 31/100\n",
            "94/94 [==============================] - 0s 4ms/step - loss: 0.4504 - accuracy: 0.7893\n",
            "Epoch 32/100\n",
            "94/94 [==============================] - 0s 4ms/step - loss: 0.4499 - accuracy: 0.7870\n",
            "Epoch 33/100\n",
            "94/94 [==============================] - 0s 4ms/step - loss: 0.4490 - accuracy: 0.7926\n",
            "Epoch 34/100\n",
            "94/94 [==============================] - 0s 4ms/step - loss: 0.4479 - accuracy: 0.7906\n",
            "Epoch 35/100\n",
            "94/94 [==============================] - 0s 4ms/step - loss: 0.4476 - accuracy: 0.7860\n",
            "Epoch 36/100\n",
            "94/94 [==============================] - 0s 4ms/step - loss: 0.4465 - accuracy: 0.7933\n",
            "Epoch 37/100\n",
            "94/94 [==============================] - 0s 4ms/step - loss: 0.4435 - accuracy: 0.7957\n",
            "Epoch 38/100\n",
            "94/94 [==============================] - 0s 4ms/step - loss: 0.4459 - accuracy: 0.7906\n",
            "Epoch 39/100\n",
            "94/94 [==============================] - 0s 4ms/step - loss: 0.4451 - accuracy: 0.7906\n",
            "Epoch 40/100\n",
            "94/94 [==============================] - 0s 4ms/step - loss: 0.4433 - accuracy: 0.7920\n",
            "Epoch 41/100\n",
            "94/94 [==============================] - 0s 4ms/step - loss: 0.4417 - accuracy: 0.7950\n",
            "Epoch 42/100\n",
            "94/94 [==============================] - 0s 4ms/step - loss: 0.4413 - accuracy: 0.7963\n",
            "Epoch 43/100\n",
            "94/94 [==============================] - 0s 4ms/step - loss: 0.4403 - accuracy: 0.7943\n",
            "Epoch 44/100\n",
            "94/94 [==============================] - 0s 4ms/step - loss: 0.4444 - accuracy: 0.7916\n",
            "Epoch 45/100\n",
            "94/94 [==============================] - 0s 5ms/step - loss: 0.4401 - accuracy: 0.7940\n",
            "Epoch 46/100\n",
            "94/94 [==============================] - 1s 6ms/step - loss: 0.4395 - accuracy: 0.7916\n",
            "Epoch 47/100\n",
            "94/94 [==============================] - 1s 7ms/step - loss: 0.4374 - accuracy: 0.7973\n",
            "Epoch 48/100\n",
            "94/94 [==============================] - 1s 7ms/step - loss: 0.4369 - accuracy: 0.7963\n",
            "Epoch 49/100\n",
            "94/94 [==============================] - 1s 7ms/step - loss: 0.4358 - accuracy: 0.7953\n",
            "Epoch 50/100\n",
            "94/94 [==============================] - 1s 7ms/step - loss: 0.4368 - accuracy: 0.7953\n",
            "Epoch 51/100\n",
            "94/94 [==============================] - 1s 6ms/step - loss: 0.4353 - accuracy: 0.7960\n",
            "Epoch 52/100\n",
            "94/94 [==============================] - 1s 6ms/step - loss: 0.4331 - accuracy: 0.8017\n",
            "Epoch 53/100\n",
            "94/94 [==============================] - 1s 6ms/step - loss: 0.4319 - accuracy: 0.7980\n",
            "Epoch 54/100\n",
            "94/94 [==============================] - 1s 6ms/step - loss: 0.4327 - accuracy: 0.8023\n",
            "Epoch 55/100\n",
            "94/94 [==============================] - 1s 6ms/step - loss: 0.4315 - accuracy: 0.7967\n",
            "Epoch 56/100\n",
            "94/94 [==============================] - 1s 6ms/step - loss: 0.4306 - accuracy: 0.7987\n",
            "Epoch 57/100\n",
            "94/94 [==============================] - 0s 4ms/step - loss: 0.4318 - accuracy: 0.7987\n",
            "Epoch 58/100\n",
            "94/94 [==============================] - 0s 4ms/step - loss: 0.4283 - accuracy: 0.8017\n",
            "Epoch 59/100\n",
            "94/94 [==============================] - 0s 4ms/step - loss: 0.4281 - accuracy: 0.8017\n",
            "Epoch 60/100\n",
            "94/94 [==============================] - 0s 4ms/step - loss: 0.4279 - accuracy: 0.7970\n",
            "Epoch 61/100\n",
            "94/94 [==============================] - 0s 4ms/step - loss: 0.4291 - accuracy: 0.7930\n",
            "Epoch 62/100\n",
            "94/94 [==============================] - 0s 4ms/step - loss: 0.4281 - accuracy: 0.8030\n",
            "Epoch 63/100\n",
            "94/94 [==============================] - 0s 4ms/step - loss: 0.4246 - accuracy: 0.8023\n",
            "Epoch 64/100\n",
            "94/94 [==============================] - 0s 4ms/step - loss: 0.4255 - accuracy: 0.8033\n",
            "Epoch 65/100\n",
            "94/94 [==============================] - 0s 4ms/step - loss: 0.4227 - accuracy: 0.8077\n",
            "Epoch 66/100\n",
            "94/94 [==============================] - 0s 4ms/step - loss: 0.4262 - accuracy: 0.8043\n",
            "Epoch 67/100\n",
            "94/94 [==============================] - 0s 4ms/step - loss: 0.4232 - accuracy: 0.8003\n",
            "Epoch 68/100\n",
            "94/94 [==============================] - 0s 4ms/step - loss: 0.4239 - accuracy: 0.8033\n",
            "Epoch 69/100\n",
            "94/94 [==============================] - 0s 4ms/step - loss: 0.4222 - accuracy: 0.8047\n",
            "Epoch 70/100\n",
            "94/94 [==============================] - 0s 4ms/step - loss: 0.4208 - accuracy: 0.8064\n",
            "Epoch 71/100\n",
            "94/94 [==============================] - 0s 4ms/step - loss: 0.4206 - accuracy: 0.8040\n",
            "Epoch 72/100\n",
            "94/94 [==============================] - 0s 4ms/step - loss: 0.4191 - accuracy: 0.8057\n",
            "Epoch 73/100\n",
            "94/94 [==============================] - 0s 4ms/step - loss: 0.4194 - accuracy: 0.8070\n",
            "Epoch 74/100\n",
            "94/94 [==============================] - 0s 4ms/step - loss: 0.4180 - accuracy: 0.8047\n",
            "Epoch 75/100\n",
            "94/94 [==============================] - 0s 4ms/step - loss: 0.4167 - accuracy: 0.8087\n",
            "Epoch 76/100\n",
            "94/94 [==============================] - 0s 4ms/step - loss: 0.4191 - accuracy: 0.8077\n",
            "Epoch 77/100\n",
            "94/94 [==============================] - 0s 4ms/step - loss: 0.4175 - accuracy: 0.8067\n",
            "Epoch 78/100\n",
            "94/94 [==============================] - 0s 4ms/step - loss: 0.4166 - accuracy: 0.8090\n",
            "Epoch 79/100\n",
            "94/94 [==============================] - 0s 4ms/step - loss: 0.4165 - accuracy: 0.8110\n",
            "Epoch 80/100\n",
            "94/94 [==============================] - 0s 4ms/step - loss: 0.4168 - accuracy: 0.8023\n",
            "Epoch 81/100\n",
            "94/94 [==============================] - 0s 4ms/step - loss: 0.4156 - accuracy: 0.8060\n",
            "Epoch 82/100\n",
            "94/94 [==============================] - 0s 4ms/step - loss: 0.4138 - accuracy: 0.8110\n",
            "Epoch 83/100\n",
            "94/94 [==============================] - 0s 4ms/step - loss: 0.4133 - accuracy: 0.8067\n",
            "Epoch 84/100\n",
            "94/94 [==============================] - 0s 4ms/step - loss: 0.4135 - accuracy: 0.8080\n",
            "Epoch 85/100\n",
            "94/94 [==============================] - 0s 4ms/step - loss: 0.4150 - accuracy: 0.8090\n",
            "Epoch 86/100\n",
            "94/94 [==============================] - 1s 6ms/step - loss: 0.4104 - accuracy: 0.8084\n",
            "Epoch 87/100\n",
            "94/94 [==============================] - 1s 5ms/step - loss: 0.4093 - accuracy: 0.8080\n",
            "Epoch 88/100\n",
            "94/94 [==============================] - 1s 6ms/step - loss: 0.4112 - accuracy: 0.8127\n",
            "Epoch 89/100\n",
            "94/94 [==============================] - 1s 6ms/step - loss: 0.4108 - accuracy: 0.8104\n",
            "Epoch 90/100\n",
            "94/94 [==============================] - 1s 6ms/step - loss: 0.4087 - accuracy: 0.8084\n",
            "Epoch 91/100\n",
            "94/94 [==============================] - 1s 6ms/step - loss: 0.4089 - accuracy: 0.8114\n",
            "Epoch 92/100\n",
            "94/94 [==============================] - 1s 6ms/step - loss: 0.4083 - accuracy: 0.8107\n",
            "Epoch 93/100\n",
            "94/94 [==============================] - 1s 6ms/step - loss: 0.4067 - accuracy: 0.8144\n",
            "Epoch 94/100\n",
            "94/94 [==============================] - 1s 6ms/step - loss: 0.4082 - accuracy: 0.8107\n",
            "Epoch 95/100\n",
            "94/94 [==============================] - 1s 6ms/step - loss: 0.4068 - accuracy: 0.8137\n",
            "Epoch 96/100\n",
            "94/94 [==============================] - 0s 5ms/step - loss: 0.4065 - accuracy: 0.8144\n",
            "Epoch 97/100\n",
            "94/94 [==============================] - 0s 4ms/step - loss: 0.4057 - accuracy: 0.8117\n",
            "Epoch 98/100\n",
            "94/94 [==============================] - 0s 4ms/step - loss: 0.4039 - accuracy: 0.8114\n",
            "Epoch 99/100\n",
            "94/94 [==============================] - 0s 4ms/step - loss: 0.4042 - accuracy: 0.8137\n",
            "Epoch 100/100\n",
            "94/94 [==============================] - 0s 4ms/step - loss: 0.4028 - accuracy: 0.8157\n",
            "44/44 [==============================] - 0s 3ms/step - loss: 0.5872 - accuracy: 0.7129\n",
            "[0.5871836543083191, 0.7128642797470093]\n",
            "Classification Report: \n",
            "               precision    recall  f1-score   support\n",
            "\n",
            "           0       0.90      0.68      0.78      1033\n",
            "           1       0.48      0.80      0.60       374\n",
            "\n",
            "    accuracy                           0.71      1407\n",
            "   macro avg       0.69      0.74      0.69      1407\n",
            "weighted avg       0.79      0.71      0.73      1407\n",
            "\n"
          ]
        }
      ]
    },
    {
      "cell_type": "code",
      "source": [
        "X_train, y_train = get_train_batch(df3_class0, df3_class1, 1495, 2990)\n",
        "\n",
        "y_pred2 = ANN(X_train, y_train, X_test, y_test, 'binary_crossentropy', -1)"
      ],
      "metadata": {
        "colab": {
          "base_uri": "https://localhost:8080/"
        },
        "id": "o4AZiSH4Ayuj",
        "outputId": "cf7db7d7-20ae-4468-f272-4311cd65cb0c"
      },
      "execution_count": 71,
      "outputs": [
        {
          "output_type": "stream",
          "name": "stdout",
          "text": [
            "Epoch 1/100\n",
            "94/94 [==============================] - 1s 4ms/step - loss: 0.6152 - accuracy: 0.6625\n",
            "Epoch 2/100\n",
            "94/94 [==============================] - 0s 4ms/step - loss: 0.5180 - accuracy: 0.7552\n",
            "Epoch 3/100\n",
            "94/94 [==============================] - 0s 4ms/step - loss: 0.5007 - accuracy: 0.7579\n",
            "Epoch 4/100\n",
            "94/94 [==============================] - 0s 4ms/step - loss: 0.4919 - accuracy: 0.7639\n",
            "Epoch 5/100\n",
            "94/94 [==============================] - 0s 4ms/step - loss: 0.4872 - accuracy: 0.7659\n",
            "Epoch 6/100\n",
            "94/94 [==============================] - 0s 4ms/step - loss: 0.4832 - accuracy: 0.7642\n",
            "Epoch 7/100\n",
            "94/94 [==============================] - 0s 4ms/step - loss: 0.4803 - accuracy: 0.7682\n",
            "Epoch 8/100\n",
            "94/94 [==============================] - 0s 4ms/step - loss: 0.4776 - accuracy: 0.7699\n",
            "Epoch 9/100\n",
            "94/94 [==============================] - 0s 4ms/step - loss: 0.4770 - accuracy: 0.7716\n",
            "Epoch 10/100\n",
            "94/94 [==============================] - 0s 4ms/step - loss: 0.4726 - accuracy: 0.7726\n",
            "Epoch 11/100\n",
            "94/94 [==============================] - 0s 4ms/step - loss: 0.4719 - accuracy: 0.7686\n",
            "Epoch 12/100\n",
            "94/94 [==============================] - 0s 4ms/step - loss: 0.4716 - accuracy: 0.7706\n",
            "Epoch 13/100\n",
            "94/94 [==============================] - 0s 4ms/step - loss: 0.4683 - accuracy: 0.7736\n",
            "Epoch 14/100\n",
            "94/94 [==============================] - 0s 4ms/step - loss: 0.4682 - accuracy: 0.7716\n",
            "Epoch 15/100\n",
            "94/94 [==============================] - 0s 4ms/step - loss: 0.4657 - accuracy: 0.7769\n",
            "Epoch 16/100\n",
            "94/94 [==============================] - 0s 4ms/step - loss: 0.4636 - accuracy: 0.7759\n",
            "Epoch 17/100\n",
            "94/94 [==============================] - 0s 4ms/step - loss: 0.4621 - accuracy: 0.7789\n",
            "Epoch 18/100\n",
            "94/94 [==============================] - 0s 4ms/step - loss: 0.4615 - accuracy: 0.7789\n",
            "Epoch 19/100\n",
            "94/94 [==============================] - 0s 4ms/step - loss: 0.4604 - accuracy: 0.7819\n",
            "Epoch 20/100\n",
            "94/94 [==============================] - 0s 4ms/step - loss: 0.4579 - accuracy: 0.7779\n",
            "Epoch 21/100\n",
            "94/94 [==============================] - 0s 4ms/step - loss: 0.4586 - accuracy: 0.7816\n",
            "Epoch 22/100\n",
            "94/94 [==============================] - 0s 4ms/step - loss: 0.4559 - accuracy: 0.7823\n",
            "Epoch 23/100\n",
            "94/94 [==============================] - 0s 4ms/step - loss: 0.4553 - accuracy: 0.7819\n",
            "Epoch 24/100\n",
            "94/94 [==============================] - 0s 4ms/step - loss: 0.4554 - accuracy: 0.7783\n",
            "Epoch 25/100\n",
            "94/94 [==============================] - 0s 4ms/step - loss: 0.4544 - accuracy: 0.7823\n",
            "Epoch 26/100\n",
            "94/94 [==============================] - 0s 4ms/step - loss: 0.4513 - accuracy: 0.7846\n",
            "Epoch 27/100\n",
            "94/94 [==============================] - 0s 4ms/step - loss: 0.4509 - accuracy: 0.7813\n",
            "Epoch 28/100\n",
            "94/94 [==============================] - 0s 4ms/step - loss: 0.4503 - accuracy: 0.7853\n",
            "Epoch 29/100\n",
            "94/94 [==============================] - 0s 4ms/step - loss: 0.4480 - accuracy: 0.7856\n",
            "Epoch 30/100\n",
            "94/94 [==============================] - 0s 4ms/step - loss: 0.4495 - accuracy: 0.7880\n",
            "Epoch 31/100\n",
            "94/94 [==============================] - 0s 4ms/step - loss: 0.4456 - accuracy: 0.7893\n",
            "Epoch 32/100\n",
            "94/94 [==============================] - 0s 4ms/step - loss: 0.4457 - accuracy: 0.7843\n",
            "Epoch 33/100\n",
            "94/94 [==============================] - 0s 4ms/step - loss: 0.4432 - accuracy: 0.7856\n",
            "Epoch 34/100\n",
            "94/94 [==============================] - 0s 4ms/step - loss: 0.4444 - accuracy: 0.7946\n",
            "Epoch 35/100\n",
            "94/94 [==============================] - 1s 6ms/step - loss: 0.4415 - accuracy: 0.7906\n",
            "Epoch 36/100\n",
            "94/94 [==============================] - 1s 6ms/step - loss: 0.4396 - accuracy: 0.7910\n",
            "Epoch 37/100\n",
            "94/94 [==============================] - 1s 6ms/step - loss: 0.4388 - accuracy: 0.7900\n",
            "Epoch 38/100\n",
            "94/94 [==============================] - 1s 5ms/step - loss: 0.4400 - accuracy: 0.7920\n",
            "Epoch 39/100\n",
            "94/94 [==============================] - 1s 6ms/step - loss: 0.4362 - accuracy: 0.7943\n",
            "Epoch 40/100\n",
            "94/94 [==============================] - 1s 6ms/step - loss: 0.4364 - accuracy: 0.7916\n",
            "Epoch 41/100\n",
            "94/94 [==============================] - 1s 6ms/step - loss: 0.4352 - accuracy: 0.7960\n",
            "Epoch 42/100\n",
            "94/94 [==============================] - 1s 5ms/step - loss: 0.4334 - accuracy: 0.7913\n",
            "Epoch 43/100\n",
            "94/94 [==============================] - 1s 5ms/step - loss: 0.4352 - accuracy: 0.7930\n",
            "Epoch 44/100\n",
            "94/94 [==============================] - 0s 5ms/step - loss: 0.4328 - accuracy: 0.7926\n",
            "Epoch 45/100\n",
            "94/94 [==============================] - 1s 5ms/step - loss: 0.4335 - accuracy: 0.7970\n",
            "Epoch 46/100\n",
            "94/94 [==============================] - 0s 4ms/step - loss: 0.4287 - accuracy: 0.7993\n",
            "Epoch 47/100\n",
            "94/94 [==============================] - 0s 4ms/step - loss: 0.4285 - accuracy: 0.7970\n",
            "Epoch 48/100\n",
            "94/94 [==============================] - 0s 4ms/step - loss: 0.4281 - accuracy: 0.7973\n",
            "Epoch 49/100\n",
            "94/94 [==============================] - 0s 4ms/step - loss: 0.4272 - accuracy: 0.7983\n",
            "Epoch 50/100\n",
            "94/94 [==============================] - 0s 4ms/step - loss: 0.4243 - accuracy: 0.8010\n",
            "Epoch 51/100\n",
            "94/94 [==============================] - 0s 4ms/step - loss: 0.4250 - accuracy: 0.7993\n",
            "Epoch 52/100\n",
            "94/94 [==============================] - 0s 4ms/step - loss: 0.4247 - accuracy: 0.8030\n",
            "Epoch 53/100\n",
            "94/94 [==============================] - 0s 4ms/step - loss: 0.4223 - accuracy: 0.8003\n",
            "Epoch 54/100\n",
            "94/94 [==============================] - 0s 4ms/step - loss: 0.4212 - accuracy: 0.7967\n",
            "Epoch 55/100\n",
            "94/94 [==============================] - 0s 4ms/step - loss: 0.4212 - accuracy: 0.7997\n",
            "Epoch 56/100\n",
            "94/94 [==============================] - 0s 4ms/step - loss: 0.4216 - accuracy: 0.8057\n",
            "Epoch 57/100\n",
            "94/94 [==============================] - 0s 4ms/step - loss: 0.4188 - accuracy: 0.8027\n",
            "Epoch 58/100\n",
            "94/94 [==============================] - 0s 4ms/step - loss: 0.4185 - accuracy: 0.8003\n",
            "Epoch 59/100\n",
            "94/94 [==============================] - 0s 4ms/step - loss: 0.4166 - accuracy: 0.8050\n",
            "Epoch 60/100\n",
            "94/94 [==============================] - 0s 4ms/step - loss: 0.4144 - accuracy: 0.8064\n",
            "Epoch 61/100\n",
            "94/94 [==============================] - 0s 4ms/step - loss: 0.4141 - accuracy: 0.8057\n",
            "Epoch 62/100\n",
            "94/94 [==============================] - 0s 4ms/step - loss: 0.4134 - accuracy: 0.8057\n",
            "Epoch 63/100\n",
            "94/94 [==============================] - 0s 4ms/step - loss: 0.4129 - accuracy: 0.8087\n",
            "Epoch 64/100\n",
            "94/94 [==============================] - 0s 4ms/step - loss: 0.4111 - accuracy: 0.8030\n",
            "Epoch 65/100\n",
            "94/94 [==============================] - 0s 4ms/step - loss: 0.4109 - accuracy: 0.8037\n",
            "Epoch 66/100\n",
            "94/94 [==============================] - 0s 4ms/step - loss: 0.4083 - accuracy: 0.8117\n",
            "Epoch 67/100\n",
            "94/94 [==============================] - 0s 4ms/step - loss: 0.4101 - accuracy: 0.8087\n",
            "Epoch 68/100\n",
            "94/94 [==============================] - 0s 4ms/step - loss: 0.4086 - accuracy: 0.8033\n",
            "Epoch 69/100\n",
            "94/94 [==============================] - 0s 4ms/step - loss: 0.4080 - accuracy: 0.8137\n",
            "Epoch 70/100\n",
            "94/94 [==============================] - 0s 4ms/step - loss: 0.4044 - accuracy: 0.8114\n",
            "Epoch 71/100\n",
            "94/94 [==============================] - 0s 4ms/step - loss: 0.4064 - accuracy: 0.8064\n",
            "Epoch 72/100\n",
            "94/94 [==============================] - 0s 4ms/step - loss: 0.4084 - accuracy: 0.8084\n",
            "Epoch 73/100\n",
            "94/94 [==============================] - 0s 4ms/step - loss: 0.4032 - accuracy: 0.8120\n",
            "Epoch 74/100\n",
            "94/94 [==============================] - 0s 4ms/step - loss: 0.4026 - accuracy: 0.8104\n",
            "Epoch 75/100\n",
            "94/94 [==============================] - 0s 3ms/step - loss: 0.4008 - accuracy: 0.8107\n",
            "Epoch 76/100\n",
            "94/94 [==============================] - 0s 4ms/step - loss: 0.3990 - accuracy: 0.8154\n",
            "Epoch 77/100\n",
            "94/94 [==============================] - 0s 4ms/step - loss: 0.3986 - accuracy: 0.8154\n",
            "Epoch 78/100\n",
            "94/94 [==============================] - 0s 4ms/step - loss: 0.3975 - accuracy: 0.8130\n",
            "Epoch 79/100\n",
            "94/94 [==============================] - 0s 4ms/step - loss: 0.3970 - accuracy: 0.8137\n",
            "Epoch 80/100\n",
            "94/94 [==============================] - 0s 4ms/step - loss: 0.3964 - accuracy: 0.8140\n",
            "Epoch 81/100\n",
            "94/94 [==============================] - 0s 4ms/step - loss: 0.3952 - accuracy: 0.8137\n",
            "Epoch 82/100\n",
            "94/94 [==============================] - 1s 6ms/step - loss: 0.3922 - accuracy: 0.8197\n",
            "Epoch 83/100\n",
            "94/94 [==============================] - 1s 6ms/step - loss: 0.3912 - accuracy: 0.8217\n",
            "Epoch 84/100\n",
            "94/94 [==============================] - 1s 6ms/step - loss: 0.3910 - accuracy: 0.8187\n",
            "Epoch 85/100\n",
            "94/94 [==============================] - 1s 6ms/step - loss: 0.3895 - accuracy: 0.8234\n",
            "Epoch 86/100\n",
            "94/94 [==============================] - 1s 6ms/step - loss: 0.3896 - accuracy: 0.8181\n",
            "Epoch 87/100\n",
            "94/94 [==============================] - 1s 6ms/step - loss: 0.3909 - accuracy: 0.8154\n",
            "Epoch 88/100\n",
            "94/94 [==============================] - 1s 6ms/step - loss: 0.3888 - accuracy: 0.8181\n",
            "Epoch 89/100\n",
            "94/94 [==============================] - 1s 6ms/step - loss: 0.3855 - accuracy: 0.8221\n",
            "Epoch 90/100\n",
            "94/94 [==============================] - 1s 6ms/step - loss: 0.3840 - accuracy: 0.8194\n",
            "Epoch 91/100\n",
            "94/94 [==============================] - 1s 6ms/step - loss: 0.3854 - accuracy: 0.8187\n",
            "Epoch 92/100\n",
            "94/94 [==============================] - 1s 7ms/step - loss: 0.3836 - accuracy: 0.8201\n",
            "Epoch 93/100\n",
            "94/94 [==============================] - 1s 7ms/step - loss: 0.3831 - accuracy: 0.8258\n",
            "Epoch 94/100\n",
            "94/94 [==============================] - 0s 4ms/step - loss: 0.3813 - accuracy: 0.8201\n",
            "Epoch 95/100\n",
            "94/94 [==============================] - 0s 4ms/step - loss: 0.3812 - accuracy: 0.8274\n",
            "Epoch 96/100\n",
            "94/94 [==============================] - 0s 4ms/step - loss: 0.3800 - accuracy: 0.8214\n",
            "Epoch 97/100\n",
            "94/94 [==============================] - 0s 4ms/step - loss: 0.3786 - accuracy: 0.8247\n",
            "Epoch 98/100\n",
            "94/94 [==============================] - 0s 4ms/step - loss: 0.3797 - accuracy: 0.8247\n",
            "Epoch 99/100\n",
            "94/94 [==============================] - 0s 4ms/step - loss: 0.3777 - accuracy: 0.8251\n",
            "Epoch 100/100\n",
            "94/94 [==============================] - 0s 4ms/step - loss: 0.3777 - accuracy: 0.8247\n",
            "44/44 [==============================] - 0s 3ms/step - loss: 0.5637 - accuracy: 0.7271\n",
            "[0.5636823773384094, 0.727078914642334]\n",
            "Classification Report: \n",
            "               precision    recall  f1-score   support\n",
            "\n",
            "           0       0.89      0.71      0.79      1033\n",
            "           1       0.49      0.76      0.60       374\n",
            "\n",
            "    accuracy                           0.73      1407\n",
            "   macro avg       0.69      0.74      0.70      1407\n",
            "weighted avg       0.79      0.73      0.74      1407\n",
            "\n"
          ]
        }
      ]
    },
    {
      "cell_type": "code",
      "source": [
        "X_train, y_train = get_train_batch(df3_class0, df3_class1, 2990, 4130)\n",
        "\n",
        "y_pred3 = ANN(X_train, y_train, X_test, y_test, 'binary_crossentropy', -1)"
      ],
      "metadata": {
        "colab": {
          "base_uri": "https://localhost:8080/"
        },
        "id": "6_2qP5MoA-8H",
        "outputId": "afdf0f66-8a05-4c17-d21c-9d20283c3c3a"
      },
      "execution_count": 72,
      "outputs": [
        {
          "output_type": "stream",
          "name": "stdout",
          "text": [
            "Epoch 1/100\n",
            "83/83 [==============================] - 1s 4ms/step - loss: 0.6501 - accuracy: 0.6493\n",
            "Epoch 2/100\n",
            "83/83 [==============================] - 0s 4ms/step - loss: 0.5237 - accuracy: 0.7620\n",
            "Epoch 3/100\n",
            "83/83 [==============================] - 0s 4ms/step - loss: 0.4905 - accuracy: 0.7715\n",
            "Epoch 4/100\n",
            "83/83 [==============================] - 0s 4ms/step - loss: 0.4820 - accuracy: 0.7719\n",
            "Epoch 5/100\n",
            "83/83 [==============================] - 0s 4ms/step - loss: 0.4773 - accuracy: 0.7742\n",
            "Epoch 6/100\n",
            "83/83 [==============================] - 0s 4ms/step - loss: 0.4721 - accuracy: 0.7822\n",
            "Epoch 7/100\n",
            "83/83 [==============================] - 0s 4ms/step - loss: 0.4692 - accuracy: 0.7772\n",
            "Epoch 8/100\n",
            "83/83 [==============================] - 0s 4ms/step - loss: 0.4679 - accuracy: 0.7772\n",
            "Epoch 9/100\n",
            "83/83 [==============================] - 0s 4ms/step - loss: 0.4652 - accuracy: 0.7814\n",
            "Epoch 10/100\n",
            "83/83 [==============================] - 0s 4ms/step - loss: 0.4633 - accuracy: 0.7806\n",
            "Epoch 11/100\n",
            "83/83 [==============================] - 0s 4ms/step - loss: 0.4619 - accuracy: 0.7825\n",
            "Epoch 12/100\n",
            "83/83 [==============================] - 0s 3ms/step - loss: 0.4604 - accuracy: 0.7837\n",
            "Epoch 13/100\n",
            "83/83 [==============================] - 0s 3ms/step - loss: 0.4581 - accuracy: 0.7875\n",
            "Epoch 14/100\n",
            "83/83 [==============================] - 0s 4ms/step - loss: 0.4568 - accuracy: 0.7901\n",
            "Epoch 15/100\n",
            "83/83 [==============================] - 0s 4ms/step - loss: 0.4553 - accuracy: 0.7841\n",
            "Epoch 16/100\n",
            "83/83 [==============================] - 0s 4ms/step - loss: 0.4549 - accuracy: 0.7901\n",
            "Epoch 17/100\n",
            "83/83 [==============================] - 0s 4ms/step - loss: 0.4536 - accuracy: 0.7852\n",
            "Epoch 18/100\n",
            "83/83 [==============================] - 0s 4ms/step - loss: 0.4524 - accuracy: 0.7901\n",
            "Epoch 19/100\n",
            "83/83 [==============================] - 0s 4ms/step - loss: 0.4490 - accuracy: 0.7917\n",
            "Epoch 20/100\n",
            "83/83 [==============================] - 0s 4ms/step - loss: 0.4505 - accuracy: 0.7863\n",
            "Epoch 21/100\n",
            "83/83 [==============================] - 0s 4ms/step - loss: 0.4467 - accuracy: 0.7886\n",
            "Epoch 22/100\n",
            "83/83 [==============================] - 0s 4ms/step - loss: 0.4471 - accuracy: 0.7962\n",
            "Epoch 23/100\n",
            "83/83 [==============================] - 0s 4ms/step - loss: 0.4456 - accuracy: 0.7928\n",
            "Epoch 24/100\n",
            "83/83 [==============================] - 0s 4ms/step - loss: 0.4471 - accuracy: 0.7917\n",
            "Epoch 25/100\n",
            "83/83 [==============================] - 0s 4ms/step - loss: 0.4437 - accuracy: 0.7905\n",
            "Epoch 26/100\n",
            "83/83 [==============================] - 0s 4ms/step - loss: 0.4409 - accuracy: 0.7996\n",
            "Epoch 27/100\n",
            "83/83 [==============================] - 0s 4ms/step - loss: 0.4403 - accuracy: 0.7973\n",
            "Epoch 28/100\n",
            "83/83 [==============================] - 0s 4ms/step - loss: 0.4384 - accuracy: 0.7962\n",
            "Epoch 29/100\n",
            "83/83 [==============================] - 0s 4ms/step - loss: 0.4366 - accuracy: 0.7989\n",
            "Epoch 30/100\n",
            "83/83 [==============================] - 0s 4ms/step - loss: 0.4368 - accuracy: 0.8015\n",
            "Epoch 31/100\n",
            "83/83 [==============================] - 0s 4ms/step - loss: 0.4340 - accuracy: 0.8019\n",
            "Epoch 32/100\n",
            "83/83 [==============================] - 0s 4ms/step - loss: 0.4356 - accuracy: 0.7920\n",
            "Epoch 33/100\n",
            "83/83 [==============================] - 0s 4ms/step - loss: 0.4314 - accuracy: 0.7989\n",
            "Epoch 34/100\n",
            "83/83 [==============================] - 0s 4ms/step - loss: 0.4312 - accuracy: 0.7996\n",
            "Epoch 35/100\n",
            "83/83 [==============================] - 0s 4ms/step - loss: 0.4284 - accuracy: 0.7989\n",
            "Epoch 36/100\n",
            "83/83 [==============================] - 0s 4ms/step - loss: 0.4281 - accuracy: 0.7996\n",
            "Epoch 37/100\n",
            "83/83 [==============================] - 0s 4ms/step - loss: 0.4264 - accuracy: 0.8049\n",
            "Epoch 38/100\n",
            "83/83 [==============================] - 0s 4ms/step - loss: 0.4264 - accuracy: 0.8027\n",
            "Epoch 39/100\n",
            "83/83 [==============================] - 0s 4ms/step - loss: 0.4243 - accuracy: 0.8095\n",
            "Epoch 40/100\n",
            "83/83 [==============================] - 0s 4ms/step - loss: 0.4234 - accuracy: 0.8011\n",
            "Epoch 41/100\n",
            "83/83 [==============================] - 0s 4ms/step - loss: 0.4224 - accuracy: 0.8061\n",
            "Epoch 42/100\n",
            "83/83 [==============================] - 0s 4ms/step - loss: 0.4216 - accuracy: 0.8038\n",
            "Epoch 43/100\n",
            "83/83 [==============================] - 0s 4ms/step - loss: 0.4199 - accuracy: 0.8065\n",
            "Epoch 44/100\n",
            "83/83 [==============================] - 0s 4ms/step - loss: 0.4191 - accuracy: 0.8087\n",
            "Epoch 45/100\n",
            "83/83 [==============================] - 0s 4ms/step - loss: 0.4191 - accuracy: 0.8046\n",
            "Epoch 46/100\n",
            "83/83 [==============================] - 0s 4ms/step - loss: 0.4175 - accuracy: 0.8065\n",
            "Epoch 47/100\n",
            "83/83 [==============================] - 0s 4ms/step - loss: 0.4184 - accuracy: 0.8053\n",
            "Epoch 48/100\n",
            "83/83 [==============================] - 0s 4ms/step - loss: 0.4159 - accuracy: 0.8106\n",
            "Epoch 49/100\n",
            "83/83 [==============================] - 0s 4ms/step - loss: 0.4156 - accuracy: 0.8148\n",
            "Epoch 50/100\n",
            "83/83 [==============================] - 0s 4ms/step - loss: 0.4135 - accuracy: 0.8080\n",
            "Epoch 51/100\n",
            "83/83 [==============================] - 0s 4ms/step - loss: 0.4126 - accuracy: 0.8099\n",
            "Epoch 52/100\n",
            "83/83 [==============================] - 0s 4ms/step - loss: 0.4104 - accuracy: 0.8129\n",
            "Epoch 53/100\n",
            "83/83 [==============================] - 0s 4ms/step - loss: 0.4104 - accuracy: 0.8110\n",
            "Epoch 54/100\n",
            "83/83 [==============================] - 0s 4ms/step - loss: 0.4098 - accuracy: 0.8072\n",
            "Epoch 55/100\n",
            "83/83 [==============================] - 0s 4ms/step - loss: 0.4081 - accuracy: 0.8163\n",
            "Epoch 56/100\n",
            "83/83 [==============================] - 0s 4ms/step - loss: 0.4089 - accuracy: 0.8144\n",
            "Epoch 57/100\n",
            "83/83 [==============================] - 0s 3ms/step - loss: 0.4066 - accuracy: 0.8167\n",
            "Epoch 58/100\n",
            "83/83 [==============================] - 0s 4ms/step - loss: 0.4047 - accuracy: 0.8129\n",
            "Epoch 59/100\n",
            "83/83 [==============================] - 0s 4ms/step - loss: 0.4064 - accuracy: 0.8114\n",
            "Epoch 60/100\n",
            "83/83 [==============================] - 0s 4ms/step - loss: 0.4046 - accuracy: 0.8171\n",
            "Epoch 61/100\n",
            "83/83 [==============================] - 0s 4ms/step - loss: 0.4040 - accuracy: 0.8182\n",
            "Epoch 62/100\n",
            "83/83 [==============================] - 0s 4ms/step - loss: 0.4032 - accuracy: 0.8159\n",
            "Epoch 63/100\n",
            "83/83 [==============================] - 0s 4ms/step - loss: 0.4022 - accuracy: 0.8163\n",
            "Epoch 64/100\n",
            "83/83 [==============================] - 0s 4ms/step - loss: 0.4041 - accuracy: 0.8114\n",
            "Epoch 65/100\n",
            "83/83 [==============================] - 0s 4ms/step - loss: 0.4015 - accuracy: 0.8190\n",
            "Epoch 66/100\n",
            "83/83 [==============================] - 0s 4ms/step - loss: 0.3996 - accuracy: 0.8144\n",
            "Epoch 67/100\n",
            "83/83 [==============================] - 0s 4ms/step - loss: 0.3984 - accuracy: 0.8201\n",
            "Epoch 68/100\n",
            "83/83 [==============================] - 0s 4ms/step - loss: 0.3999 - accuracy: 0.8231\n",
            "Epoch 69/100\n",
            "83/83 [==============================] - 0s 4ms/step - loss: 0.3969 - accuracy: 0.8144\n",
            "Epoch 70/100\n",
            "83/83 [==============================] - 0s 4ms/step - loss: 0.3972 - accuracy: 0.8175\n",
            "Epoch 71/100\n",
            "83/83 [==============================] - 0s 4ms/step - loss: 0.3946 - accuracy: 0.8216\n",
            "Epoch 72/100\n",
            "83/83 [==============================] - 0s 4ms/step - loss: 0.3949 - accuracy: 0.8190\n",
            "Epoch 73/100\n",
            "83/83 [==============================] - 0s 4ms/step - loss: 0.3925 - accuracy: 0.8175\n",
            "Epoch 74/100\n",
            "83/83 [==============================] - 0s 4ms/step - loss: 0.3943 - accuracy: 0.8205\n",
            "Epoch 75/100\n",
            "83/83 [==============================] - 0s 4ms/step - loss: 0.3916 - accuracy: 0.8190\n",
            "Epoch 76/100\n",
            "83/83 [==============================] - 0s 4ms/step - loss: 0.3916 - accuracy: 0.8247\n",
            "Epoch 77/100\n",
            "83/83 [==============================] - 0s 4ms/step - loss: 0.3895 - accuracy: 0.8235\n",
            "Epoch 78/100\n",
            "83/83 [==============================] - 0s 4ms/step - loss: 0.3906 - accuracy: 0.8235\n",
            "Epoch 79/100\n",
            "83/83 [==============================] - 0s 4ms/step - loss: 0.3903 - accuracy: 0.8239\n",
            "Epoch 80/100\n",
            "83/83 [==============================] - 0s 4ms/step - loss: 0.3906 - accuracy: 0.8262\n",
            "Epoch 81/100\n",
            "83/83 [==============================] - 0s 4ms/step - loss: 0.3881 - accuracy: 0.8254\n",
            "Epoch 82/100\n",
            "83/83 [==============================] - 0s 4ms/step - loss: 0.3861 - accuracy: 0.8266\n",
            "Epoch 83/100\n",
            "83/83 [==============================] - 0s 4ms/step - loss: 0.3853 - accuracy: 0.8258\n",
            "Epoch 84/100\n",
            "83/83 [==============================] - 0s 3ms/step - loss: 0.3860 - accuracy: 0.8307\n",
            "Epoch 85/100\n",
            "83/83 [==============================] - 0s 4ms/step - loss: 0.3852 - accuracy: 0.8250\n",
            "Epoch 86/100\n",
            "83/83 [==============================] - 0s 4ms/step - loss: 0.3838 - accuracy: 0.8266\n",
            "Epoch 87/100\n",
            "83/83 [==============================] - 0s 4ms/step - loss: 0.3823 - accuracy: 0.8315\n",
            "Epoch 88/100\n",
            "83/83 [==============================] - 0s 4ms/step - loss: 0.3818 - accuracy: 0.8273\n",
            "Epoch 89/100\n",
            "83/83 [==============================] - 0s 4ms/step - loss: 0.3819 - accuracy: 0.8288\n",
            "Epoch 90/100\n",
            "83/83 [==============================] - 0s 4ms/step - loss: 0.3798 - accuracy: 0.8300\n",
            "Epoch 91/100\n",
            "83/83 [==============================] - 0s 4ms/step - loss: 0.3803 - accuracy: 0.8304\n",
            "Epoch 92/100\n",
            "83/83 [==============================] - 0s 4ms/step - loss: 0.3805 - accuracy: 0.8307\n",
            "Epoch 93/100\n",
            "83/83 [==============================] - 0s 4ms/step - loss: 0.3788 - accuracy: 0.8292\n",
            "Epoch 94/100\n",
            "83/83 [==============================] - 0s 4ms/step - loss: 0.3785 - accuracy: 0.8326\n",
            "Epoch 95/100\n",
            "83/83 [==============================] - 0s 4ms/step - loss: 0.3774 - accuracy: 0.8338\n",
            "Epoch 96/100\n",
            "83/83 [==============================] - 0s 4ms/step - loss: 0.3798 - accuracy: 0.8281\n",
            "Epoch 97/100\n",
            "83/83 [==============================] - 0s 4ms/step - loss: 0.3780 - accuracy: 0.8273\n",
            "Epoch 98/100\n",
            "83/83 [==============================] - 0s 4ms/step - loss: 0.3735 - accuracy: 0.8315\n",
            "Epoch 99/100\n",
            "83/83 [==============================] - 0s 4ms/step - loss: 0.3758 - accuracy: 0.8330\n",
            "Epoch 100/100\n",
            "83/83 [==============================] - 0s 4ms/step - loss: 0.3745 - accuracy: 0.8326\n",
            "44/44 [==============================] - 0s 3ms/step - loss: 0.6782 - accuracy: 0.6645\n",
            "[0.6782329082489014, 0.6645344495773315]\n",
            "Classification Report: \n",
            "               precision    recall  f1-score   support\n",
            "\n",
            "           0       0.90      0.61      0.73      1033\n",
            "           1       0.43      0.82      0.56       374\n",
            "\n",
            "    accuracy                           0.66      1407\n",
            "   macro avg       0.67      0.71      0.65      1407\n",
            "weighted avg       0.78      0.66      0.68      1407\n",
            "\n"
          ]
        }
      ]
    },
    {
      "cell_type": "code",
      "source": [
        "len(y_pred1)"
      ],
      "metadata": {
        "colab": {
          "base_uri": "https://localhost:8080/"
        },
        "id": "pUWWXuUTBTKQ",
        "outputId": "3a3f9f41-20fc-4b1c-94f2-dfca6938ecad"
      },
      "execution_count": 73,
      "outputs": [
        {
          "output_type": "execute_result",
          "data": {
            "text/plain": [
              "1407"
            ]
          },
          "metadata": {},
          "execution_count": 73
        }
      ]
    },
    {
      "cell_type": "markdown",
      "source": [
        "Finding the majority vote from 3 prediction, where adding each prediction gives greater than 1 represents that the majority vote is 1"
      ],
      "metadata": {
        "id": "f8AqYPlhCCSe"
      }
    },
    {
      "cell_type": "code",
      "source": [
        "y_pred_final = y_pred1.copy()\n",
        "for i in range(len(y_pred1)):\n",
        "    n_ones = y_pred1[i] + y_pred2[i] + y_pred3[i]\n",
        "    if n_ones>1:\n",
        "        y_pred_final[i] = 1\n",
        "    else:\n",
        "        y_pred_final[i] = 0"
      ],
      "metadata": {
        "id": "NH2LeXePBgxq"
      },
      "execution_count": 74,
      "outputs": []
    },
    {
      "cell_type": "code",
      "source": [
        "cl_rep = classification_report(y_test, y_pred_final)\n",
        "print(cl_rep)"
      ],
      "metadata": {
        "colab": {
          "base_uri": "https://localhost:8080/"
        },
        "id": "Ciox5p68B4DD",
        "outputId": "a1eccef9-b293-4dc0-a9b1-868c0d4d7c0a"
      },
      "execution_count": 75,
      "outputs": [
        {
          "output_type": "stream",
          "name": "stdout",
          "text": [
            "              precision    recall  f1-score   support\n",
            "\n",
            "           0       0.90      0.67      0.77      1033\n",
            "           1       0.47      0.80      0.59       374\n",
            "\n",
            "    accuracy                           0.71      1407\n",
            "   macro avg       0.69      0.74      0.68      1407\n",
            "weighted avg       0.79      0.71      0.72      1407\n",
            "\n"
          ]
        }
      ]
    }
  ]
}