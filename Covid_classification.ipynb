{
  "nbformat": 4,
  "nbformat_minor": 0,
  "metadata": {
    "colab": {
      "name": "Covid_classification.ipynb",
      "provenance": [],
      "authorship_tag": "ABX9TyP5JbBTDvP8V9BHO4z7PJ1W",
      "include_colab_link": true
    },
    "kernelspec": {
      "name": "python3",
      "display_name": "Python 3"
    },
    "language_info": {
      "name": "python"
    },
    "accelerator": "GPU"
  },
  "cells": [
    {
      "cell_type": "markdown",
      "metadata": {
        "id": "view-in-github",
        "colab_type": "text"
      },
      "source": [
        "<a href=\"https://colab.research.google.com/github/Bipin-6751/Machine-Learning-Collection/blob/master/Covid_classification.ipynb\" target=\"_parent\"><img src=\"https://colab.research.google.com/assets/colab-badge.svg\" alt=\"Open In Colab\"/></a>"
      ]
    },
    {
      "cell_type": "code",
      "source": [
        "train_path = '/content/data_set/Train'\n",
        "val_path = '/content/data_set/Validation'"
      ],
      "metadata": {
        "id": "-JPUJZ9-rGGj"
      },
      "execution_count": 3,
      "outputs": []
    },
    {
      "cell_type": "code",
      "source": [
        "import numpy as np\n",
        "import matplotlib.pyplot as plt\n",
        "import tensorflow as tf\n",
        "from tensorflow import keras\n",
        "from tensorflow.keras import layers\n",
        "from tensorflow.keras import models\n",
        "from tensorflow.keras.preprocessing import image\n"
      ],
      "metadata": {
        "id": "MWUqbpxbrNgh"
      },
      "execution_count": 5,
      "outputs": []
    },
    {
      "cell_type": "code",
      "source": [
        "model = keras.Sequential([\n",
        "                          layers.Conv2D(32, kernel_size=(3,3), activation='relu', input_shape=(224,224,3)),\n",
        "                          layers.Conv2D(64, (3, 3), activation='relu'),\n",
        "                          layers.MaxPooling2D(pool_size=(2,2)),\n",
        "                          layers.Dropout(0.25),\n",
        "\n",
        "                          layers.Conv2D(64, (3,3), activation='relu'),\n",
        "                          layers.MaxPooling2D(pool_size=(2,2)),\n",
        "                          layers.Dropout(0.25),\n",
        "\n",
        "                          layers.Conv2D(128, (3,3), activation='relu'),\n",
        "                          layers.MaxPooling2D(pool_size=(2,2)),\n",
        "                          layers.Dropout(0.25),\n",
        "\n",
        "                          layers.Flatten(),\n",
        "                          layers.Dense(64, activation='relu'),\n",
        "                          layers.Dropout(0.25),\n",
        "                          layers.Dense(1, activation='sigmoid'),\n",
        "\n",
        "])\n",
        "model.compile(\n",
        "    optimizer=keras.optimizers.Adam(),\n",
        "    loss=[keras.losses.BinaryCrossentropy(from_logits=False)],\n",
        "    metrics=['accuracy'],\n",
        ")"
      ],
      "metadata": {
        "id": "HddYyPyyrkax"
      },
      "execution_count": 9,
      "outputs": []
    },
    {
      "cell_type": "code",
      "source": [
        "model.summary()"
      ],
      "metadata": {
        "colab": {
          "base_uri": "https://localhost:8080/"
        },
        "id": "HRmXENPXxgK6",
        "outputId": "55247897-169a-46ef-a31a-cd2ea9694163"
      },
      "execution_count": 10,
      "outputs": [
        {
          "output_type": "stream",
          "name": "stdout",
          "text": [
            "Model: \"sequential_1\"\n",
            "_________________________________________________________________\n",
            " Layer (type)                Output Shape              Param #   \n",
            "=================================================================\n",
            " conv2d_4 (Conv2D)           (None, 222, 222, 32)      896       \n",
            "                                                                 \n",
            " conv2d_5 (Conv2D)           (None, 220, 220, 64)      18496     \n",
            "                                                                 \n",
            " max_pooling2d_3 (MaxPooling  (None, 110, 110, 64)     0         \n",
            " 2D)                                                             \n",
            "                                                                 \n",
            " dropout_4 (Dropout)         (None, 110, 110, 64)      0         \n",
            "                                                                 \n",
            " conv2d_6 (Conv2D)           (None, 108, 108, 64)      36928     \n",
            "                                                                 \n",
            " max_pooling2d_4 (MaxPooling  (None, 54, 54, 64)       0         \n",
            " 2D)                                                             \n",
            "                                                                 \n",
            " dropout_5 (Dropout)         (None, 54, 54, 64)        0         \n",
            "                                                                 \n",
            " conv2d_7 (Conv2D)           (None, 52, 52, 128)       73856     \n",
            "                                                                 \n",
            " max_pooling2d_5 (MaxPooling  (None, 26, 26, 128)      0         \n",
            " 2D)                                                             \n",
            "                                                                 \n",
            " dropout_6 (Dropout)         (None, 26, 26, 128)       0         \n",
            "                                                                 \n",
            " flatten_1 (Flatten)         (None, 86528)             0         \n",
            "                                                                 \n",
            " dense_2 (Dense)             (None, 64)                5537856   \n",
            "                                                                 \n",
            " dropout_7 (Dropout)         (None, 64)                0         \n",
            "                                                                 \n",
            " dense_3 (Dense)             (None, 1)                 65        \n",
            "                                                                 \n",
            "=================================================================\n",
            "Total params: 5,668,097\n",
            "Trainable params: 5,668,097\n",
            "Non-trainable params: 0\n",
            "_________________________________________________________________\n"
          ]
        }
      ]
    },
    {
      "cell_type": "code",
      "source": [
        "train_datagen = image.ImageDataGenerator(\n",
        "    rescale = 1./255,\n",
        "    shear_range = 0.2,\n",
        "    zoom_range = 0.2,\n",
        "    horizontal_flip = True,\n",
        ")\n",
        "\n",
        "val_datagen =  image.ImageDataGenerator(\n",
        "    rescale = 1./255,\n",
        ")\n",
        "\n"
      ],
      "metadata": {
        "id": "Pqhw0h20xmVy"
      },
      "execution_count": 11,
      "outputs": []
    },
    {
      "cell_type": "code",
      "source": [
        "train_generator = train_datagen.flow_from_directory(\n",
        "    train_path,\n",
        "    target_size = (224, 224),\n",
        "    batch_size = 32,\n",
        "    class_mode = 'binary'\n",
        ")"
      ],
      "metadata": {
        "colab": {
          "base_uri": "https://localhost:8080/"
        },
        "id": "TBKqNtqyzHCQ",
        "outputId": "9810383a-02f1-4869-dba4-e65a93ae084b"
      },
      "execution_count": 16,
      "outputs": [
        {
          "output_type": "stream",
          "name": "stdout",
          "text": [
            "Found 322 images belonging to 2 classes.\n"
          ]
        }
      ]
    },
    {
      "cell_type": "code",
      "source": [
        "train_generator.class_indices"
      ],
      "metadata": {
        "colab": {
          "base_uri": "https://localhost:8080/"
        },
        "id": "Q3FaeGo1zwkv",
        "outputId": "84f6433d-a797-418f-b3ab-85c44c23c37b"
      },
      "execution_count": 17,
      "outputs": [
        {
          "output_type": "execute_result",
          "data": {
            "text/plain": [
              "{'Covid': 0, 'Normal': 1}"
            ]
          },
          "metadata": {},
          "execution_count": 17
        }
      ]
    },
    {
      "cell_type": "code",
      "source": [
        "val_datagerator = val_datagen.flow_from_directory(\n",
        "        val_path,\n",
        "        target_size = (224, 224),\n",
        "        batch_size = 32,\n",
        "        class_mode = 'binary'\n",
        ")"
      ],
      "metadata": {
        "colab": {
          "base_uri": "https://localhost:8080/"
        },
        "id": "jD824Rgvz6tr",
        "outputId": "44fea40e-aa9b-4a69-a3ec-2ea0e597cc83"
      },
      "execution_count": 18,
      "outputs": [
        {
          "output_type": "stream",
          "name": "stdout",
          "text": [
            "Found 70 images belonging to 2 classes.\n"
          ]
        }
      ]
    },
    {
      "cell_type": "code",
      "source": [
        "his = model.fit(\n",
        "    train_generator,\n",
        "    steps_per_epoch = 8,\n",
        "    epochs = 10,\n",
        "    validation_data = val_datagerator,\n",
        "    validation_steps = 2,\n",
        ")"
      ],
      "metadata": {
        "colab": {
          "base_uri": "https://localhost:8080/"
        },
        "id": "qXZVnwYp0xyL",
        "outputId": "af236031-6d8d-4afc-9550-4d94744f0a58"
      },
      "execution_count": 19,
      "outputs": [
        {
          "output_type": "stream",
          "name": "stdout",
          "text": [
            "Epoch 1/10\n",
            "8/8 [==============================] - 23s 1s/step - loss: 1.2373 - accuracy: 0.5575 - val_loss: 0.6838 - val_accuracy: 0.5000\n",
            "Epoch 2/10\n",
            "8/8 [==============================] - 9s 1s/step - loss: 0.6701 - accuracy: 0.5796 - val_loss: 0.6594 - val_accuracy: 0.7344\n",
            "Epoch 3/10\n",
            "8/8 [==============================] - 10s 1s/step - loss: 0.5573 - accuracy: 0.7188 - val_loss: 0.3107 - val_accuracy: 0.9531\n",
            "Epoch 4/10\n",
            "8/8 [==============================] - 9s 1s/step - loss: 0.4517 - accuracy: 0.8363 - val_loss: 0.2815 - val_accuracy: 0.9219\n",
            "Epoch 5/10\n",
            "8/8 [==============================] - 9s 1s/step - loss: 0.3750 - accuracy: 0.8628 - val_loss: 0.2910 - val_accuracy: 0.9531\n",
            "Epoch 6/10\n",
            "8/8 [==============================] - 10s 1s/step - loss: 0.3596 - accuracy: 0.8750 - val_loss: 0.1392 - val_accuracy: 0.9688\n",
            "Epoch 7/10\n",
            "8/8 [==============================] - 9s 1s/step - loss: 0.2341 - accuracy: 0.9204 - val_loss: 0.1040 - val_accuracy: 0.9844\n",
            "Epoch 8/10\n",
            "8/8 [==============================] - 10s 1s/step - loss: 0.1773 - accuracy: 0.9297 - val_loss: 0.0742 - val_accuracy: 0.9844\n",
            "Epoch 9/10\n",
            "8/8 [==============================] - 9s 1s/step - loss: 0.2303 - accuracy: 0.9381 - val_loss: 0.1067 - val_accuracy: 0.9688\n",
            "Epoch 10/10\n",
            "8/8 [==============================] - 9s 1s/step - loss: 0.2955 - accuracy: 0.9027 - val_loss: 0.1269 - val_accuracy: 0.9688\n"
          ]
        }
      ]
    },
    {
      "cell_type": "code",
      "source": [
        "model.evaluate(train_generator)"
      ],
      "metadata": {
        "colab": {
          "base_uri": "https://localhost:8080/"
        },
        "id": "-EzrOgwI2N7k",
        "outputId": "f9909381-21af-4ae0-ac17-17651814b9c5"
      },
      "execution_count": 20,
      "outputs": [
        {
          "output_type": "stream",
          "name": "stdout",
          "text": [
            "11/11 [==============================] - 10s 870ms/step - loss: 0.2614 - accuracy: 0.9379\n"
          ]
        },
        {
          "output_type": "execute_result",
          "data": {
            "text/plain": [
              "[0.2613796293735504, 0.9378882050514221]"
            ]
          },
          "metadata": {},
          "execution_count": 20
        }
      ]
    },
    {
      "cell_type": "code",
      "source": [
        "model.evaluate(val_datagerator)"
      ],
      "metadata": {
        "colab": {
          "base_uri": "https://localhost:8080/"
        },
        "id": "6-UKXjUh3jbG",
        "outputId": "eba57abc-bce6-4a7f-93de-b21c443f3d25"
      },
      "execution_count": 21,
      "outputs": [
        {
          "output_type": "stream",
          "name": "stdout",
          "text": [
            "3/3 [==============================] - 2s 489ms/step - loss: 0.1335 - accuracy: 0.9571\n"
          ]
        },
        {
          "output_type": "execute_result",
          "data": {
            "text/plain": [
              "[0.1335231065750122, 0.9571428298950195]"
            ]
          },
          "metadata": {},
          "execution_count": 21
        }
      ]
    },
    {
      "cell_type": "code",
      "source": [
        "y_actual = []\n",
        "y_test = []"
      ],
      "metadata": {
        "id": "HP2cqJy84tv4"
      },
      "execution_count": 79,
      "outputs": []
    },
    {
      "cell_type": "code",
      "source": [
        "import os"
      ],
      "metadata": {
        "id": "33MhNGnt6ELz"
      },
      "execution_count": 80,
      "outputs": []
    },
    {
      "cell_type": "code",
      "source": [
        "for i in os.listdir('/content/val/NORMAL'):\n",
        "  img = image.load_img('/content/val/NORMAL/'+ i, target_size=(224, 224))\n",
        "  img = image.img_to_array(img)/255\n",
        "  img = np.expand_dims(img, axis = 0)\n",
        "  p = model.predict(img)\n",
        "  if p[0,0]<0.5:\n",
        "    p = 0\n",
        "  else:\n",
        "    p = 1\n",
        "  y_test.append(p)\n",
        "  y_actual.append(1)"
      ],
      "metadata": {
        "id": "euTV-6q05Cq9"
      },
      "execution_count": 81,
      "outputs": []
    },
    {
      "cell_type": "code",
      "source": [
        "y_test"
      ],
      "metadata": {
        "colab": {
          "base_uri": "https://localhost:8080/"
        },
        "id": "qLdFDkBdDdgV",
        "outputId": "e2a2752d-c6d3-465c-d99e-674edd12f4df"
      },
      "execution_count": 84,
      "outputs": [
        {
          "output_type": "execute_result",
          "data": {
            "text/plain": [
              "[1, 1, 1, 1, 1, 1, 1, 1]"
            ]
          },
          "metadata": {},
          "execution_count": 84
        }
      ]
    },
    {
      "cell_type": "code",
      "source": [
        "for i in os.listdir('/content/test'):\n",
        "  img = image.load_img('/content/test/'+ i, target_size=(224, 224))\n",
        "  img = image.img_to_array(img)/255\n",
        "  img = np.expand_dims(img, axis = 0)\n",
        "  p = model.predict(img)\n",
        "  if p[0,0]<0.5:\n",
        "    p = 0\n",
        "  else:\n",
        "    p = 1\n",
        "  y_test.append(p)\n",
        "  y_actual.append(0)"
      ],
      "metadata": {
        "id": "4UHOmH17_zrK"
      },
      "execution_count": 85,
      "outputs": []
    },
    {
      "cell_type": "code",
      "source": [
        "y_test"
      ],
      "metadata": {
        "colab": {
          "base_uri": "https://localhost:8080/"
        },
        "id": "7UGlhMmnDzB-",
        "outputId": "0f529d71-5d02-4f9c-a57e-d473d4be6e8e"
      },
      "execution_count": 87,
      "outputs": [
        {
          "output_type": "execute_result",
          "data": {
            "text/plain": [
              "[1,\n",
              " 1,\n",
              " 1,\n",
              " 1,\n",
              " 1,\n",
              " 1,\n",
              " 1,\n",
              " 1,\n",
              " 0,\n",
              " 0,\n",
              " 0,\n",
              " 0,\n",
              " 0,\n",
              " 0,\n",
              " 0,\n",
              " 0,\n",
              " 0,\n",
              " 0,\n",
              " 0,\n",
              " 0,\n",
              " 0,\n",
              " 0,\n",
              " 0,\n",
              " 1,\n",
              " 0,\n",
              " 1,\n",
              " 0,\n",
              " 1,\n",
              " 0,\n",
              " 0,\n",
              " 1,\n",
              " 0,\n",
              " 0,\n",
              " 0,\n",
              " 0,\n",
              " 0,\n",
              " 1,\n",
              " 0,\n",
              " 0,\n",
              " 1,\n",
              " 1,\n",
              " 1,\n",
              " 0,\n",
              " 0,\n",
              " 0,\n",
              " 0,\n",
              " 0]"
            ]
          },
          "metadata": {},
          "execution_count": 87
        }
      ]
    },
    {
      "cell_type": "code",
      "source": [
        "from sklearn.metrics import confusion_matrix"
      ],
      "metadata": {
        "id": "sHCjRvoV9-9J"
      },
      "execution_count": 73,
      "outputs": []
    },
    {
      "cell_type": "code",
      "source": [
        "cm = confusion_matrix(y_actual, y_test)"
      ],
      "metadata": {
        "id": "Hk3mgy7P-Dzm"
      },
      "execution_count": 88,
      "outputs": []
    },
    {
      "cell_type": "code",
      "source": [
        "import seaborn as sns\n",
        "sns.heatmap(cm, cmap ='plasma', annot=True)"
      ],
      "metadata": {
        "colab": {
          "base_uri": "https://localhost:8080/",
          "height": 282
        },
        "id": "4D3J_vpV-KBP",
        "outputId": "dcc54ab1-378b-4bc7-f42f-ae6df47edf3c"
      },
      "execution_count": 89,
      "outputs": [
        {
          "output_type": "execute_result",
          "data": {
            "text/plain": [
              "<matplotlib.axes._subplots.AxesSubplot at 0x7f465ebb6fd0>"
            ]
          },
          "metadata": {},
          "execution_count": 89
        },
        {
          "output_type": "display_data",
          "data": {
            "text/plain": [
              "<Figure size 432x288 with 2 Axes>"
            ],
            "image/png": "[encoded data removed]"
          },
          "metadata": {
            "needs_background": "light"
          }
        }
      ]
    },
    {
      "cell_type": "code",
      "source": [
        ""
      ],
      "metadata": {
        "id": "_1w-zPQS_nr3"
      },
      "execution_count": null,
      "outputs": []
    }
  ]
}