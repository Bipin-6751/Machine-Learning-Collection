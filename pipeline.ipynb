{
  "nbformat": 4,
  "nbformat_minor": 0,
  "metadata": {
    "colab": {
      "name": "pipeline.ipynb",
      "provenance": [],
      "collapsed_sections": [],
      "authorship_tag": "ABX9TyOWgZTAmKFHV70X//YQHDbC",
      "include_colab_link": true
    },
    "kernelspec": {
      "name": "python3",
      "display_name": "Python 3"
    },
    "language_info": {
      "name": "python"
    },
    "accelerator": "GPU"
  },
  "cells": [
    {
      "cell_type": "markdown",
      "metadata": {
        "id": "view-in-github",
        "colab_type": "text"
      },
      "source": [
        "<a href=\"https://colab.research.google.com/github/Bipin-6751/Machine-Learning-Collection/blob/master/pipeline.ipynb\" target=\"_parent\"><img src=\"https://colab.research.google.com/assets/colab-badge.svg\" alt=\"Open In Colab\"/></a>"
      ]
    },
    {
      "cell_type": "code",
      "execution_count": 1,
      "metadata": {
        "id": "BlqM1E9VmPY4"
      },
      "outputs": [],
      "source": [
        "import tensorflow as tf"
      ]
    },
    {
      "cell_type": "code",
      "source": [
        "daily_sales_numbers = [21, 22, -108, 31, -1, 32, 34,31]\n",
        "\n",
        "tf_dataset = tf.data.Dataset.from_tensor_slices(daily_sales_numbers)\n",
        "tf_dataset"
      ],
      "metadata": {
        "colab": {
          "base_uri": "https://localhost:8080/"
        },
        "id": "k1G57fIjmgms",
        "outputId": "c1eacde1-7474-4642-f1e8-98559cb785f4"
      },
      "execution_count": 2,
      "outputs": [
        {
          "output_type": "execute_result",
          "data": {
            "text/plain": [
              "<TensorSliceDataset element_spec=TensorSpec(shape=(), dtype=tf.int32, name=None)>"
            ]
          },
          "metadata": {},
          "execution_count": 2
        }
      ]
    },
    {
      "cell_type": "code",
      "source": [
        "for sales in tf_dataset:\n",
        "    print(sales.numpy())"
      ],
      "metadata": {
        "colab": {
          "base_uri": "https://localhost:8080/"
        },
        "id": "dtTr-VlhHmXa",
        "outputId": "8bb36b9f-185d-407c-a0cb-fd70d0fb5cd0"
      },
      "execution_count": 3,
      "outputs": [
        {
          "output_type": "stream",
          "name": "stdout",
          "text": [
            "21\n",
            "22\n",
            "-108\n",
            "31\n",
            "-1\n",
            "32\n",
            "34\n",
            "31\n"
          ]
        }
      ]
    },
    {
      "cell_type": "code",
      "source": [
        "for sales in tf_dataset.take(3):\n",
        "    print(sales.numpy())"
      ],
      "metadata": {
        "colab": {
          "base_uri": "https://localhost:8080/"
        },
        "id": "O0w6ra_6HyBs",
        "outputId": "113720a5-addf-4530-865d-c036642c7876"
      },
      "execution_count": 4,
      "outputs": [
        {
          "output_type": "stream",
          "name": "stdout",
          "text": [
            "21\n",
            "22\n",
            "-108\n"
          ]
        }
      ]
    },
    {
      "cell_type": "code",
      "source": [
        ""
      ],
      "metadata": {
        "id": "lIf_F9B4Hz9G"
      },
      "execution_count": null,
      "outputs": []
    },
    {
      "cell_type": "code",
      "source": [
        "tf_dataset = tf_dataset.filter(lambda x: x>0)\n",
        "for sales in tf_dataset.as_numpy_iterator():\n",
        "    print(sales)"
      ],
      "metadata": {
        "colab": {
          "base_uri": "https://localhost:8080/"
        },
        "id": "m6S-fCytH2aM",
        "outputId": "2b03ba42-efa7-4f78-933f-f0b59d30e15e"
      },
      "execution_count": 5,
      "outputs": [
        {
          "output_type": "stream",
          "name": "stdout",
          "text": [
            "21\n",
            "22\n",
            "31\n",
            "32\n",
            "34\n",
            "31\n"
          ]
        }
      ]
    },
    {
      "cell_type": "markdown",
      "source": [
        "converting dollar into indian rupees"
      ],
      "metadata": {
        "id": "HhdC62QIICrW"
      }
    },
    {
      "cell_type": "code",
      "source": [
        "tf_dataset = tf_dataset.map(lambda x: x*72)\n",
        "for sales in tf_dataset.as_numpy_iterator():\n",
        "    print(sales)"
      ],
      "metadata": {
        "colab": {
          "base_uri": "https://localhost:8080/"
        },
        "id": "KZbLbJcYIAqI",
        "outputId": "1c1eb943-a761-44af-dfc7-d82a4015fab9"
      },
      "execution_count": 6,
      "outputs": [
        {
          "output_type": "stream",
          "name": "stdout",
          "text": [
            "1512\n",
            "1584\n",
            "2232\n",
            "2304\n",
            "2448\n",
            "2232\n"
          ]
        }
      ]
    },
    {
      "cell_type": "code",
      "source": [
        "tf_dataset = tf_dataset.shuffle(2)\n",
        "for sales in tf_dataset.as_numpy_iterator():\n",
        "    print(sales)"
      ],
      "metadata": {
        "colab": {
          "base_uri": "https://localhost:8080/"
        },
        "id": "mtJcyuHvIMZQ",
        "outputId": "4207916f-8680-4225-fd75-fdd47d098ec9"
      },
      "execution_count": 7,
      "outputs": [
        {
          "output_type": "stream",
          "name": "stdout",
          "text": [
            "1584\n",
            "1512\n",
            "2304\n",
            "2448\n",
            "2232\n",
            "2232\n"
          ]
        }
      ]
    },
    {
      "cell_type": "code",
      "source": [
        "for sales_batch in tf_dataset.batch(2):\n",
        "    print(sales_batch.numpy())"
      ],
      "metadata": {
        "colab": {
          "base_uri": "https://localhost:8080/"
        },
        "id": "BySggmjFIWch",
        "outputId": "375eaff3-833e-4d68-f041-535c2a65b183"
      },
      "execution_count": 8,
      "outputs": [
        {
          "output_type": "stream",
          "name": "stdout",
          "text": [
            "[1512 2232]\n",
            "[2304 1584]\n",
            "[2448 2232]\n"
          ]
        }
      ]
    },
    {
      "cell_type": "code",
      "source": [
        "tf_dataset = tf.data.Dataset.from_tensor_slices(daily_sales_numbers)\n",
        "\n",
        "tf_dataset = tf_dataset.filter(lambda x: x>0).map(lambda y: y*72).shuffle(2).batch(2)\n",
        "for sales in tf_dataset.as_numpy_iterator():\n",
        "    print(sales)"
      ],
      "metadata": {
        "colab": {
          "base_uri": "https://localhost:8080/"
        },
        "id": "3rTzXzDzIuJQ",
        "outputId": "feffb218-9bdd-4156-f98f-9d924f16ae59"
      },
      "execution_count": 9,
      "outputs": [
        {
          "output_type": "stream",
          "name": "stdout",
          "text": [
            "[1512 2232]\n",
            "[2304 2448]\n",
            "[2232 1584]\n"
          ]
        }
      ]
    },
    {
      "cell_type": "code",
      "source": [
        "!unzip images.zip"
      ],
      "metadata": {
        "id": "SSiY9en5LZc6"
      },
      "execution_count": null,
      "outputs": []
    },
    {
      "cell_type": "code",
      "source": [
        "images_ds = tf.data.Dataset.list_files('images/*/*', shuffle=False)"
      ],
      "metadata": {
        "id": "X-y79E1aJBWz"
      },
      "execution_count": 11,
      "outputs": []
    },
    {
      "cell_type": "code",
      "source": [
        "for file in images_ds.take(3):\n",
        "  print(file.numpy())"
      ],
      "metadata": {
        "colab": {
          "base_uri": "https://localhost:8080/"
        },
        "id": "y0fm6dUWLtrn",
        "outputId": "8ac263fb-61a7-4e78-f8eb-f5ddbdad9590"
      },
      "execution_count": 13,
      "outputs": [
        {
          "output_type": "stream",
          "name": "stdout",
          "text": [
            "b'images/cat/20 Reasons Why Cats Make the Best Pets....jpg'\n",
            "b'images/cat/7 Foods Your Cat Can_t Eat.jpg'\n",
            "b'images/cat/A cat appears to have caught the....jpg'\n"
          ]
        }
      ]
    },
    {
      "cell_type": "code",
      "source": [
        "image_count = len(images_ds)\n",
        "image_count"
      ],
      "metadata": {
        "colab": {
          "base_uri": "https://localhost:8080/"
        },
        "id": "VVlo3GBQMJSH",
        "outputId": "59b13397-1197-4dfe-ceb3-c18f7fb8440a"
      },
      "execution_count": 14,
      "outputs": [
        {
          "output_type": "execute_result",
          "data": {
            "text/plain": [
              "130"
            ]
          },
          "metadata": {},
          "execution_count": 14
        }
      ]
    },
    {
      "cell_type": "code",
      "source": [
        "type(images_ds)"
      ],
      "metadata": {
        "colab": {
          "base_uri": "https://localhost:8080/"
        },
        "id": "aWKDAoZoMP4n",
        "outputId": "c1440689-da4d-4115-f1d3-5aa8fee831b1"
      },
      "execution_count": 15,
      "outputs": [
        {
          "output_type": "execute_result",
          "data": {
            "text/plain": [
              "tensorflow.python.data.ops.dataset_ops.TensorSliceDataset"
            ]
          },
          "metadata": {},
          "execution_count": 15
        }
      ]
    },
    {
      "cell_type": "code",
      "source": [
        "images_ds = images_ds.shuffle(200)\n",
        "for file in images_ds.take(3):\n",
        "    print(file.numpy())"
      ],
      "metadata": {
        "colab": {
          "base_uri": "https://localhost:8080/"
        },
        "id": "TZAUL9gMMUbz",
        "outputId": "d6d14fb7-5d83-43ed-919e-0f39e5753722"
      },
      "execution_count": 16,
      "outputs": [
        {
          "output_type": "stream",
          "name": "stdout",
          "text": [
            "b'images/cat/China_s First Cloned Kitten_ Garlic....png'\n",
            "b'images/dog/The 20 Best Dog Breeds for Runners....jpg'\n",
            "b'images/dog/Dog Breeds Banned By Home Insurance....jpg'\n"
          ]
        }
      ]
    },
    {
      "cell_type": "code",
      "source": [
        "class_names = [\"cat\",\"dog\"]"
      ],
      "metadata": {
        "id": "eKT6_QU6MYqx"
      },
      "execution_count": 17,
      "outputs": []
    },
    {
      "cell_type": "code",
      "source": [
        "train_size = int(image_count*0.8)\n",
        "train_ds = images_ds.take(train_size)\n",
        "test_ds = images_ds.skip(train_size)"
      ],
      "metadata": {
        "id": "9Kv8zhheMbxq"
      },
      "execution_count": 18,
      "outputs": []
    },
    {
      "cell_type": "code",
      "source": [
        "len(train_ds)"
      ],
      "metadata": {
        "colab": {
          "base_uri": "https://localhost:8080/"
        },
        "id": "zIbrzTl3MlSC",
        "outputId": "4ca4796a-4066-4e74-df15-4fbd1a2a4ec1"
      },
      "execution_count": 19,
      "outputs": [
        {
          "output_type": "execute_result",
          "data": {
            "text/plain": [
              "104"
            ]
          },
          "metadata": {},
          "execution_count": 19
        }
      ]
    },
    {
      "cell_type": "code",
      "source": [
        "len(test_ds)"
      ],
      "metadata": {
        "colab": {
          "base_uri": "https://localhost:8080/"
        },
        "id": "D1tssQVHMoCN",
        "outputId": "bed76dd1-a99d-4128-e02b-fca3794e63d7"
      },
      "execution_count": 20,
      "outputs": [
        {
          "output_type": "execute_result",
          "data": {
            "text/plain": [
              "26"
            ]
          },
          "metadata": {},
          "execution_count": 20
        }
      ]
    },
    {
      "cell_type": "code",
      "source": [
        "def get_label(file_path):\n",
        "    import os\n",
        "    parts = tf.strings.split(file_path, os.path.sep)\n",
        "    return parts[-2]"
      ],
      "metadata": {
        "id": "GIF17VEZMua8"
      },
      "execution_count": 21,
      "outputs": []
    },
    {
      "cell_type": "code",
      "source": [
        "get_label(\"images/dog/20 Reasons Why Cats Make the Best Pets....jpg\")"
      ],
      "metadata": {
        "colab": {
          "base_uri": "https://localhost:8080/"
        },
        "id": "fDZrKWy7M5a0",
        "outputId": "224cab2d-ae87-4967-a29e-0ec3e975c3b3"
      },
      "execution_count": 23,
      "outputs": [
        {
          "output_type": "execute_result",
          "data": {
            "text/plain": [
              "<tf.Tensor: shape=(), dtype=string, numpy=b'dog'>"
            ]
          },
          "metadata": {},
          "execution_count": 23
        }
      ]
    },
    {
      "cell_type": "code",
      "source": [
        "def process_image(file_path):\n",
        "    label = get_label(file_path)\n",
        "    img = tf.io.read_file(file_path) # load the raw data from the file as a string\n",
        "    img = tf.image.decode_jpeg(img)\n",
        "    img = tf.image.resize(img, [128, 128])\n",
        "    return img, label"
      ],
      "metadata": {
        "id": "Igj8PwiENcpS"
      },
      "execution_count": 24,
      "outputs": []
    },
    {
      "cell_type": "code",
      "source": [
        "img, label = process_image(\"images/cat/20 Reasons Why Cats Make the Best Pets....jpg\")\n",
        "img.numpy()[:2]"
      ],
      "metadata": {
        "colab": {
          "base_uri": "https://localhost:8080/"
        },
        "id": "Ztt3CPEQNpqR",
        "outputId": "9c862949-519e-4b11-f48e-2afa12a96f45"
      },
      "execution_count": 25,
      "outputs": [
        {
          "output_type": "execute_result",
          "data": {
            "text/plain": [
              "array([[[155.      , 186.      , 215.      ],\n",
              "        [156.      , 187.      , 216.      ],\n",
              "        [158.      , 189.      , 218.      ],\n",
              "        [160.0039  , 189.0039  , 219.0039  ],\n",
              "        [161.0039  , 190.0039  , 220.0039  ],\n",
              "        [162.      , 191.      , 221.      ],\n",
              "        [166.      , 193.      , 222.      ],\n",
              "        [167.      , 194.      , 223.      ],\n",
              "        [168.      , 195.      , 224.      ],\n",
              "        [169.      , 196.      , 225.      ],\n",
              "        [170.      , 197.      , 224.      ],\n",
              "        [170.0039  , 197.0039  , 224.0039  ],\n",
              "        [172.      , 199.      , 226.      ],\n",
              "        [173.0039  , 199.0039  , 224.0039  ],\n",
              "        [174.0039  , 200.0039  , 225.0039  ],\n",
              "        [175.0039  , 201.0039  , 226.0039  ],\n",
              "        [176.      , 202.      , 227.      ],\n",
              "        [177.0039  , 203.0039  , 228.0039  ],\n",
              "        [177.0039  , 203.0039  , 228.0039  ],\n",
              "        [179.0039  , 203.0039  , 227.0039  ],\n",
              "        [180.0039  , 204.0039  , 228.0039  ],\n",
              "        [180.0039  , 204.0039  , 228.0039  ],\n",
              "        [181.0039  , 206.0039  , 228.0039  ],\n",
              "        [182.0039  , 207.0039  , 229.0039  ],\n",
              "        [184.      , 209.      , 231.      ],\n",
              "        [184.      , 209.      , 231.      ],\n",
              "        [184.      , 209.      , 231.      ],\n",
              "        [184.      , 209.      , 231.      ],\n",
              "        [182.9961  , 207.9961  , 229.9961  ],\n",
              "        [174.9961  , 201.9961  , 222.9961  ],\n",
              "        [168.9961  , 195.9961  , 216.9961  ],\n",
              "        [158.99219 , 185.99219 , 206.99219 ],\n",
              "        [143.9961  , 168.9961  , 190.9961  ],\n",
              "        [131.9961  , 148.98828 , 168.98438 ],\n",
              "        [115.98828 , 126.97266 , 132.97266 ],\n",
              "        [106.98047 , 102.984375,  99.97656 ],\n",
              "        [ 98.99219 ,  95.984375,  90.98047 ],\n",
              "        [ 97.99219 ,  95.99219 ,  83.98828 ],\n",
              "        [ 97.99219 ,  91.99219 ,  77.99219 ],\n",
              "        [ 98.99609 ,  91.99609 ,  75.99609 ],\n",
              "        [ 99.      ,  92.      ,  74.      ],\n",
              "        [102.      ,  95.      ,  77.      ],\n",
              "        [112.99609 , 103.99609 ,  86.99609 ],\n",
              "        [125.99609 , 113.99609 ,  99.99609 ],\n",
              "        [133.99219 , 119.99219 , 108.99219 ],\n",
              "        [139.99219 , 127.99219 , 113.99219 ],\n",
              "        [143.9961  , 131.9961  , 117.99609 ],\n",
              "        [143.9961  , 131.9961  , 117.99609 ],\n",
              "        [142.      , 128.      , 119.      ],\n",
              "        [135.0039  , 122.00391 , 113.00391 ],\n",
              "        [122.00391 , 114.00391 , 103.00391 ],\n",
              "        [112.00391 , 103.00391 ,  94.00391 ],\n",
              "        [102.00391 ,  95.00391 ,  87.00391 ],\n",
              "        [ 91.      ,  86.      ,  80.      ],\n",
              "        [ 83.      ,  78.      ,  72.      ],\n",
              "        [ 75.00391 ,  70.00391 ,  64.00391 ],\n",
              "        [ 69.      ,  64.      ,  58.      ],\n",
              "        [ 61.      ,  58.      ,  51.      ],\n",
              "        [ 59.      ,  54.      ,  51.      ],\n",
              "        [ 61.996094,  52.996094,  55.996094],\n",
              "        [ 62.996094,  49.996094,  58.996094],\n",
              "        [ 61.      ,  49.      ,  53.      ],\n",
              "        [ 60.      ,  48.      ,  52.      ],\n",
              "        [ 59.      ,  47.      ,  51.      ],\n",
              "        [ 57.      ,  45.      ,  49.      ],\n",
              "        [ 55.      ,  45.      ,  44.      ],\n",
              "        [ 50.996094,  43.996094,  37.996094],\n",
              "        [ 45.996094,  42.996094,  35.996094],\n",
              "        [ 45.996094,  42.996094,  33.996094],\n",
              "        [ 45.      ,  43.      ,  31.      ],\n",
              "        [ 46.      ,  44.      ,  31.      ],\n",
              "        [ 48.      ,  46.      ,  33.      ],\n",
              "        [ 48.      ,  46.      ,  33.      ],\n",
              "        [ 49.003906,  47.003906,  34.003906],\n",
              "        [ 57.003906,  55.003906,  42.003906],\n",
              "        [ 63.007812,  61.007812,  48.007812],\n",
              "        [ 71.01172 ,  69.01172 ,  56.01172 ],\n",
              "        [ 75.01172 ,  73.01172 ,  61.01172 ],\n",
              "        [ 77.00781 ,  75.00781 ,  63.007812],\n",
              "        [ 78.00391 ,  76.00391 ,  64.00391 ],\n",
              "        [ 77.00391 ,  75.00391 ,  63.003906],\n",
              "        [ 74.00781 ,  72.00781 ,  59.007812],\n",
              "        [ 73.00391 ,  71.00391 ,  56.003906],\n",
              "        [ 77.00391 ,  71.00391 ,  55.003906],\n",
              "        [ 82.      ,  76.      ,  60.      ],\n",
              "        [ 85.00391 ,  79.00391 ,  63.003906],\n",
              "        [ 88.      ,  82.      ,  70.      ],\n",
              "        [ 88.      ,  81.      ,  71.      ],\n",
              "        [ 85.      ,  82.      ,  75.      ],\n",
              "        [ 83.      ,  80.      ,  73.      ],\n",
              "        [ 77.99609 ,  76.99609 ,  71.99609 ],\n",
              "        [ 74.99609 ,  73.99609 ,  69.99609 ],\n",
              "        [ 72.      ,  71.      ,  69.      ],\n",
              "        [ 70.      ,  69.      ,  65.      ],\n",
              "        [ 69.      ,  68.      ,  64.      ],\n",
              "        [ 69.      ,  68.      ,  64.      ],\n",
              "        [ 70.      ,  69.      ,  65.      ],\n",
              "        [ 71.      ,  70.      ,  66.      ],\n",
              "        [ 70.      ,  69.      ,  65.      ],\n",
              "        [ 69.99609 ,  68.99609 ,  66.99609 ],\n",
              "        [ 68.      ,  67.      ,  65.      ],\n",
              "        [ 66.      ,  65.      ,  63.      ],\n",
              "        [ 64.      ,  63.      ,  59.      ],\n",
              "        [ 63.      ,  62.      ,  58.      ],\n",
              "        [ 63.      ,  62.      ,  58.      ],\n",
              "        [ 65.      ,  64.      ,  60.      ],\n",
              "        [ 69.00391 ,  70.00391 ,  65.00391 ],\n",
              "        [ 78.00391 ,  78.00391 ,  69.99609 ],\n",
              "        [ 89.00781 ,  87.00781 ,  75.00781 ],\n",
              "        [103.00391 ,  97.00391 ,  83.00391 ],\n",
              "        [113.01172 , 106.01172 ,  90.01172 ],\n",
              "        [123.00781 , 114.00781 ,  97.00781 ],\n",
              "        [135.01172 , 124.01172 , 102.01172 ],\n",
              "        [144.00781 , 133.00781 , 111.00781 ],\n",
              "        [149.0039  , 138.0039  , 116.00391 ],\n",
              "        [149.00781 , 137.00781 , 111.00781 ],\n",
              "        [147.0039  , 135.0039  , 111.00391 ],\n",
              "        [145.0039  , 133.0039  , 111.00391 ],\n",
              "        [140.0039  , 127.00391 , 108.00391 ],\n",
              "        [130.0039  , 119.00391 , 101.00391 ],\n",
              "        [118.00391 , 108.00391 ,  96.00391 ],\n",
              "        [108.      , 100.      ,  89.      ],\n",
              "        [ 99.      ,  93.      ,  79.      ],\n",
              "        [ 96.99609 ,  90.99609 ,  76.99609 ],\n",
              "        [ 94.      ,  88.      ,  74.      ],\n",
              "        [ 90.99609 ,  84.99609 ,  72.99609 ],\n",
              "        [ 92.      ,  86.      ,  74.      ],\n",
              "        [ 93.      ,  87.      ,  75.      ]],\n",
              "\n",
              "       [[156.01172 , 187.01172 , 216.01172 ],\n",
              "        [157.02344 , 188.02344 , 217.02344 ],\n",
              "        [159.01172 , 190.01172 , 219.01172 ],\n",
              "        [162.      , 191.      , 221.      ],\n",
              "        [163.      , 192.      , 222.      ],\n",
              "        [164.01172 , 193.01172 , 223.01172 ],\n",
              "        [167.01172 , 194.01172 , 223.01172 ],\n",
              "        [168.01172 , 195.01172 , 224.01172 ],\n",
              "        [169.      , 196.      , 225.      ],\n",
              "        [170.01172 , 197.01172 , 226.01172 ],\n",
              "        [171.01172 , 198.01172 , 225.01172 ],\n",
              "        [172.      , 199.      , 226.      ],\n",
              "        [173.      , 200.      , 227.      ],\n",
              "        [175.      , 201.      , 226.      ],\n",
              "        [176.      , 202.      , 227.      ],\n",
              "        [177.      , 203.      , 228.      ],\n",
              "        [177.      , 203.      , 228.      ],\n",
              "        [178.98828 , 204.98828 , 229.98828 ],\n",
              "        [179.      , 205.      , 230.      ],\n",
              "        [181.      , 205.      , 229.      ],\n",
              "        [182.      , 206.      , 230.      ],\n",
              "        [182.      , 206.      , 230.      ],\n",
              "        [183.      , 208.      , 230.      ],\n",
              "        [184.      , 209.      , 231.      ],\n",
              "        [184.98828 , 209.98828 , 231.98828 ],\n",
              "        [184.97656 , 209.97656 , 231.97656 ],\n",
              "        [186.      , 207.98828 , 230.96484 ],\n",
              "        [185.      , 206.98828 , 229.96484 ],\n",
              "        [180.01172 , 202.      , 224.97656 ],\n",
              "        [173.01172 , 194.98828 , 218.98828 ],\n",
              "        [167.01172 , 186.98828 , 210.96484 ],\n",
              "        [154.02344 , 175.      , 193.97656 ],\n",
              "        [138.      , 158.97656 , 177.92969 ],\n",
              "        [125.98828 , 136.95312 , 142.91797 ],\n",
              "        [109.      , 105.98828 ,  98.96484 ],\n",
              "        [101.01172 ,  93.      ,  79.97656 ],\n",
              "        [ 99.03516 ,  91.02344 ,  78.      ],\n",
              "        [ 99.      ,  91.97656 ,  73.98828 ],\n",
              "        [ 98.97656 ,  90.97656 ,  77.97656 ],\n",
              "        [ 99.      ,  92.      ,  76.      ],\n",
              "        [ 99.      ,  92.      ,  74.      ],\n",
              "        [101.96484 ,  94.96484 ,  76.96484 ],\n",
              "        [109.98828 , 100.98828 ,  85.98828 ],\n",
              "        [120.01172 , 108.01172 ,  96.01172 ],\n",
              "        [131.01172 , 117.01172 , 108.01172 ],\n",
              "        [138.02344 , 126.01172 , 114.046875],\n",
              "        [143.      , 130.98828 , 119.02344 ],\n",
              "        [146.01172 , 134.      , 122.03516 ],\n",
              "        [144.02344 , 130.02344 , 121.02344 ],\n",
              "        [138.98828 , 125.98828 , 116.98828 ],\n",
              "        [128.01172 , 120.01172 , 109.01172 ],\n",
              "        [115.02344 , 106.02344 ,  97.02344 ],\n",
              "        [105.01172 ,  98.01172 ,  90.01172 ],\n",
              "        [ 92.98828 ,  87.98828 ,  81.98828 ],\n",
              "        [ 82.98828 ,  79.98828 ,  72.98828 ],\n",
              "        [ 76.      ,  73.      ,  66.      ],\n",
              "        [ 68.01172 ,  65.01172 ,  58.01172 ],\n",
              "        [ 61.      ,  58.      ,  51.      ],\n",
              "        [ 59.      ,  54.      ,  51.      ],\n",
              "        [ 60.023438,  51.023438,  54.023438],\n",
              "        [ 61.01172 ,  48.01172 ,  57.01172 ],\n",
              "        [ 60.      ,  48.      ,  52.      ],\n",
              "        [ 60.01172 ,  48.01172 ,  52.01172 ],\n",
              "        [ 59.      ,  47.      ,  51.      ],\n",
              "        [ 56.      ,  46.      ,  47.      ],\n",
              "        [ 53.98828 ,  45.98828 ,  42.98828 ],\n",
              "        [ 45.98828 ,  41.98828 ,  32.98828 ],\n",
              "        [ 42.98828 ,  40.      ,  30.964844],\n",
              "        [ 42.98828 ,  40.98828 ,  28.976562],\n",
              "        [ 43.98828 ,  41.98828 ,  28.964844],\n",
              "        [ 46.      ,  44.      ,  31.      ],\n",
              "        [ 48.035156,  46.035156,  33.035156],\n",
              "        [ 51.046875,  49.046875,  36.046875],\n",
              "        [ 58.046875,  56.046875,  43.046875],\n",
              "        [ 70.01172 ,  66.01172 ,  54.01172 ],\n",
              "        [ 76.03516 ,  72.03516 ,  60.035156],\n",
              "        [ 84.05859 ,  80.05859 ,  68.05859 ],\n",
              "        [ 87.03516 ,  85.03516 ,  73.03516 ],\n",
              "        [ 85.05859 ,  83.05859 ,  71.05859 ],\n",
              "        [ 86.02344 ,  84.02344 ,  72.02344 ],\n",
              "        [ 83.02344 ,  80.02344 ,  71.046875],\n",
              "        [ 81.01172 ,  79.      ,  67.03516 ],\n",
              "        [ 79.02344 ,  77.02344 ,  64.02344 ],\n",
              "        [ 83.01172 ,  77.01172 ,  63.035156],\n",
              "        [ 84.02344 ,  78.02344 ,  64.046875],\n",
              "        [ 88.      ,  82.      ,  68.02344 ],\n",
              "        [ 89.98828 ,  82.98828 ,  72.98828 ],\n",
              "        [ 90.01172 ,  83.01172 ,  73.01172 ],\n",
              "        [ 85.      ,  82.      ,  75.      ],\n",
              "        [ 83.      ,  80.      ,  73.      ],\n",
              "        [ 76.      ,  75.      ,  70.      ],\n",
              "        [ 73.01172 ,  72.01172 ,  68.01172 ],\n",
              "        [ 71.      ,  70.      ,  68.      ],\n",
              "        [ 70.      ,  69.      ,  65.      ],\n",
              "        [ 69.      ,  68.      ,  64.      ],\n",
              "        [ 69.      ,  68.      ,  64.      ],\n",
              "        [ 69.      ,  68.      ,  64.      ],\n",
              "        [ 69.98828 ,  68.98828 ,  64.98828 ],\n",
              "        [ 69.      ,  68.      ,  64.      ],\n",
              "        [ 67.98828 ,  66.98828 ,  62.98828 ],\n",
              "        [ 66.98828 ,  65.98828 ,  61.98828 ],\n",
              "        [ 64.98828 ,  63.98828 ,  59.98828 ],\n",
              "        [ 63.      ,  62.      ,  58.      ],\n",
              "        [ 62.      ,  61.      ,  57.      ],\n",
              "        [ 63.      ,  62.      ,  58.      ],\n",
              "        [ 65.02344 ,  64.02344 ,  60.023438],\n",
              "        [ 72.03516 ,  71.01172 ,  65.98828 ],\n",
              "        [ 83.02344 ,  80.01172 ,  70.98828 ],\n",
              "        [ 96.03516 ,  92.01172 ,  79.98828 ],\n",
              "        [112.03516 , 106.02344 ,  90.02344 ],\n",
              "        [127.02344 , 118.03516 , 101.01172 ],\n",
              "        [135.0586  , 127.02344 , 108.03516 ],\n",
              "        [145.98828 , 134.98828 , 112.98828 ],\n",
              "        [150.98828 , 139.98828 , 117.98828 ],\n",
              "        [152.01172 , 141.01172 , 119.01172 ],\n",
              "        [150.98828 , 139.01172 , 115.      ],\n",
              "        [144.98828 , 133.      , 111.      ],\n",
              "        [143.98828 , 131.01172 , 112.      ],\n",
              "        [139.98828 , 128.98828 , 110.98828 ],\n",
              "        [130.97656 , 119.01172 , 103.02344 ],\n",
              "        [118.98828 , 110.98828 ,  99.98828 ],\n",
              "        [107.96484 , 100.96484 ,  90.96484 ],\n",
              "        [ 96.97656 ,  92.97656 ,  82.      ],\n",
              "        [ 92.01172 ,  88.01172 ,  77.03516 ],\n",
              "        [ 89.98828 ,  85.98828 ,  75.01172 ],\n",
              "        [ 86.98828 ,  82.97656 ,  74.01172 ],\n",
              "        [ 89.97656 ,  85.96484 ,  77.      ],\n",
              "        [ 91.      ,  86.98828 ,  78.02344 ]]], dtype=float32)"
            ]
          },
          "metadata": {},
          "execution_count": 25
        }
      ]
    },
    {
      "cell_type": "code",
      "source": [
        "train_ds = train_ds.map(process_image)\n",
        "test_ds = test_ds.map(process_image)"
      ],
      "metadata": {
        "id": "IqS5iQQvOQrF"
      },
      "execution_count": 26,
      "outputs": []
    },
    {
      "cell_type": "code",
      "source": [
        "for image, label in train_ds.take(1):\n",
        "    print(\"****\",image)\n",
        "    print(\"****\",label)"
      ],
      "metadata": {
        "colab": {
          "base_uri": "https://localhost:8080/"
        },
        "id": "iYlEfzx8OWO0",
        "outputId": "88d81c21-91e5-41e2-db41-9868a421b192"
      },
      "execution_count": 27,
      "outputs": [
        {
          "output_type": "stream",
          "name": "stdout",
          "text": [
            "**** tf.Tensor(\n",
            "[[[224.       231.       241.      ]\n",
            "  [226.       233.       243.      ]\n",
            "  [228.       230.       242.      ]\n",
            "  ...\n",
            "  [220.5      227.5      233.5     ]\n",
            "  [221.94922  228.94922  238.94922 ]\n",
            "  [197.37988  204.37988  214.37988 ]]\n",
            "\n",
            " [[228.       231.       238.      ]\n",
            "  [228.       231.       238.      ]\n",
            "  [228.75     230.75     242.75    ]\n",
            "  ...\n",
            "  [224.       231.       241.      ]\n",
            "  [222.       229.       239.      ]\n",
            "  [222.       229.       239.      ]]\n",
            "\n",
            " [[228.       231.       238.      ]\n",
            "  [225.94922  228.94922  235.94922 ]\n",
            "  [228.31348  230.62695  241.68652 ]\n",
            "  ...\n",
            "  [224.       231.       240.37305 ]\n",
            "  [222.       229.       238.92383 ]\n",
            "  [222.       229.       238.52539 ]]\n",
            "\n",
            " ...\n",
            "\n",
            " [[214.46484  146.5752   117.4707  ]\n",
            "  [165.0039    62.376953  32.063477]\n",
            "  [239.51172  188.39941  158.88086 ]\n",
            "  ...\n",
            "  [207.48535  134.28027  109.88086 ]\n",
            "  [194.38086  113.34668   86.93164 ]\n",
            "  [234.48438  191.06055  166.62695 ]]\n",
            "\n",
            " [[181.2334    80.9707    56.442383]\n",
            "  [214.22461  157.16602  133.60254 ]\n",
            "  [222.12695  168.91406  139.93262 ]\n",
            "  ...\n",
            "  [220.51172  146.40723  124.28418 ]\n",
            "  [218.22461  157.12305  146.27148 ]\n",
            "  [224.5039   165.14355  148.88086 ]]\n",
            "\n",
            " [[215.95312  146.78906  114.15625 ]\n",
            "  [220.03809  140.34766  104.52539 ]\n",
            "  [230.85059  175.98828  149.69727 ]\n",
            "  ...\n",
            "  [224.       169.58984  148.51172 ]\n",
            "  [225.45312  142.44434  108.35547 ]\n",
            "  [183.03125   92.69238   58.217773]]], shape=(128, 128, 3), dtype=float32)\n",
            "**** tf.Tensor(b'cat', shape=(), dtype=string)\n"
          ]
        }
      ]
    },
    {
      "cell_type": "code",
      "source": [
        "def scale(image, label):\n",
        "    return image/255, label"
      ],
      "metadata": {
        "id": "RAVJ7W2TOdLM"
      },
      "execution_count": 28,
      "outputs": []
    },
    {
      "cell_type": "code",
      "source": [
        "train_ds = train_ds.map(scale)"
      ],
      "metadata": {
        "id": "j9qQRz1TOgd2"
      },
      "execution_count": 29,
      "outputs": []
    },
    {
      "cell_type": "code",
      "source": [
        "for image, label in train_ds.take(5):\n",
        "    print(\"****Image: \",image.numpy()[0][0])\n",
        "    print(\"****Label: \",label.numpy())"
      ],
      "metadata": {
        "colab": {
          "base_uri": "https://localhost:8080/"
        },
        "id": "ZsY004a0OlZM",
        "outputId": "a2595a32-2568-4249-e842-90c82b436ac1"
      },
      "execution_count": 30,
      "outputs": [
        {
          "output_type": "stream",
          "name": "stdout",
          "text": [
            "****Image:  [0.15179132 0.06159524 0.00154622]\n",
            "****Label:  b'cat'\n",
            "****Image:  [0.8056679  0.7507659  0.74684435]\n",
            "****Label:  b'dog'\n",
            "****Image:  [0.51690507 0.42278743 0.38357174]\n",
            "****Label:  b'dog'\n",
            "****Image:  [0.82817096 0.8203278  0.7693474 ]\n",
            "****Label:  b'cat'\n",
            "****Image:  [0.6878983  0.69181985 0.672212  ]\n",
            "****Label:  b'cat'\n"
          ]
        }
      ]
    }
  ]
}